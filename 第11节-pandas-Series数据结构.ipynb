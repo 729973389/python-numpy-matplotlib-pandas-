{
 "cells": [
  {
   "cell_type": "markdown",
   "metadata": {},
   "source": [
    "# Series 结构"
   ]
  },
  {
   "cell_type": "markdown",
   "metadata": {},
   "source": [
    "Series 结构，也称 Series 序列，是 Pandas 常用的数据结构之一，它是一种类似于一维数组的结构，由一组数据值（value）和一组标签组成，其中标签与数据值具有对应关系。\n",
    "\n",
    "标签不必是唯一的，但必须是可哈希类型。该对象既支持基于整数的索引，也支持基于标签的索引，并提供了许多方法来执行涉及索引的操作。ndarray的统计方法已被覆盖，以自动排除缺失的数据（目前表示为NaN）\n",
    "\n",
    "Series 可以保存任何数据类型，比如整数、字符串、浮点数、Python 对象等，它的标签默认为整数，从 0 开始依次递增。Series 的结构图，如下所示：\n",
    "\n",
    "<img src=\"images/15400SM1-0.gif\">\n",
    "\n",
    "通过标签我们可以更加直观地查看数据所在的索引位置。\n"
   ]
  },
  {
   "cell_type": "code",
   "execution_count": 38,
   "metadata": {},
   "outputs": [],
   "source": [
    "# 引用numpy\n",
    "import numpy as np\n",
    "# 引入pandas\n",
    "import pandas as pd"
   ]
  },
  {
   "cell_type": "markdown",
   "metadata": {},
   "source": [
    "# 数据结构Series创建\n",
    "\n",
    "`pd.Series(data=None, index=None, dtype=None, name=None, copy=False)`\n",
    "- data \t输入的数据，可以是列表、常量、ndarray 数组等,如果是字典,则保持参数顺序\n",
    "- index 索引值,必须是可散列的(不可变数据类型（str，bytes和数值类型）)，并且与数据具有相同的长度,允许使用非唯一索引值。如果未提供，将默认为RangeIndex（0，1，2，…，n）\n",
    "- dtype 输出系列的数据类型。如果未指定，将从数据中推断\n",
    "- name 为Series定义一个名称\n",
    "- copy \t表示对 data 进行拷贝，默认为 False,仅影响Series和ndarray数组"
   ]
  },
  {
   "cell_type": "markdown",
   "metadata": {},
   "source": [
    "### 1.  创建\n",
    "#### 1) 列表/数组作为数据源创建Series"
   ]
  },
  {
   "cell_type": "code",
   "execution_count": 39,
   "metadata": {},
   "outputs": [
    {
     "name": "stdout",
     "output_type": "stream",
     "text": [
      "<class 'list'>\n",
      "0     3\n",
      "1    10\n",
      "2     3\n",
      "3     4\n",
      "4     5\n",
      "dtype: int64\n",
      "<class 'pandas.core.series.Series'>\n"
     ]
    }
   ],
   "source": [
    "# 列表作为数据创建Series\n",
    "ar_list = [3,10,3,4,5]\n",
    "print(type(ar_list))\n",
    "# 使用列表创建Series\n",
    "s1 = pd.Series(ar_list)\n",
    "print(s1)\n",
    "print(type(s1))"
   ]
  },
  {
   "cell_type": "code",
   "execution_count": 40,
   "metadata": {},
   "outputs": [
    {
     "data": {
      "text/plain": "0    1\n1    2\n2    3\n3    4\n4    5\ndtype: int32"
     },
     "execution_count": 40,
     "metadata": {},
     "output_type": "execute_result"
    }
   ],
   "source": [
    "# 数组作为数据源\n",
    "np_rand = np.arange(1,6)\n",
    "# 使用数组创建Series\n",
    "s1 = pd.Series(np_rand)\n",
    "s1"
   ]
  },
  {
   "cell_type": "markdown",
   "metadata": {},
   "source": [
    "- <b>通过index 和values属性取得对应的标签和值</b>"
   ]
  },
  {
   "cell_type": "code",
   "execution_count": 41,
   "metadata": {},
   "outputs": [
    {
     "data": {
      "text/plain": "RangeIndex(start=0, stop=5, step=1)"
     },
     "execution_count": 41,
     "metadata": {},
     "output_type": "execute_result"
    }
   ],
   "source": [
    "# 默认为RangeIndex（0，1，2，…，n）\n",
    "s1.index"
   ]
  },
  {
   "cell_type": "code",
   "execution_count": 42,
   "metadata": {},
   "outputs": [
    {
     "data": {
      "text/plain": "[0, 1, 2, 3, 4]"
     },
     "execution_count": 42,
     "metadata": {},
     "output_type": "execute_result"
    }
   ],
   "source": [
    "# 可以强制转化为列表输出\n",
    "list(s1.index)"
   ]
  },
  {
   "cell_type": "code",
   "execution_count": 43,
   "metadata": {},
   "outputs": [
    {
     "name": "stdout",
     "output_type": "stream",
     "text": [
      "[1 2 3 4 5] <class 'numpy.ndarray'>\n"
     ]
    }
   ],
   "source": [
    "# 返回Series所有值,数据类型为ndarray\n",
    "print(s1.values, type(s1.values))"
   ]
  },
  {
   "cell_type": "markdown",
   "metadata": {},
   "source": [
    "- <b>通过标签取得对应的值,或者修改对应的值</b>"
   ]
  },
  {
   "cell_type": "code",
   "execution_count": 44,
   "metadata": {},
   "outputs": [
    {
     "data": {
      "text/plain": "2"
     },
     "execution_count": 44,
     "metadata": {},
     "output_type": "execute_result"
    }
   ],
   "source": [
    "s1[1]  # 取得索引为1 的数据"
   ]
  },
  {
   "cell_type": "code",
   "execution_count": 45,
   "metadata": {},
   "outputs": [
    {
     "data": {
      "text/plain": "0     1\n1     2\n2    50\n3     4\n4     5\ndtype: int32"
     },
     "execution_count": 45,
     "metadata": {},
     "output_type": "execute_result"
    }
   ],
   "source": [
    "s1[2] = 50 # 改变索引为2的数据值\n",
    "s1"
   ]
  },
  {
   "cell_type": "code",
   "execution_count": 46,
   "metadata": {
    "scrolled": true
   },
   "outputs": [],
   "source": [
    "# s1[-1]"
   ]
  },
  {
   "cell_type": "code",
   "execution_count": 46,
   "metadata": {},
   "outputs": [],
   "source": []
  },
  {
   "cell_type": "markdown",
   "metadata": {},
   "source": [
    "- <b>和列表索引区别:</b>\n",
    " - 默认的索引RangeIndex,不能使用负值,来表示从后往前找元素,\n",
    " - 获取不存在的索引值对应数据,会报错,但是可以赋值,相当于新增数据\n",
    " - 可以新增不同类型索引的数据,新增不同类型索引的数据,索引的类型会发生自动变化\n",
    " "
   ]
  },
  {
   "cell_type": "code",
   "execution_count": 47,
   "metadata": {},
   "outputs": [
    {
     "data": {
      "text/plain": " 0     1\n 1     2\n 2    50\n 3     4\n 4     5\n-1    20\ndtype: int64"
     },
     "execution_count": 47,
     "metadata": {},
     "output_type": "execute_result"
    }
   ],
   "source": [
    "# ①.默认的索引RangeIndex,不能使用负值,来表示从后往前找元素,\n",
    "s1[-1] = 20\n",
    "s1"
   ]
  },
  {
   "cell_type": "code",
   "execution_count": 48,
   "metadata": {},
   "outputs": [
    {
     "name": "stdout",
     "output_type": "stream",
     "text": [
      " 0     1\n",
      " 1     2\n",
      " 2    50\n",
      " 3     4\n",
      " 4     5\n",
      "-1    20\n",
      "dtype: int64\n",
      "Int64Index([0, 1, 2, 3, 4, -1], dtype='int64')\n"
     ]
    }
   ],
   "source": [
    "# ②当前索引为-1,不存在,不会报错,可以添加\n",
    "s1[-1] = 20\n",
    "print(s1)\n",
    "print(s1.index)"
   ]
  },
  {
   "cell_type": "code",
   "execution_count": 49,
   "metadata": {},
   "outputs": [
    {
     "data": {
      "text/plain": "Index([0, 1, 2, 3, 4, -1, 'a'], dtype='object')"
     },
     "execution_count": 49,
     "metadata": {},
     "output_type": "execute_result"
    }
   ],
   "source": [
    "# ③新增不同类型索引的数据,索引的类型会发生自动变化\n",
    "s1[\"a\"] = 40\n",
    "s1.index"
   ]
  },
  {
   "cell_type": "code",
   "execution_count": 50,
   "metadata": {},
   "outputs": [
    {
     "name": "stdout",
     "output_type": "stream",
     "text": [
      "0      1\n",
      "1      2\n",
      "2     50\n",
      "3      4\n",
      "4      5\n",
      "-1    20\n",
      "a     40\n",
      "dtype: int64\n"
     ]
    },
    {
     "data": {
      "text/plain": "20"
     },
     "execution_count": 50,
     "metadata": {},
     "output_type": "execute_result"
    }
   ],
   "source": [
    "print(s1)\n",
    "# 因为我标签存在-1 \n",
    "s1[-1]"
   ]
  },
  {
   "cell_type": "markdown",
   "metadata": {
    "pycharm": {
     "name": "#%% md\n"
    }
   },
   "source": [
    "将s1标签为3的值改为50"
   ]
  },
  {
   "cell_type": "markdown",
   "metadata": {},
   "source": [
    "#### 2) 字典作为数据源创建Series"
   ]
  },
  {
   "cell_type": "code",
   "execution_count": 51,
   "metadata": {},
   "outputs": [
    {
     "data": {
      "text/plain": "a    1\nb    2\nc    3\ndtype: int64"
     },
     "execution_count": 51,
     "metadata": {},
     "output_type": "execute_result"
    }
   ],
   "source": [
    "d = {'a': 1, 'b': 2, 'c': 3}\n",
    "ser = pd.Series(data=d)\n",
    "ser"
   ]
  },
  {
   "cell_type": "markdown",
   "metadata": {},
   "source": [
    "- <b>通过index 和values属性取得对应的标签和值</b>"
   ]
  },
  {
   "cell_type": "code",
   "execution_count": 52,
   "metadata": {},
   "outputs": [
    {
     "data": {
      "text/plain": "Index(['a', 'b', 'c'], dtype='object')"
     },
     "execution_count": 52,
     "metadata": {},
     "output_type": "execute_result"
    }
   ],
   "source": [
    "# 标签索引\n",
    "ser.index"
   ]
  },
  {
   "cell_type": "code",
   "execution_count": 53,
   "metadata": {},
   "outputs": [
    {
     "data": {
      "text/plain": "array([1, 2, 3], dtype=int64)"
     },
     "execution_count": 53,
     "metadata": {},
     "output_type": "execute_result"
    }
   ],
   "source": [
    "# Series值\n",
    "ser.values"
   ]
  },
  {
   "cell_type": "markdown",
   "metadata": {},
   "source": [
    "- <b>通过标签取得对应的值,或者修改对应的值</b>"
   ]
  },
  {
   "cell_type": "code",
   "execution_count": 54,
   "metadata": {},
   "outputs": [
    {
     "data": {
      "text/plain": "1"
     },
     "execution_count": 54,
     "metadata": {},
     "output_type": "execute_result"
    }
   ],
   "source": [
    "ser['a']"
   ]
  },
  {
   "cell_type": "code",
   "execution_count": 55,
   "metadata": {},
   "outputs": [
    {
     "data": {
      "text/plain": "a     1\nb     2\nc     3\ns    50\ndtype: int64"
     },
     "execution_count": 55,
     "metadata": {},
     "output_type": "execute_result"
    }
   ],
   "source": [
    "ser[\"s\"] = 50\n",
    "ser"
   ]
  },
  {
   "cell_type": "code",
   "execution_count": 56,
   "metadata": {},
   "outputs": [
    {
     "data": {
      "text/plain": "1"
     },
     "execution_count": 56,
     "metadata": {},
     "output_type": "execute_result"
    }
   ],
   "source": [
    "ser[0]\n",
    "# 如果标签非数值型,既可以用标签获取值,也可以用标签的下标获取值"
   ]
  },
  {
   "cell_type": "code",
   "execution_count": 57,
   "metadata": {},
   "outputs": [
    {
     "data": {
      "text/plain": "Index(['a', 'b', 'c', 's'], dtype='object')"
     },
     "execution_count": 57,
     "metadata": {},
     "output_type": "execute_result"
    }
   ],
   "source": [
    "ser.index"
   ]
  },
  {
   "cell_type": "code",
   "execution_count": 58,
   "metadata": {},
   "outputs": [
    {
     "data": {
      "text/plain": "1"
     },
     "execution_count": 58,
     "metadata": {},
     "output_type": "execute_result"
    }
   ],
   "source": [
    "ser[\"a\"]"
   ]
  },
  {
   "cell_type": "code",
   "execution_count": 59,
   "metadata": {},
   "outputs": [
    {
     "data": {
      "text/plain": "2"
     },
     "execution_count": 59,
     "metadata": {},
     "output_type": "execute_result"
    }
   ],
   "source": [
    "ser[1]"
   ]
  },
  {
   "cell_type": "code",
   "execution_count": 60,
   "metadata": {},
   "outputs": [
    {
     "name": "stdout",
     "output_type": "stream",
     "text": [
      "a     1\n",
      "b     2\n",
      "c     3\n",
      "s    50\n",
      "dtype: int64\n"
     ]
    },
    {
     "data": {
      "text/plain": "50"
     },
     "execution_count": 60,
     "metadata": {},
     "output_type": "execute_result"
    }
   ],
   "source": [
    "print(ser)\n",
    "ser[-1]"
   ]
  },
  {
   "cell_type": "code",
   "execution_count": 61,
   "metadata": {},
   "outputs": [
    {
     "data": {
      "text/plain": "a    1\n5    2\nc    3\ndtype: int64"
     },
     "execution_count": 61,
     "metadata": {},
     "output_type": "execute_result"
    }
   ],
   "source": [
    "d = {'a': 1, 5: 2, 'c': 3}\n",
    "ser1 = pd.Series(data=d)\n",
    "ser1"
   ]
  },
  {
   "cell_type": "code",
   "execution_count": 62,
   "metadata": {},
   "outputs": [
    {
     "ename": "KeyError",
     "evalue": "0",
     "output_type": "error",
     "traceback": [
      "\u001B[1;31m---------------------------------------------------------------------------\u001B[0m",
      "\u001B[1;31mKeyError\u001B[0m                                  Traceback (most recent call last)",
      "File \u001B[1;32mD:\\python\\envs\\pythonProject\\lib\\site-packages\\pandas\\core\\indexes\\base.py:3621\u001B[0m, in \u001B[0;36mIndex.get_loc\u001B[1;34m(self, key, method, tolerance)\u001B[0m\n\u001B[0;32m   3620\u001B[0m \u001B[38;5;28;01mtry\u001B[39;00m:\n\u001B[1;32m-> 3621\u001B[0m     \u001B[38;5;28;01mreturn\u001B[39;00m \u001B[38;5;28;43mself\u001B[39;49m\u001B[38;5;241;43m.\u001B[39;49m\u001B[43m_engine\u001B[49m\u001B[38;5;241;43m.\u001B[39;49m\u001B[43mget_loc\u001B[49m\u001B[43m(\u001B[49m\u001B[43mcasted_key\u001B[49m\u001B[43m)\u001B[49m\n\u001B[0;32m   3622\u001B[0m \u001B[38;5;28;01mexcept\u001B[39;00m \u001B[38;5;167;01mKeyError\u001B[39;00m \u001B[38;5;28;01mas\u001B[39;00m err:\n",
      "File \u001B[1;32mD:\\python\\envs\\pythonProject\\lib\\site-packages\\pandas\\_libs\\index.pyx:136\u001B[0m, in \u001B[0;36mpandas._libs.index.IndexEngine.get_loc\u001B[1;34m()\u001B[0m\n",
      "File \u001B[1;32mD:\\python\\envs\\pythonProject\\lib\\site-packages\\pandas\\_libs\\index.pyx:163\u001B[0m, in \u001B[0;36mpandas._libs.index.IndexEngine.get_loc\u001B[1;34m()\u001B[0m\n",
      "File \u001B[1;32mpandas\\_libs\\hashtable_class_helper.pxi:5198\u001B[0m, in \u001B[0;36mpandas._libs.hashtable.PyObjectHashTable.get_item\u001B[1;34m()\u001B[0m\n",
      "File \u001B[1;32mpandas\\_libs\\hashtable_class_helper.pxi:5206\u001B[0m, in \u001B[0;36mpandas._libs.hashtable.PyObjectHashTable.get_item\u001B[1;34m()\u001B[0m\n",
      "\u001B[1;31mKeyError\u001B[0m: 0",
      "\nThe above exception was the direct cause of the following exception:\n",
      "\u001B[1;31mKeyError\u001B[0m                                  Traceback (most recent call last)",
      "Input \u001B[1;32mIn [62]\u001B[0m, in \u001B[0;36m<cell line: 4>\u001B[1;34m()\u001B[0m\n\u001B[0;32m      1\u001B[0m \u001B[38;5;66;03m#ser1[\"a\"]\u001B[39;00m\n\u001B[0;32m      2\u001B[0m \u001B[38;5;66;03m# 标签如果存在数值型的数据,就不能使用标签的下标获取值\u001B[39;00m\n\u001B[0;32m      3\u001B[0m \u001B[38;5;66;03m# Series通过索引取值,优先使用是标签索引\u001B[39;00m\n\u001B[1;32m----> 4\u001B[0m \u001B[43mser1\u001B[49m\u001B[43m[\u001B[49m\u001B[38;5;241;43m0\u001B[39;49m\u001B[43m]\u001B[49m\n",
      "File \u001B[1;32mD:\\python\\envs\\pythonProject\\lib\\site-packages\\pandas\\core\\series.py:958\u001B[0m, in \u001B[0;36mSeries.__getitem__\u001B[1;34m(self, key)\u001B[0m\n\u001B[0;32m    955\u001B[0m     \u001B[38;5;28;01mreturn\u001B[39;00m \u001B[38;5;28mself\u001B[39m\u001B[38;5;241m.\u001B[39m_values[key]\n\u001B[0;32m    957\u001B[0m \u001B[38;5;28;01melif\u001B[39;00m key_is_scalar:\n\u001B[1;32m--> 958\u001B[0m     \u001B[38;5;28;01mreturn\u001B[39;00m \u001B[38;5;28;43mself\u001B[39;49m\u001B[38;5;241;43m.\u001B[39;49m\u001B[43m_get_value\u001B[49m\u001B[43m(\u001B[49m\u001B[43mkey\u001B[49m\u001B[43m)\u001B[49m\n\u001B[0;32m    960\u001B[0m \u001B[38;5;28;01mif\u001B[39;00m is_hashable(key):\n\u001B[0;32m    961\u001B[0m     \u001B[38;5;66;03m# Otherwise index.get_value will raise InvalidIndexError\u001B[39;00m\n\u001B[0;32m    962\u001B[0m     \u001B[38;5;28;01mtry\u001B[39;00m:\n\u001B[0;32m    963\u001B[0m         \u001B[38;5;66;03m# For labels that don't resolve as scalars like tuples and frozensets\u001B[39;00m\n",
      "File \u001B[1;32mD:\\python\\envs\\pythonProject\\lib\\site-packages\\pandas\\core\\series.py:1069\u001B[0m, in \u001B[0;36mSeries._get_value\u001B[1;34m(self, label, takeable)\u001B[0m\n\u001B[0;32m   1066\u001B[0m     \u001B[38;5;28;01mreturn\u001B[39;00m \u001B[38;5;28mself\u001B[39m\u001B[38;5;241m.\u001B[39m_values[label]\n\u001B[0;32m   1068\u001B[0m \u001B[38;5;66;03m# Similar to Index.get_value, but we do not fall back to positional\u001B[39;00m\n\u001B[1;32m-> 1069\u001B[0m loc \u001B[38;5;241m=\u001B[39m \u001B[38;5;28;43mself\u001B[39;49m\u001B[38;5;241;43m.\u001B[39;49m\u001B[43mindex\u001B[49m\u001B[38;5;241;43m.\u001B[39;49m\u001B[43mget_loc\u001B[49m\u001B[43m(\u001B[49m\u001B[43mlabel\u001B[49m\u001B[43m)\u001B[49m\n\u001B[0;32m   1070\u001B[0m \u001B[38;5;28;01mreturn\u001B[39;00m \u001B[38;5;28mself\u001B[39m\u001B[38;5;241m.\u001B[39mindex\u001B[38;5;241m.\u001B[39m_get_values_for_loc(\u001B[38;5;28mself\u001B[39m, loc, label)\n",
      "File \u001B[1;32mD:\\python\\envs\\pythonProject\\lib\\site-packages\\pandas\\core\\indexes\\base.py:3623\u001B[0m, in \u001B[0;36mIndex.get_loc\u001B[1;34m(self, key, method, tolerance)\u001B[0m\n\u001B[0;32m   3621\u001B[0m     \u001B[38;5;28;01mreturn\u001B[39;00m \u001B[38;5;28mself\u001B[39m\u001B[38;5;241m.\u001B[39m_engine\u001B[38;5;241m.\u001B[39mget_loc(casted_key)\n\u001B[0;32m   3622\u001B[0m \u001B[38;5;28;01mexcept\u001B[39;00m \u001B[38;5;167;01mKeyError\u001B[39;00m \u001B[38;5;28;01mas\u001B[39;00m err:\n\u001B[1;32m-> 3623\u001B[0m     \u001B[38;5;28;01mraise\u001B[39;00m \u001B[38;5;167;01mKeyError\u001B[39;00m(key) \u001B[38;5;28;01mfrom\u001B[39;00m \u001B[38;5;21;01merr\u001B[39;00m\n\u001B[0;32m   3624\u001B[0m \u001B[38;5;28;01mexcept\u001B[39;00m \u001B[38;5;167;01mTypeError\u001B[39;00m:\n\u001B[0;32m   3625\u001B[0m     \u001B[38;5;66;03m# If we have a listlike key, _check_indexing_error will raise\u001B[39;00m\n\u001B[0;32m   3626\u001B[0m     \u001B[38;5;66;03m#  InvalidIndexError. Otherwise we fall through and re-raise\u001B[39;00m\n\u001B[0;32m   3627\u001B[0m     \u001B[38;5;66;03m#  the TypeError.\u001B[39;00m\n\u001B[0;32m   3628\u001B[0m     \u001B[38;5;28mself\u001B[39m\u001B[38;5;241m.\u001B[39m_check_indexing_error(key)\n",
      "\u001B[1;31mKeyError\u001B[0m: 0"
     ]
    }
   ],
   "source": [
    "#ser1[\"a\"]\n",
    "# 标签如果存在数值型的数据,就不能使用标签的下标获取值\n",
    "# Series通过索引取值,优先使用是标签索引\n",
    "ser1[0]\n",
    "#ser1[1]"
   ]
  },
  {
   "cell_type": "markdown",
   "metadata": {},
   "source": [
    "- <b>取得数据时,先进行标签的检查,如果标签中没有,再进行索引的检查,都不存在则报错</b>"
   ]
  },
  {
   "cell_type": "code",
   "execution_count": 95,
   "metadata": {},
   "outputs": [
    {
     "name": "stdout",
     "output_type": "stream",
     "text": [
      "a    1\n",
      "b    2\n",
      "c    3\n",
      "dtype: int64\n",
      "=============\n",
      "ser[\"a\"]:1  ser[0]:1\n",
      "ser[\"c\"]:3  ser[-1]:3\n"
     ]
    }
   ],
   "source": [
    "d = {'a': 1, 'b': 2, 'c': 3}\n",
    "ser = pd.Series(data=d)\n",
    "print(ser)\n",
    "print(\"=============\")\n",
    "# 取得第一个元素\n",
    "print('ser[\"a\"]:%s'% ser[\"a\"],' ser[0]:%s'% ser[0])\n",
    "# 取得最后一个元素\n",
    "print('ser[\"c\"]:%s'% ser[\"c\"],' ser[-1]:%s'% ser[-1])"
   ]
  },
  {
   "cell_type": "code",
   "execution_count": null,
   "metadata": {},
   "outputs": [],
   "source": []
  },
  {
   "cell_type": "markdown",
   "metadata": {},
   "source": [
    "#### 3) 通过标量创建"
   ]
  },
  {
   "cell_type": "code",
   "execution_count": null,
   "metadata": {},
   "outputs": [],
   "source": [
    "s = pd.Series(100,index=range(5))\n",
    "s"
   ]
  },
  {
   "cell_type": "markdown",
   "metadata": {},
   "source": [
    "### 2. 参数说明"
   ]
  },
  {
   "cell_type": "markdown",
   "metadata": {},
   "source": [
    " - <b>a. index 参数</b>\n",
    "\n",
    "索引值,必须是可散列的(不可变数据类型（str，bytes和数值类型）)，并且与数据具有相同的长度,允许使用非唯一索引值。如果未提供，将默认为RangeIndex（0，1，2，…，n）"
   ]
  },
  {
   "cell_type": "markdown",
   "metadata": {},
   "source": [
    "  -   使用“显式索引”的方法定义索引标签"
   ]
  },
  {
   "cell_type": "code",
   "execution_count": null,
   "metadata": {},
   "outputs": [],
   "source": [
    "data = np.array(['a','b','c','d'])\n",
    "#自定义索引标签（即显示索引）, 需要和数据长度一致\n",
    "s = pd.Series(data,index=[100,101,102,103])\n",
    "s"
   ]
  },
  {
   "cell_type": "markdown",
   "metadata": {},
   "source": [
    "- 从指定索引的字典构造序列"
   ]
  },
  {
   "cell_type": "code",
   "execution_count": null,
   "metadata": {},
   "outputs": [],
   "source": [
    "d = {'a': 1, 'b': 2, 'c': 3}\n",
    "ser = pd.Series(d, index=['a', 'b', 'c'])\n",
    "ser"
   ]
  },
  {
   "cell_type": "markdown",
   "metadata": {},
   "source": [
    "- 当传递的索引值未匹配对应的字典键时，使用 NaN（非数字）填充。 "
   ]
  },
  {
   "cell_type": "code",
   "execution_count": null,
   "metadata": {},
   "outputs": [],
   "source": [
    "d = {'a': 1, 'b': 2, 'c': 3}\n",
    "ser = pd.Series(data=d, index=['x', 'b', 'z'])\n",
    "ser"
   ]
  },
  {
   "cell_type": "markdown",
   "metadata": {},
   "source": [
    "<font color=\"red\">请注意，索引是首先使用字典中的键构建的。在此之后，用给定的索引值对序列重新编制索引，因此我们得到所有NaN。</font>"
   ]
  },
  {
   "cell_type": "markdown",
   "metadata": {},
   "source": [
    "- 通过匹配的索引值,改变创建Series数据的顺序"
   ]
  },
  {
   "cell_type": "code",
   "execution_count": null,
   "metadata": {},
   "outputs": [],
   "source": [
    "d = {'a': 1, 'b': 2, 'c': 3}\n",
    "ser = pd.Series(data=d, index=['c', 'b', 'a'])\n",
    "ser"
   ]
  },
  {
   "cell_type": "markdown",
   "metadata": {},
   "source": [
    " - <b>b. name参数</b>\n",
    "\n",
    "我们可以给一个Series对象命名，也可以给一个Series数组中的索引列起一个名字，pandas为我们设计好了对象的属性，并在设置了name属性值用来进行名字的设定。以下程序可以用来完成该操作。"
   ]
  },
  {
   "cell_type": "code",
   "execution_count": 67,
   "metadata": {},
   "outputs": [
    {
     "data": {
      "text/plain": "Beijing     2200\nShanghai    2500\nShenzhen    1700\ndtype: int64"
     },
     "execution_count": 67,
     "metadata": {},
     "output_type": "execute_result"
    }
   ],
   "source": [
    "dict_data1 = {\n",
    "    \"Beijing\":2200,\n",
    "    \"Shanghai\":2500,\n",
    "    \"Shenzhen\":1700\n",
    "}\n",
    "data1 = pd.Series(dict_data1)\n",
    "data1"
   ]
  },
  {
   "cell_type": "code",
   "execution_count": null,
   "metadata": {},
   "outputs": [],
   "source": [
    "data1 = pd.Series(dict_data1)\n",
    "data1.name = \"City_Data\"\n",
    "data1.index.name = \"City_Name\"\n",
    "print(data1)"
   ]
  },
  {
   "cell_type": "code",
   "execution_count": null,
   "metadata": {},
   "outputs": [],
   "source": [
    "data1.name"
   ]
  },
  {
   "cell_type": "code",
   "execution_count": null,
   "metadata": {},
   "outputs": [],
   "source": [
    "data1.index.name"
   ]
  },
  {
   "cell_type": "code",
   "execution_count": null,
   "metadata": {},
   "outputs": [],
   "source": [
    "data1"
   ]
  },
  {
   "cell_type": "markdown",
   "metadata": {},
   "source": [
    ">序列的名称，如果是DataFrame的一部分，还包括列名"
   ]
  },
  {
   "cell_type": "markdown",
   "metadata": {},
   "source": [
    "- 如果用于形成数据帧，序列的名称将成为其索引或列名。每当使用解释器显示序列时，也会使用它。"
   ]
  },
  {
   "cell_type": "code",
   "execution_count": 65,
   "metadata": {},
   "outputs": [
    {
     "name": "stdout",
     "output_type": "stream",
     "text": [
      "           City_Data\n",
      "City_Name           \n",
      "Beijing         2200\n",
      "Shanghai        2500\n",
      "Shenzhen        1700 <class 'pandas.core.frame.DataFrame'>\n",
      "====================\n",
      "City_Name\n",
      "Beijing     2200\n",
      "Shanghai    2500\n",
      "Shenzhen    1700\n",
      "Name: City_Data, dtype: int64 <class 'pandas.core.series.Series'>\n"
     ]
    }
   ],
   "source": [
    "# 使用Series创建DataFrame类型\n",
    "df = pd.DataFrame(data1)\n",
    "print(df,type(df))\n",
    "print(\"=\"*20)\n",
    "# 输出City_Data列的数据和类型\n",
    "print(df['City_Data'],type(df['City_Data']))"
   ]
  },
  {
   "cell_type": "code",
   "execution_count": 66,
   "outputs": [
    {
     "name": "stdout",
     "output_type": "stream",
     "text": [
      "City_Name\n",
      "Beijing     2200\n",
      "Shanghai    2500\n",
      "Shenzhen    1700\n",
      "Name: City_Data, dtype: int64\n"
     ]
    }
   ],
   "source": [
    "print(df['City_Data'])"
   ],
   "metadata": {
    "collapsed": false,
    "pycharm": {
     "name": "#%%\n"
    }
   }
  },
  {
   "cell_type": "markdown",
   "metadata": {},
   "source": [
    " - <b>c. copy参数</b>\n",
    "    \n",
    "copy 表示对 data 进行拷贝，默认为 False,仅影响Series和ndarray数组"
   ]
  },
  {
   "cell_type": "code",
   "execution_count": 63,
   "metadata": {},
   "outputs": [
    {
     "data": {
      "text/plain": "0    1\n1    2\n2    3\n3    4\n4    5\ndtype: int32"
     },
     "execution_count": 63,
     "metadata": {},
     "output_type": "execute_result"
    }
   ],
   "source": [
    "# 数组作为数据源\n",
    "np_rand = np.arange(1,6)\n",
    "# 使用数组创建Series\n",
    "s1 = pd.Series(np_rand)\n",
    "s1"
   ]
  },
  {
   "cell_type": "code",
   "execution_count": 68,
   "metadata": {},
   "outputs": [
    {
     "name": "stdout",
     "output_type": "stream",
     "text": [
      "s1: 0     1\n",
      "1    50\n",
      "2     3\n",
      "3     4\n",
      "4     5\n",
      "dtype: int32\n",
      "====================\n",
      "np_rand: [ 1 50  3  4  5]\n"
     ]
    }
   ],
   "source": [
    "# 改变Series标签为1的值\n",
    "s1[1] = 50\n",
    "\n",
    "# 输出Series对象s1\n",
    "print(\"s1:\",s1)\n",
    "print(\"=\"*20)\n",
    "# 输出数组对象np_rand\n",
    "print(\"np_rand:\",np_rand)"
   ]
  },
  {
   "cell_type": "code",
   "execution_count": 69,
   "metadata": {},
   "outputs": [
    {
     "data": {
      "text/plain": "0    1\n1    2\n2    3\n3    4\n4    5\n5    6\ndtype: int64"
     },
     "execution_count": 69,
     "metadata": {},
     "output_type": "execute_result"
    }
   ],
   "source": [
    "# 当源数据非Series和ndarray类型时,\n",
    "# 数组作为数据源\n",
    "my_list = [1,2,3,4,5,6]\n",
    "# 使用数组创建Series\n",
    "s2 = pd.Series(my_list)\n",
    "s2"
   ]
  },
  {
   "cell_type": "code",
   "execution_count": 70,
   "metadata": {},
   "outputs": [
    {
     "name": "stdout",
     "output_type": "stream",
     "text": [
      "s2: 0     1\n",
      "1    50\n",
      "2     3\n",
      "3     4\n",
      "4     5\n",
      "5     6\n",
      "dtype: int64\n",
      "my_list: [1, 2, 3, 4, 5, 6]\n"
     ]
    }
   ],
   "source": [
    "# 改变Series标签为1的值\n",
    "s2[1] = 50\n",
    "\n",
    "# 输出Series对象s2\n",
    "print(\"s2:\",s2)\n",
    "\n",
    "# 输出列表对象my_list\n",
    "print(\"my_list:\",my_list)"
   ]
  },
  {
   "cell_type": "code",
   "execution_count": null,
   "metadata": {},
   "outputs": [],
   "source": []
  },
  {
   "cell_type": "code",
   "execution_count": null,
   "metadata": {},
   "outputs": [],
   "source": []
  },
  {
   "cell_type": "markdown",
   "metadata": {},
   "source": [
    "# Series的索引/切片"
   ]
  },
  {
   "cell_type": "markdown",
   "metadata": {},
   "source": [
    "### 1.下标索引\n",
    "\n",
    "类似于 列表索引"
   ]
  },
  {
   "cell_type": "code",
   "execution_count": 71,
   "metadata": {},
   "outputs": [
    {
     "name": "stdout",
     "output_type": "stream",
     "text": [
      "0    0.284786\n",
      "1    0.639095\n",
      "2    0.388391\n",
      "3    0.078587\n",
      "4    0.149715\n",
      "dtype: float64\n",
      "0.07858717804798221 <class 'numpy.float64'> float64\n"
     ]
    }
   ],
   "source": [
    "s = pd.Series(np.random.rand(5))\n",
    "print(s)\n",
    "print(s[3], type(s[3]), s[3].dtype)"
   ]
  },
  {
   "cell_type": "markdown",
   "metadata": {},
   "source": [
    "<font color=\"red\"> 上面的位置索引和标签索引刚好一致,会使用标签索引</font>\n",
    "\n",
    "当使用负值时,实际并不存在负数的标签索引"
   ]
  },
  {
   "cell_type": "markdown",
   "metadata": {},
   "source": [
    "### 2. 标签索引\n",
    "\n",
    "当索引为object类型时,既可以使用标签索引也可以使用位置索引\n",
    "\n",
    "Series 类似于固定大小的 dict，把 index 中的索引标签当做 key，而把 Series 序列中的元素值当做 value，然后通过 index 索引标签来访问或者修改元素值。"
   ]
  },
  {
   "cell_type": "markdown",
   "metadata": {},
   "source": [
    "使用索标签访问单个元素值： "
   ]
  },
  {
   "cell_type": "code",
   "execution_count": 72,
   "metadata": {},
   "outputs": [
    {
     "name": "stdout",
     "output_type": "stream",
     "text": [
      "0.3188320131064858 <class 'numpy.float64'> float64\n"
     ]
    }
   ],
   "source": [
    "s = pd.Series(np.random.rand(5),index=list(\"abcde\"))\n",
    "print(s[\"b\"], type(s[\"b\"]), s[\"b\"].dtype)"
   ]
  },
  {
   "cell_type": "markdown",
   "metadata": {},
   "source": [
    "使用索引标签访问多个元素值"
   ]
  },
  {
   "cell_type": "code",
   "execution_count": 73,
   "metadata": {
    "scrolled": true
   },
   "outputs": [
    {
     "name": "stdout",
     "output_type": "stream",
     "text": [
      "a     6\n",
      "b     7\n",
      "c     8\n",
      "d     9\n",
      "e    10\n",
      "dtype: int64\n",
      "a    6\n",
      "c    8\n",
      "d    9\n",
      "dtype: int64\n"
     ]
    }
   ],
   "source": [
    "s = pd.Series([6,7,8,9,10],index = ['a','b','c','d','e'])\n",
    "print(s)\n",
    "# 注意需要选择多个标签的值,用[[]]来表示(相当于[]中包含一个列表)\n",
    "print(s[['a','c','d']]) # s['a','c','d']"
   ]
  },
  {
   "cell_type": "code",
   "execution_count": 74,
   "metadata": {},
   "outputs": [
    {
     "data": {
      "text/plain": "0     1\n1    50\n2     3\n3     4\n4     5\ndtype: int32"
     },
     "execution_count": 74,
     "metadata": {},
     "output_type": "execute_result"
    }
   ],
   "source": [
    "s1"
   ]
  },
  {
   "cell_type": "markdown",
   "metadata": {},
   "source": [
    "多标签会创建一个新的数组"
   ]
  },
  {
   "cell_type": "code",
   "execution_count": 75,
   "metadata": {},
   "outputs": [
    {
     "name": "stdout",
     "output_type": "stream",
     "text": [
      "s1: b    10\n",
      "a     6\n",
      "e    10\n",
      "dtype: int64\n",
      "s源数据: a     6\n",
      "b     7\n",
      "c     8\n",
      "d     9\n",
      "e    10\n",
      "dtype: int64\n"
     ]
    }
   ],
   "source": [
    "s1 = s[[\"b\",\"a\",\"e\"]]\n",
    "s1[\"b\"] = 10\n",
    "print(\"s1:\",s1)\n",
    "print(\"s源数据:\",s)"
   ]
  },
  {
   "cell_type": "markdown",
   "metadata": {},
   "source": [
    "### 3. 切片\n",
    "- Series使用标签切片运算与普通的Python切片运算不同：Series使用标签切片时，其末端是包含的。\n",
    "- Series使用python切片运算即使用位置数值切片，其末端是不包含。"
   ]
  },
  {
   "cell_type": "markdown",
   "metadata": {},
   "source": [
    "#### 通过下标切片的方式访问 Series 序列中的数据，示例如下："
   ]
  },
  {
   "cell_type": "code",
   "execution_count": 76,
   "metadata": {},
   "outputs": [
    {
     "data": {
      "text/plain": "0    0.282416\n1    0.916655\n2    0.176944\n3    0.150554\n4    0.830044\n5    0.227771\n6    0.032622\n7    0.718673\n8    0.676359\n9    0.455448\ndtype: float64"
     },
     "execution_count": 76,
     "metadata": {},
     "output_type": "execute_result"
    }
   ],
   "source": [
    "s = pd.Series(np.random.rand(10))\n",
    "s"
   ]
  },
  {
   "cell_type": "code",
   "execution_count": 77,
   "metadata": {},
   "outputs": [
    {
     "data": {
      "text/plain": "1    0.916655\n2    0.176944\n3    0.150554\n4    0.830044\ndtype: float64"
     },
     "execution_count": 77,
     "metadata": {},
     "output_type": "execute_result"
    }
   ],
   "source": [
    "# 位置索引和标签索引刚好一致,使用切片时,如果是数值会认为是python切片运算,不包含末端\n",
    "s[1:5]"
   ]
  },
  {
   "cell_type": "code",
   "execution_count": 78,
   "metadata": {},
   "outputs": [
    {
     "name": "stdout",
     "output_type": "stream",
     "text": [
      "a    1\n",
      "b    2\n",
      "c    3\n",
      "d    4\n",
      "e    5\n",
      "dtype: int64\n",
      "b    2\n",
      "c    3\n",
      "d    4\n",
      "dtype: int64\n"
     ]
    }
   ],
   "source": [
    "s = pd.Series([1,2,3,4,5],index = ['a','b','c','d','e'])\n",
    "print(s)\n",
    "print(s[1:4])\n",
    "# print(s[0])  #位置下标\n",
    "# print(s['a']) #标签"
   ]
  },
  {
   "cell_type": "code",
   "execution_count": 79,
   "metadata": {},
   "outputs": [
    {
     "name": "stdout",
     "output_type": "stream",
     "text": [
      "a    1\n",
      "b    2\n",
      "c    3\n",
      "dtype: int64\n"
     ]
    }
   ],
   "source": [
    "s = pd.Series([1,2,3,4,5],index = ['a','b','c','d','e'])\n",
    "print(s[:3])"
   ]
  },
  {
   "cell_type": "code",
   "execution_count": 80,
   "metadata": {},
   "outputs": [
    {
     "name": "stdout",
     "output_type": "stream",
     "text": [
      "c    3\n",
      "d    4\n",
      "e    5\n",
      "dtype: int64\n"
     ]
    }
   ],
   "source": [
    "# 如果想要获取最后三个元素，也可以使用下面的方式： \n",
    "s = pd.Series([1,2,3,4,5],index = ['a','b','c','d','e'])\n",
    "print(s[-3:])"
   ]
  },
  {
   "cell_type": "markdown",
   "metadata": {},
   "source": [
    "#### 通过标签切片的方式访问 Series 序列中的数据，示例如下：\n",
    "- Series使用标签切片时，其末端是包含的"
   ]
  },
  {
   "cell_type": "code",
   "execution_count": 81,
   "metadata": {},
   "outputs": [
    {
     "data": {
      "text/plain": "b    7\nc    8\nd    9\ndtype: int64"
     },
     "execution_count": 81,
     "metadata": {},
     "output_type": "execute_result"
    }
   ],
   "source": [
    "s1= pd.Series([6,7,8,9,10],index = ['a','b','c','d','e'])\n",
    "s1[\"b\":\"d\"]"
   ]
  },
  {
   "cell_type": "code",
   "execution_count": 82,
   "metadata": {},
   "outputs": [
    {
     "data": {
      "text/plain": "c     8\nb     9\na    10\ndtype: int64"
     },
     "execution_count": 82,
     "metadata": {},
     "output_type": "execute_result"
    }
   ],
   "source": [
    "s1= pd.Series([6,7,8,9,10],index = ['e','d','c','b','a'])\n",
    "s1[\"c\":\"a\"]"
   ]
  },
  {
   "cell_type": "code",
   "execution_count": 83,
   "metadata": {
    "scrolled": true
   },
   "outputs": [
    {
     "data": {
      "text/plain": "c    8\ndtype: int64"
     },
     "execution_count": 83,
     "metadata": {},
     "output_type": "execute_result"
    }
   ],
   "source": [
    "s1[\"c\":\"c\"]"
   ]
  },
  {
   "cell_type": "code",
   "execution_count": 84,
   "metadata": {},
   "outputs": [
    {
     "data": {
      "text/plain": "e     6\nd     7\na     8\nb     9\na    10\ndtype: int64"
     },
     "execution_count": 84,
     "metadata": {},
     "output_type": "execute_result"
    }
   ],
   "source": [
    "s1= pd.Series([6,7,8,9,10],index = ['e','d','a','b','a'])\n",
    "s1"
   ]
  },
  {
   "cell_type": "markdown",
   "metadata": {},
   "source": [
    "<font color=\"red\">注意：</font>\n",
    "\n",
    "在上面的索引方式，我们知道了位置索引和标签索引在index为数值类型时候的不同，\n",
    "- 当index为数值类型的时候，使用位置索引会抛出keyerror的异常，也就是说当index为数值类型的时候，索引使用的是名称索引。\n",
    "- 但是在切片的时候，有很大的不同，如果index为数值类型的时候，切片使用的是位置切片。总的来说，当index为数值类型的时候：\n",
    "\n",
    " - 进行索引的时候，相当于使用的是名称索引；\n",
    " - 进行切片的时候，相当于使用的是位置切片；"
   ]
  },
  {
   "cell_type": "markdown",
   "metadata": {},
   "source": [
    "# Series数据结构 基本技巧\n",
    "\n",
    "<b>1. 查看前几条和后几条数据</b>"
   ]
  },
  {
   "cell_type": "code",
   "execution_count": 85,
   "metadata": {},
   "outputs": [
    {
     "data": {
      "text/plain": "0     0.090211\n1     0.240557\n2     0.598179\n3     0.022413\n4     0.074316\n5     0.867618\n6     0.423153\n7     0.965001\n8     0.122420\n9     0.378562\n10    0.330948\n11    0.714632\n12    0.291636\n13    0.965475\n14    0.349457\ndtype: float64"
     },
     "execution_count": 85,
     "metadata": {},
     "output_type": "execute_result"
    }
   ],
   "source": [
    "s = pd.Series(np.random.rand(15))\n",
    "s"
   ]
  },
  {
   "cell_type": "code",
   "execution_count": 86,
   "metadata": {},
   "outputs": [
    {
     "name": "stdout",
     "output_type": "stream",
     "text": [
      "0    0.090211\n",
      "1    0.240557\n",
      "2    0.598179\n",
      "3    0.022413\n",
      "4    0.074316\n",
      "dtype: float64\n",
      "0    0.090211\n",
      "dtype: float64\n"
     ]
    }
   ],
   "source": [
    "\n",
    "print(s.head()) # 默认查看前5条数据\n",
    "print(s.head(1)) # 默认查看前1条数据"
   ]
  },
  {
   "cell_type": "code",
   "execution_count": 87,
   "metadata": {},
   "outputs": [
    {
     "name": "stdout",
     "output_type": "stream",
     "text": [
      "10    0.330948\n",
      "11    0.714632\n",
      "12    0.291636\n",
      "13    0.965475\n",
      "14    0.349457\n",
      "dtype: float64\n"
     ]
    }
   ],
   "source": [
    "print(s.tail()) # 默认查看后5条数据"
   ]
  },
  {
   "cell_type": "markdown",
   "metadata": {},
   "source": [
    "<b>2. 重新索引: reindex</b>\n",
    "\n",
    "使用可选填充逻辑, 使Series符合新索引\n",
    "\n",
    "将NaN放在上一个索引中没有值的位置。除非新索引等同于当前索引,并且生成新对象。"
   ]
  },
  {
   "cell_type": "code",
   "execution_count": 113,
   "metadata": {
    "scrolled": true
   },
   "outputs": [
    {
     "name": "stdout",
     "output_type": "stream",
     "text": [
      "a    0.107319\n",
      "b    0.513578\n",
      "c    0.336717\n",
      "d    0.803976\n",
      "e    0.765894\n",
      "dtype: float64\n",
      "============s=========\n",
      "============s1=========\n",
      "c    0.336717\n",
      "d    0.803976\n",
      "e    0.765894\n",
      "dtype: float64\n",
      "============s=========\n",
      "a    0.107319\n",
      "b    0.513578\n",
      "c    0.336717\n",
      "d    0.803976\n",
      "e    0.765894\n",
      "dtype: float64\n"
     ]
    }
   ],
   "source": [
    "s = pd.Series(np.random.rand(5),index=list(\"abcde\"))\n",
    "print(s)\n",
    "print(\"============s=========\")\n",
    "\n",
    "\n",
    "# 新索引在上一个索引中不存在,生成新对象时,对应的值,设置为NaN\n",
    "s1 = s.reindex(list(\"cde\"))\n",
    "print(\"============s1=========\")\n",
    "print(s1)\n",
    "print(\"============s=========\")\n",
    "print(s)"
   ]
  },
  {
   "cell_type": "code",
   "execution_count": 89,
   "metadata": {},
   "outputs": [
    {
     "name": "stdout",
     "output_type": "stream",
     "text": [
      "c    0.415491\n",
      "d    0.403368\n",
      "e    0.125655\n",
      "1    0.000000\n",
      "2    0.000000\n",
      "dtype: float64\n"
     ]
    }
   ],
   "source": [
    "# 设置填充值\n",
    "s2 = s.reindex(list(\"cde12\"), fill_value=0)\n",
    "print(s2)"
   ]
  },
  {
   "cell_type": "markdown",
   "metadata": {},
   "source": [
    "<b>3.对齐运算</b>\n",
    "\n",
    "是数据清洗的重要过程，可以按索引对齐进行运算，如果没对齐的位置则补NaN，最后也可以填充NaN"
   ]
  },
  {
   "cell_type": "code",
   "execution_count": 90,
   "metadata": {},
   "outputs": [
    {
     "name": "stdout",
     "output_type": "stream",
     "text": [
      "==========s1=========\n",
      "Kelly    0.607682\n",
      "Anne     0.122798\n",
      "T-C      0.200862\n",
      "dtype: float64\n",
      "==========s2=========\n",
      "Anne     0.621447\n",
      "Kelly    0.719061\n",
      "LiLy     0.096671\n",
      "dtype: float64\n",
      "==========s1+s2=========\n",
      "Anne     0.744245\n",
      "Kelly    1.326743\n",
      "LiLy          NaN\n",
      "T-C           NaN\n",
      "dtype: float64\n"
     ]
    }
   ],
   "source": [
    "\n",
    "s1 = pd.Series(np.random.rand(3), index=[\"Kelly\",\"Anne\",\"T-C\"])\n",
    "\n",
    "s2 = pd.Series(np.random.rand(3), index=[\"Anne\",\"Kelly\",\"LiLy\"])\n",
    "\n",
    "print(\"==========s1=========\")\n",
    "print(s1)\n",
    "print(\"==========s2=========\")\n",
    "print(s2)\n",
    "print(\"==========s1+s2=========\")\n",
    "print(s1+s2)"
   ]
  },
  {
   "cell_type": "markdown",
   "metadata": {},
   "source": [
    "<b>4.删除和添加</b>\n",
    "- 删除"
   ]
  },
  {
   "cell_type": "code",
   "execution_count": 91,
   "metadata": {},
   "outputs": [
    {
     "name": "stdout",
     "output_type": "stream",
     "text": [
      "a    0.128841\n",
      "b    0.928757\n",
      "c    0.114419\n",
      "d    0.907105\n",
      "e    0.582816\n",
      "dtype: float64\n",
      "b    0.928757\n",
      "c    0.114419\n",
      "d    0.907105\n",
      "e    0.582816\n",
      "dtype: float64\n",
      "a    0.128841\n",
      "b    0.928757\n",
      "c    0.114419\n",
      "d    0.907105\n",
      "e    0.582816\n",
      "dtype: float64\n"
     ]
    }
   ],
   "source": [
    "s = pd.Series(np.random.rand(5),index=list(\"abcde\"))\n",
    "print(s)\n",
    "s1 = s.drop(\"a\") # 返回删除后的值,原值不改变 ,默认inplace=False\n",
    "print(s1) \n",
    "print(s)"
   ]
  },
  {
   "cell_type": "code",
   "execution_count": 93,
   "metadata": {
    "scrolled": true
   },
   "outputs": [
    {
     "name": "stdout",
     "output_type": "stream",
     "text": [
      "None\n",
      "====================\n",
      "b    0.296649\n",
      "c    0.197335\n",
      "d    0.683882\n",
      "e    0.660060\n",
      "dtype: float64\n"
     ]
    }
   ],
   "source": [
    "s = pd.Series(np.random.rand(5),index=list(\"abcde\"))\n",
    "s1 = s.drop(\"a\",inplace=True) # 原值发生变化,返回None\n",
    "#s = s.drop(\"a\")\n",
    "print(s1)\n",
    "print(\"=\"*20)\n",
    "print(s)\n",
    "\n",
    "# inplace默认默认为True,返回None"
   ]
  },
  {
   "cell_type": "markdown",
   "metadata": {},
   "source": [
    "- 添加"
   ]
  },
  {
   "cell_type": "code",
   "execution_count": 94,
   "metadata": {},
   "outputs": [
    {
     "name": "stdout",
     "output_type": "stream",
     "text": [
      "a    0.718194\n",
      "b    0.483667\n",
      "c    0.489811\n",
      "d    0.210861\n",
      "e    0.298088\n",
      "dtype: float64\n",
      "a      0.718194\n",
      "b      0.483667\n",
      "c      0.489811\n",
      "d      0.210861\n",
      "e      0.298088\n",
      "s    100.000000\n",
      "dtype: float64\n"
     ]
    }
   ],
   "source": [
    "import pandas as pd\n",
    "# 添加\n",
    "s1 = pd.Series(np.random.rand(5),index=list(\"abcde\"))\n",
    "print(s1)\n",
    "\n",
    "s1[\"s\"] = 100  # 对应的标签没有就是添加,,有就是修改\n",
    "print(s1)\n"
   ]
  },
  {
   "cell_type": "code",
   "execution_count": null,
   "metadata": {},
   "outputs": [],
   "source": []
  },
  {
   "cell_type": "code",
   "execution_count": null,
   "metadata": {},
   "outputs": [],
   "source": []
  },
  {
   "cell_type": "markdown",
   "metadata": {},
   "source": [
    "## 课堂作业"
   ]
  },
  {
   "cell_type": "markdown",
   "metadata": {},
   "source": [
    "1.分别通过字典/数组的方式,创建以下要求的Series\n",
    "\n",
    "Zhangsan 90.0\n",
    "wangwu   89.5\n",
    "lilei  68.0\n",
    "Name:作业1, dtye:float64"
   ]
  },
  {
   "cell_type": "code",
   "execution_count": 98,
   "outputs": [
    {
     "name": "stdout",
     "output_type": "stream",
     "text": [
      "zhangsan    90.0\n",
      "wangwu      89.5\n",
      "lilei       68.0\n",
      "Name: 作业1, dtype: float64\n",
      "zhangsan    90.0\n",
      "wangwu      89.5\n",
      "lilei       68.0\n",
      "Name: 作业1, dtype: float64\n"
     ]
    }
   ],
   "source": [
    "x1= pd.Series([90.0,89.5,68.0],index = ['zhangsan','wangwu','lilei',])\n",
    "x1.name='作业1'\n",
    "print(x1)\n",
    "x11 = {\n",
    "    \"zhangsan\":90.0,\n",
    "    \"wangwu\":89.5,\n",
    "    \"lilei\":68.0\n",
    "}\n",
    "x12=pd.Series(x11)\n",
    "x12.name='作业1'\n",
    "print(x12)\n",
    "\n"
   ],
   "metadata": {
    "collapsed": false,
    "pycharm": {
     "name": "#%%\n"
    }
   }
  },
  {
   "cell_type": "markdown",
   "metadata": {
    "pycharm": {
     "name": "#%% md\n"
    }
   },
   "source": [
    "2.创建一个Series,包含1组元素,且每个值为0-100的均匀分布随机值,index为a-j,请分别筛选出\n",
    "- ① 标签为b,c的值为多少\n",
    "- ②.Series中第4到第6个值是那些\n",
    "- ③ Series中大于50 的值有那些"
   ]
  },
  {
   "cell_type": "code",
   "execution_count": 111,
   "outputs": [
    {
     "name": "stdout",
     "output_type": "stream",
     "text": [
      "[ 0 17 34 54 99 46  1 91 46  4]\n",
      "====================\n",
      "a     0\n",
      "b    17\n",
      "c    34\n",
      "d    54\n",
      "e    99\n",
      "f    46\n",
      "g     1\n",
      "h    91\n",
      "i    46\n",
      "j     4\n",
      "dtype: int32\n",
      "====================\n",
      "17 34\n",
      "====================\n",
      "d    54\n",
      "e    99\n",
      "dtype: int32\n",
      "====================\n",
      "d    54\n",
      "e    99\n",
      "h    91\n",
      "dtype: int32\n"
     ]
    }
   ],
   "source": [
    "x2=np.random.randint(0,100,size=10)\n",
    "print(x2)\n",
    "print(\"=\"*20)\n",
    "x22=pd.Series(x2,index=list(\"abcdefghij\"))\n",
    "print(x22)\n",
    "print(\"=\"*20)\n",
    "print(x22['b'],x22['c'])\n",
    "print(\"=\"*20)\n",
    "print(x22[3:5])\n",
    "print(\"=\"*20)\n",
    "print(x22[x22>50])"
   ],
   "metadata": {
    "collapsed": false,
    "pycharm": {
     "name": "#%%\n"
    }
   }
  },
  {
   "cell_type": "markdown",
   "metadata": {},
   "source": [
    "3.创建以下Series 并按照要求修改得到的结果\n",
    "创建s:\n",
    "a   0\n",
    "b   1\n",
    "c   2\n",
    "d   3\n",
    "e   4\n",
    "f   5\n",
    "g   6\n",
    "h   7\n",
    "i   8\n",
    "j   9\n",
    "dtype:int32\n",
    "\n",
    "--------------\n",
    "s修改后:\n",
    "a   100\n",
    "c   2\n",
    "d   3\n",
    "e   100\n",
    "f   100\n",
    "g   6\n",
    "i   8\n",
    "j   9\n",
    "\n",
    "dtype:int32"
   ]
  },
  {
   "cell_type": "code",
   "execution_count": 118,
   "outputs": [
    {
     "name": "stdout",
     "output_type": "stream",
     "text": [
      "a    0\n",
      "b    1\n",
      "c    2\n",
      "d    3\n",
      "e    4\n",
      "f    5\n",
      "g    6\n",
      "h    7\n",
      "i    8\n",
      "j    9\n",
      "dtype: int32\n",
      "a    100\n",
      "c      2\n",
      "d      3\n",
      "e    100\n",
      "f    100\n",
      "g      6\n",
      "i      8\n",
      "j      9\n",
      "dtype: int32\n"
     ]
    }
   ],
   "source": [
    "s= pd.Series(np.arange(10),index = list(\"abcdefghij\"))\n",
    "print(s)\n",
    "s['a']=s['e']=s['f']=100\n",
    "s1=s.reindex(list('acdefgij'))\n",
    "print(s1)"
   ],
   "metadata": {
    "collapsed": false,
    "pycharm": {
     "name": "#%%\n"
    }
   }
  },
  {
   "cell_type": "code",
   "execution_count": null,
   "outputs": [],
   "source": [],
   "metadata": {
    "collapsed": false,
    "pycharm": {
     "name": "#%%\n"
    }
   }
  }
 ],
 "metadata": {
  "kernelspec": {
   "display_name": "Python 3",
   "language": "python",
   "name": "python3"
  },
  "language_info": {
   "codemirror_mode": {
    "name": "ipython",
    "version": 3
   },
   "file_extension": ".py",
   "mimetype": "text/x-python",
   "name": "python",
   "nbconvert_exporter": "python",
   "pygments_lexer": "ipython3",
   "version": "3.7.6"
  }
 },
 "nbformat": 4,
 "nbformat_minor": 4
}