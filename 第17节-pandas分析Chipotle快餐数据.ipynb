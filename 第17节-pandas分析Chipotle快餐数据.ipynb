{
 "cells": [
  {
   "cell_type": "code",
   "execution_count": 1,
   "metadata": {},
   "outputs": [],
   "source": [
    "# 步骤1 导入必要的库\n",
    "import pandas as pd"
   ]
  },
  {
   "cell_type": "code",
   "execution_count": 2,
   "metadata": {},
   "outputs": [],
   "source": [
    "# 将数据集存入一个名为chipo的变量中\n",
    "chipo = pd.read_csv('./data/快餐数据.tsv', sep = '\\t')"
   ]
  },
  {
   "cell_type": "code",
   "execution_count": 3,
   "metadata": {},
   "outputs": [
    {
     "data": {
      "text/plain": "   order_id  quantity                              item_name  \\\n0         1         1           Chips and Fresh Tomato Salsa   \n1         1         1                                   Izze   \n2         1         1                       Nantucket Nectar   \n3         1         1  Chips and Tomatillo-Green Chili Salsa   \n4         2         2                           Chicken Bowl   \n\n                                  choice_description item_price  \n0                                                NaN     $2.39   \n1                                       [Clementine]     $3.39   \n2                                            [Apple]     $3.39   \n3                                                NaN     $2.39   \n4  [Tomatillo-Red Chili Salsa (Hot), [Black Beans...    $16.98   ",
      "text/html": "<div>\n<style scoped>\n    .dataframe tbody tr th:only-of-type {\n        vertical-align: middle;\n    }\n\n    .dataframe tbody tr th {\n        vertical-align: top;\n    }\n\n    .dataframe thead th {\n        text-align: right;\n    }\n</style>\n<table border=\"1\" class=\"dataframe\">\n  <thead>\n    <tr style=\"text-align: right;\">\n      <th></th>\n      <th>order_id</th>\n      <th>quantity</th>\n      <th>item_name</th>\n      <th>choice_description</th>\n      <th>item_price</th>\n    </tr>\n  </thead>\n  <tbody>\n    <tr>\n      <th>0</th>\n      <td>1</td>\n      <td>1</td>\n      <td>Chips and Fresh Tomato Salsa</td>\n      <td>NaN</td>\n      <td>$2.39</td>\n    </tr>\n    <tr>\n      <th>1</th>\n      <td>1</td>\n      <td>1</td>\n      <td>Izze</td>\n      <td>[Clementine]</td>\n      <td>$3.39</td>\n    </tr>\n    <tr>\n      <th>2</th>\n      <td>1</td>\n      <td>1</td>\n      <td>Nantucket Nectar</td>\n      <td>[Apple]</td>\n      <td>$3.39</td>\n    </tr>\n    <tr>\n      <th>3</th>\n      <td>1</td>\n      <td>1</td>\n      <td>Chips and Tomatillo-Green Chili Salsa</td>\n      <td>NaN</td>\n      <td>$2.39</td>\n    </tr>\n    <tr>\n      <th>4</th>\n      <td>2</td>\n      <td>2</td>\n      <td>Chicken Bowl</td>\n      <td>[Tomatillo-Red Chili Salsa (Hot), [Black Beans...</td>\n      <td>$16.98</td>\n    </tr>\n  </tbody>\n</table>\n</div>"
     },
     "execution_count": 3,
     "metadata": {},
     "output_type": "execute_result"
    }
   ],
   "source": [
    "chipo.head()"
   ]
  },
  {
   "cell_type": "code",
   "execution_count": 4,
   "metadata": {},
   "outputs": [
    {
     "name": "stdout",
     "output_type": "stream",
     "text": [
      "<class 'pandas.core.frame.DataFrame'>\n",
      "RangeIndex: 4622 entries, 0 to 4621\n",
      "Data columns (total 5 columns):\n",
      " #   Column              Non-Null Count  Dtype \n",
      "---  ------              --------------  ----- \n",
      " 0   order_id            4622 non-null   int64 \n",
      " 1   quantity            4622 non-null   int64 \n",
      " 2   item_name           4622 non-null   object\n",
      " 3   choice_description  3376 non-null   object\n",
      " 4   item_price          4622 non-null   object\n",
      "dtypes: int64(2), object(3)\n",
      "memory usage: 180.7+ KB\n"
     ]
    }
   ],
   "source": [
    "chipo.info()"
   ]
  },
  {
   "cell_type": "code",
   "execution_count": 5,
   "metadata": {},
   "outputs": [
    {
     "data": {
      "text/plain": "Index(['order_id', 'quantity', 'item_name', 'choice_description',\n       'item_price'],\n      dtype='object')"
     },
     "execution_count": 5,
     "metadata": {},
     "output_type": "execute_result"
    }
   ],
   "source": [
    "# 步骤7 打印出全部的列名称\n",
    "chipo.columns"
   ]
  },
  {
   "cell_type": "markdown",
   "metadata": {},
   "source": [
    "- order_id: 订单id\n",
    "- quantity: 数量\n",
    "- item_name: 项目名称\n",
    "- choice_description: 选择与描述\n",
    "- item_price: 项目价格"
   ]
  },
  {
   "cell_type": "markdown",
   "metadata": {},
   "source": [
    "#### 下单数最多商品(item)是什么?"
   ]
  },
  {
   "cell_type": "code",
   "execution_count": 6,
   "metadata": {},
   "outputs": [
    {
     "data": {
      "text/plain": "                                       quantity\nitem_name                                      \n6 Pack Soft Drink                            55\nBarbacoa Bowl                                66\nBarbacoa Burrito                             91\nBarbacoa Crispy Tacos                        12\nBarbacoa Salad Bowl                          10\nBarbacoa Soft Tacos                          25\nBottled Water                               211\nBowl                                          4\nBurrito                                       6\nCanned Soda                                 126\nCanned Soft Drink                           351\nCarnitas Bowl                                71\nCarnitas Burrito                             60\nCarnitas Crispy Tacos                         8\nCarnitas Salad                                1\nCarnitas Salad Bowl                           6\nCarnitas Soft Tacos                          40\nChicken Bowl                                761\nChicken Burrito                             591\nChicken Crispy Tacos                         50\nChicken Salad                                 9\nChicken Salad Bowl                          123\nChicken Soft Tacos                          120\nChips                                       230\nChips and Fresh Tomato Salsa                130\nChips and Guacamole                         506\nChips and Mild Fresh Tomato Salsa             1\nChips and Roasted Chili Corn Salsa           23\nChips and Roasted Chili-Corn Salsa           18\nChips and Tomatillo Green Chili Salsa        45\nChips and Tomatillo Red Chili Salsa          50\nChips and Tomatillo-Green Chili Salsa        33\nChips and Tomatillo-Red Chili Salsa          25\nCrispy Tacos                                  2\nIzze                                         20\nNantucket Nectar                             29\nSalad                                         2\nSide of Chips                               110\nSteak Bowl                                  221\nSteak Burrito                               386\nSteak Crispy Tacos                           36\nSteak Salad                                   4\nSteak Salad Bowl                             31\nSteak Soft Tacos                             56\nVeggie Bowl                                  87\nVeggie Burrito                               97\nVeggie Crispy Tacos                           1\nVeggie Salad                                  6\nVeggie Salad Bowl                            18\nVeggie Soft Tacos                             8",
      "text/html": "<div>\n<style scoped>\n    .dataframe tbody tr th:only-of-type {\n        vertical-align: middle;\n    }\n\n    .dataframe tbody tr th {\n        vertical-align: top;\n    }\n\n    .dataframe thead th {\n        text-align: right;\n    }\n</style>\n<table border=\"1\" class=\"dataframe\">\n  <thead>\n    <tr style=\"text-align: right;\">\n      <th></th>\n      <th>quantity</th>\n    </tr>\n    <tr>\n      <th>item_name</th>\n      <th></th>\n    </tr>\n  </thead>\n  <tbody>\n    <tr>\n      <th>6 Pack Soft Drink</th>\n      <td>55</td>\n    </tr>\n    <tr>\n      <th>Barbacoa Bowl</th>\n      <td>66</td>\n    </tr>\n    <tr>\n      <th>Barbacoa Burrito</th>\n      <td>91</td>\n    </tr>\n    <tr>\n      <th>Barbacoa Crispy Tacos</th>\n      <td>12</td>\n    </tr>\n    <tr>\n      <th>Barbacoa Salad Bowl</th>\n      <td>10</td>\n    </tr>\n    <tr>\n      <th>Barbacoa Soft Tacos</th>\n      <td>25</td>\n    </tr>\n    <tr>\n      <th>Bottled Water</th>\n      <td>211</td>\n    </tr>\n    <tr>\n      <th>Bowl</th>\n      <td>4</td>\n    </tr>\n    <tr>\n      <th>Burrito</th>\n      <td>6</td>\n    </tr>\n    <tr>\n      <th>Canned Soda</th>\n      <td>126</td>\n    </tr>\n    <tr>\n      <th>Canned Soft Drink</th>\n      <td>351</td>\n    </tr>\n    <tr>\n      <th>Carnitas Bowl</th>\n      <td>71</td>\n    </tr>\n    <tr>\n      <th>Carnitas Burrito</th>\n      <td>60</td>\n    </tr>\n    <tr>\n      <th>Carnitas Crispy Tacos</th>\n      <td>8</td>\n    </tr>\n    <tr>\n      <th>Carnitas Salad</th>\n      <td>1</td>\n    </tr>\n    <tr>\n      <th>Carnitas Salad Bowl</th>\n      <td>6</td>\n    </tr>\n    <tr>\n      <th>Carnitas Soft Tacos</th>\n      <td>40</td>\n    </tr>\n    <tr>\n      <th>Chicken Bowl</th>\n      <td>761</td>\n    </tr>\n    <tr>\n      <th>Chicken Burrito</th>\n      <td>591</td>\n    </tr>\n    <tr>\n      <th>Chicken Crispy Tacos</th>\n      <td>50</td>\n    </tr>\n    <tr>\n      <th>Chicken Salad</th>\n      <td>9</td>\n    </tr>\n    <tr>\n      <th>Chicken Salad Bowl</th>\n      <td>123</td>\n    </tr>\n    <tr>\n      <th>Chicken Soft Tacos</th>\n      <td>120</td>\n    </tr>\n    <tr>\n      <th>Chips</th>\n      <td>230</td>\n    </tr>\n    <tr>\n      <th>Chips and Fresh Tomato Salsa</th>\n      <td>130</td>\n    </tr>\n    <tr>\n      <th>Chips and Guacamole</th>\n      <td>506</td>\n    </tr>\n    <tr>\n      <th>Chips and Mild Fresh Tomato Salsa</th>\n      <td>1</td>\n    </tr>\n    <tr>\n      <th>Chips and Roasted Chili Corn Salsa</th>\n      <td>23</td>\n    </tr>\n    <tr>\n      <th>Chips and Roasted Chili-Corn Salsa</th>\n      <td>18</td>\n    </tr>\n    <tr>\n      <th>Chips and Tomatillo Green Chili Salsa</th>\n      <td>45</td>\n    </tr>\n    <tr>\n      <th>Chips and Tomatillo Red Chili Salsa</th>\n      <td>50</td>\n    </tr>\n    <tr>\n      <th>Chips and Tomatillo-Green Chili Salsa</th>\n      <td>33</td>\n    </tr>\n    <tr>\n      <th>Chips and Tomatillo-Red Chili Salsa</th>\n      <td>25</td>\n    </tr>\n    <tr>\n      <th>Crispy Tacos</th>\n      <td>2</td>\n    </tr>\n    <tr>\n      <th>Izze</th>\n      <td>20</td>\n    </tr>\n    <tr>\n      <th>Nantucket Nectar</th>\n      <td>29</td>\n    </tr>\n    <tr>\n      <th>Salad</th>\n      <td>2</td>\n    </tr>\n    <tr>\n      <th>Side of Chips</th>\n      <td>110</td>\n    </tr>\n    <tr>\n      <th>Steak Bowl</th>\n      <td>221</td>\n    </tr>\n    <tr>\n      <th>Steak Burrito</th>\n      <td>386</td>\n    </tr>\n    <tr>\n      <th>Steak Crispy Tacos</th>\n      <td>36</td>\n    </tr>\n    <tr>\n      <th>Steak Salad</th>\n      <td>4</td>\n    </tr>\n    <tr>\n      <th>Steak Salad Bowl</th>\n      <td>31</td>\n    </tr>\n    <tr>\n      <th>Steak Soft Tacos</th>\n      <td>56</td>\n    </tr>\n    <tr>\n      <th>Veggie Bowl</th>\n      <td>87</td>\n    </tr>\n    <tr>\n      <th>Veggie Burrito</th>\n      <td>97</td>\n    </tr>\n    <tr>\n      <th>Veggie Crispy Tacos</th>\n      <td>1</td>\n    </tr>\n    <tr>\n      <th>Veggie Salad</th>\n      <td>6</td>\n    </tr>\n    <tr>\n      <th>Veggie Salad Bowl</th>\n      <td>18</td>\n    </tr>\n    <tr>\n      <th>Veggie Soft Tacos</th>\n      <td>8</td>\n    </tr>\n  </tbody>\n</table>\n</div>"
     },
     "execution_count": 6,
     "metadata": {},
     "output_type": "execute_result"
    }
   ],
   "source": [
    "chipo[['item_name','quantity']].groupby(['item_name']).sum()"
   ]
  },
  {
   "cell_type": "code",
   "execution_count": 7,
   "metadata": {},
   "outputs": [
    {
     "data": {
      "text/plain": "                                item_name  quantity\n0                       6 Pack Soft Drink        55\n1                           Barbacoa Bowl        66\n2                        Barbacoa Burrito        91\n3                   Barbacoa Crispy Tacos        12\n4                     Barbacoa Salad Bowl        10\n5                     Barbacoa Soft Tacos        25\n6                           Bottled Water       211\n7                                    Bowl         4\n8                                 Burrito         6\n9                             Canned Soda       126\n10                      Canned Soft Drink       351\n11                          Carnitas Bowl        71\n12                       Carnitas Burrito        60\n13                  Carnitas Crispy Tacos         8\n14                         Carnitas Salad         1\n15                    Carnitas Salad Bowl         6\n16                    Carnitas Soft Tacos        40\n17                           Chicken Bowl       761\n18                        Chicken Burrito       591\n19                   Chicken Crispy Tacos        50\n20                          Chicken Salad         9\n21                     Chicken Salad Bowl       123\n22                     Chicken Soft Tacos       120\n23                                  Chips       230\n24           Chips and Fresh Tomato Salsa       130\n25                    Chips and Guacamole       506\n26      Chips and Mild Fresh Tomato Salsa         1\n27     Chips and Roasted Chili Corn Salsa        23\n28     Chips and Roasted Chili-Corn Salsa        18\n29  Chips and Tomatillo Green Chili Salsa        45\n30    Chips and Tomatillo Red Chili Salsa        50\n31  Chips and Tomatillo-Green Chili Salsa        33\n32    Chips and Tomatillo-Red Chili Salsa        25\n33                           Crispy Tacos         2\n34                                   Izze        20\n35                       Nantucket Nectar        29\n36                                  Salad         2\n37                          Side of Chips       110\n38                             Steak Bowl       221\n39                          Steak Burrito       386\n40                     Steak Crispy Tacos        36\n41                            Steak Salad         4\n42                       Steak Salad Bowl        31\n43                       Steak Soft Tacos        56\n44                            Veggie Bowl        87\n45                         Veggie Burrito        97\n46                    Veggie Crispy Tacos         1\n47                           Veggie Salad         6\n48                      Veggie Salad Bowl        18\n49                      Veggie Soft Tacos         8",
      "text/html": "<div>\n<style scoped>\n    .dataframe tbody tr th:only-of-type {\n        vertical-align: middle;\n    }\n\n    .dataframe tbody tr th {\n        vertical-align: top;\n    }\n\n    .dataframe thead th {\n        text-align: right;\n    }\n</style>\n<table border=\"1\" class=\"dataframe\">\n  <thead>\n    <tr style=\"text-align: right;\">\n      <th></th>\n      <th>item_name</th>\n      <th>quantity</th>\n    </tr>\n  </thead>\n  <tbody>\n    <tr>\n      <th>0</th>\n      <td>6 Pack Soft Drink</td>\n      <td>55</td>\n    </tr>\n    <tr>\n      <th>1</th>\n      <td>Barbacoa Bowl</td>\n      <td>66</td>\n    </tr>\n    <tr>\n      <th>2</th>\n      <td>Barbacoa Burrito</td>\n      <td>91</td>\n    </tr>\n    <tr>\n      <th>3</th>\n      <td>Barbacoa Crispy Tacos</td>\n      <td>12</td>\n    </tr>\n    <tr>\n      <th>4</th>\n      <td>Barbacoa Salad Bowl</td>\n      <td>10</td>\n    </tr>\n    <tr>\n      <th>5</th>\n      <td>Barbacoa Soft Tacos</td>\n      <td>25</td>\n    </tr>\n    <tr>\n      <th>6</th>\n      <td>Bottled Water</td>\n      <td>211</td>\n    </tr>\n    <tr>\n      <th>7</th>\n      <td>Bowl</td>\n      <td>4</td>\n    </tr>\n    <tr>\n      <th>8</th>\n      <td>Burrito</td>\n      <td>6</td>\n    </tr>\n    <tr>\n      <th>9</th>\n      <td>Canned Soda</td>\n      <td>126</td>\n    </tr>\n    <tr>\n      <th>10</th>\n      <td>Canned Soft Drink</td>\n      <td>351</td>\n    </tr>\n    <tr>\n      <th>11</th>\n      <td>Carnitas Bowl</td>\n      <td>71</td>\n    </tr>\n    <tr>\n      <th>12</th>\n      <td>Carnitas Burrito</td>\n      <td>60</td>\n    </tr>\n    <tr>\n      <th>13</th>\n      <td>Carnitas Crispy Tacos</td>\n      <td>8</td>\n    </tr>\n    <tr>\n      <th>14</th>\n      <td>Carnitas Salad</td>\n      <td>1</td>\n    </tr>\n    <tr>\n      <th>15</th>\n      <td>Carnitas Salad Bowl</td>\n      <td>6</td>\n    </tr>\n    <tr>\n      <th>16</th>\n      <td>Carnitas Soft Tacos</td>\n      <td>40</td>\n    </tr>\n    <tr>\n      <th>17</th>\n      <td>Chicken Bowl</td>\n      <td>761</td>\n    </tr>\n    <tr>\n      <th>18</th>\n      <td>Chicken Burrito</td>\n      <td>591</td>\n    </tr>\n    <tr>\n      <th>19</th>\n      <td>Chicken Crispy Tacos</td>\n      <td>50</td>\n    </tr>\n    <tr>\n      <th>20</th>\n      <td>Chicken Salad</td>\n      <td>9</td>\n    </tr>\n    <tr>\n      <th>21</th>\n      <td>Chicken Salad Bowl</td>\n      <td>123</td>\n    </tr>\n    <tr>\n      <th>22</th>\n      <td>Chicken Soft Tacos</td>\n      <td>120</td>\n    </tr>\n    <tr>\n      <th>23</th>\n      <td>Chips</td>\n      <td>230</td>\n    </tr>\n    <tr>\n      <th>24</th>\n      <td>Chips and Fresh Tomato Salsa</td>\n      <td>130</td>\n    </tr>\n    <tr>\n      <th>25</th>\n      <td>Chips and Guacamole</td>\n      <td>506</td>\n    </tr>\n    <tr>\n      <th>26</th>\n      <td>Chips and Mild Fresh Tomato Salsa</td>\n      <td>1</td>\n    </tr>\n    <tr>\n      <th>27</th>\n      <td>Chips and Roasted Chili Corn Salsa</td>\n      <td>23</td>\n    </tr>\n    <tr>\n      <th>28</th>\n      <td>Chips and Roasted Chili-Corn Salsa</td>\n      <td>18</td>\n    </tr>\n    <tr>\n      <th>29</th>\n      <td>Chips and Tomatillo Green Chili Salsa</td>\n      <td>45</td>\n    </tr>\n    <tr>\n      <th>30</th>\n      <td>Chips and Tomatillo Red Chili Salsa</td>\n      <td>50</td>\n    </tr>\n    <tr>\n      <th>31</th>\n      <td>Chips and Tomatillo-Green Chili Salsa</td>\n      <td>33</td>\n    </tr>\n    <tr>\n      <th>32</th>\n      <td>Chips and Tomatillo-Red Chili Salsa</td>\n      <td>25</td>\n    </tr>\n    <tr>\n      <th>33</th>\n      <td>Crispy Tacos</td>\n      <td>2</td>\n    </tr>\n    <tr>\n      <th>34</th>\n      <td>Izze</td>\n      <td>20</td>\n    </tr>\n    <tr>\n      <th>35</th>\n      <td>Nantucket Nectar</td>\n      <td>29</td>\n    </tr>\n    <tr>\n      <th>36</th>\n      <td>Salad</td>\n      <td>2</td>\n    </tr>\n    <tr>\n      <th>37</th>\n      <td>Side of Chips</td>\n      <td>110</td>\n    </tr>\n    <tr>\n      <th>38</th>\n      <td>Steak Bowl</td>\n      <td>221</td>\n    </tr>\n    <tr>\n      <th>39</th>\n      <td>Steak Burrito</td>\n      <td>386</td>\n    </tr>\n    <tr>\n      <th>40</th>\n      <td>Steak Crispy Tacos</td>\n      <td>36</td>\n    </tr>\n    <tr>\n      <th>41</th>\n      <td>Steak Salad</td>\n      <td>4</td>\n    </tr>\n    <tr>\n      <th>42</th>\n      <td>Steak Salad Bowl</td>\n      <td>31</td>\n    </tr>\n    <tr>\n      <th>43</th>\n      <td>Steak Soft Tacos</td>\n      <td>56</td>\n    </tr>\n    <tr>\n      <th>44</th>\n      <td>Veggie Bowl</td>\n      <td>87</td>\n    </tr>\n    <tr>\n      <th>45</th>\n      <td>Veggie Burrito</td>\n      <td>97</td>\n    </tr>\n    <tr>\n      <th>46</th>\n      <td>Veggie Crispy Tacos</td>\n      <td>1</td>\n    </tr>\n    <tr>\n      <th>47</th>\n      <td>Veggie Salad</td>\n      <td>6</td>\n    </tr>\n    <tr>\n      <th>48</th>\n      <td>Veggie Salad Bowl</td>\n      <td>18</td>\n    </tr>\n    <tr>\n      <th>49</th>\n      <td>Veggie Soft Tacos</td>\n      <td>8</td>\n    </tr>\n  </tbody>\n</table>\n</div>"
     },
     "execution_count": 7,
     "metadata": {},
     "output_type": "execute_result"
    }
   ],
   "source": [
    "chipo[['item_name','quantity']].groupby(['item_name'],as_index=False).sum()"
   ]
  },
  {
   "cell_type": "code",
   "execution_count": 21,
   "metadata": {},
   "outputs": [
    {
     "data": {
      "text/plain": "                                item_name  quantity\n17                           Chicken Bowl       761\n18                        Chicken Burrito       591\n25                    Chips and Guacamole       506\n39                          Steak Burrito       386\n10                      Canned Soft Drink       351\n23                                  Chips       230\n38                             Steak Bowl       221\n6                           Bottled Water       211\n24           Chips and Fresh Tomato Salsa       130\n9                             Canned Soda       126\n21                     Chicken Salad Bowl       123\n22                     Chicken Soft Tacos       120\n37                          Side of Chips       110\n45                         Veggie Burrito        97\n2                        Barbacoa Burrito        91\n44                            Veggie Bowl        87\n11                          Carnitas Bowl        71\n1                           Barbacoa Bowl        66\n12                       Carnitas Burrito        60\n43                       Steak Soft Tacos        56\n0                       6 Pack Soft Drink        55\n30    Chips and Tomatillo Red Chili Salsa        50\n19                   Chicken Crispy Tacos        50\n29  Chips and Tomatillo Green Chili Salsa        45\n16                    Carnitas Soft Tacos        40\n40                     Steak Crispy Tacos        36\n31  Chips and Tomatillo-Green Chili Salsa        33\n42                       Steak Salad Bowl        31\n35                       Nantucket Nectar        29\n32    Chips and Tomatillo-Red Chili Salsa        25\n5                     Barbacoa Soft Tacos        25\n27     Chips and Roasted Chili Corn Salsa        23\n34                                   Izze        20\n48                      Veggie Salad Bowl        18\n28     Chips and Roasted Chili-Corn Salsa        18\n3                   Barbacoa Crispy Tacos        12\n4                     Barbacoa Salad Bowl        10\n20                          Chicken Salad         9\n13                  Carnitas Crispy Tacos         8\n49                      Veggie Soft Tacos         8\n8                                 Burrito         6\n47                           Veggie Salad         6\n15                    Carnitas Salad Bowl         6\n7                                    Bowl         4\n41                            Steak Salad         4\n36                                  Salad         2\n33                           Crispy Tacos         2\n26      Chips and Mild Fresh Tomato Salsa         1\n14                         Carnitas Salad         1\n46                    Veggie Crispy Tacos         1",
      "text/html": "<div>\n<style scoped>\n    .dataframe tbody tr th:only-of-type {\n        vertical-align: middle;\n    }\n\n    .dataframe tbody tr th {\n        vertical-align: top;\n    }\n\n    .dataframe thead th {\n        text-align: right;\n    }\n</style>\n<table border=\"1\" class=\"dataframe\">\n  <thead>\n    <tr style=\"text-align: right;\">\n      <th></th>\n      <th>item_name</th>\n      <th>quantity</th>\n    </tr>\n  </thead>\n  <tbody>\n    <tr>\n      <th>17</th>\n      <td>Chicken Bowl</td>\n      <td>761</td>\n    </tr>\n    <tr>\n      <th>18</th>\n      <td>Chicken Burrito</td>\n      <td>591</td>\n    </tr>\n    <tr>\n      <th>25</th>\n      <td>Chips and Guacamole</td>\n      <td>506</td>\n    </tr>\n    <tr>\n      <th>39</th>\n      <td>Steak Burrito</td>\n      <td>386</td>\n    </tr>\n    <tr>\n      <th>10</th>\n      <td>Canned Soft Drink</td>\n      <td>351</td>\n    </tr>\n    <tr>\n      <th>23</th>\n      <td>Chips</td>\n      <td>230</td>\n    </tr>\n    <tr>\n      <th>38</th>\n      <td>Steak Bowl</td>\n      <td>221</td>\n    </tr>\n    <tr>\n      <th>6</th>\n      <td>Bottled Water</td>\n      <td>211</td>\n    </tr>\n    <tr>\n      <th>24</th>\n      <td>Chips and Fresh Tomato Salsa</td>\n      <td>130</td>\n    </tr>\n    <tr>\n      <th>9</th>\n      <td>Canned Soda</td>\n      <td>126</td>\n    </tr>\n    <tr>\n      <th>21</th>\n      <td>Chicken Salad Bowl</td>\n      <td>123</td>\n    </tr>\n    <tr>\n      <th>22</th>\n      <td>Chicken Soft Tacos</td>\n      <td>120</td>\n    </tr>\n    <tr>\n      <th>37</th>\n      <td>Side of Chips</td>\n      <td>110</td>\n    </tr>\n    <tr>\n      <th>45</th>\n      <td>Veggie Burrito</td>\n      <td>97</td>\n    </tr>\n    <tr>\n      <th>2</th>\n      <td>Barbacoa Burrito</td>\n      <td>91</td>\n    </tr>\n    <tr>\n      <th>44</th>\n      <td>Veggie Bowl</td>\n      <td>87</td>\n    </tr>\n    <tr>\n      <th>11</th>\n      <td>Carnitas Bowl</td>\n      <td>71</td>\n    </tr>\n    <tr>\n      <th>1</th>\n      <td>Barbacoa Bowl</td>\n      <td>66</td>\n    </tr>\n    <tr>\n      <th>12</th>\n      <td>Carnitas Burrito</td>\n      <td>60</td>\n    </tr>\n    <tr>\n      <th>43</th>\n      <td>Steak Soft Tacos</td>\n      <td>56</td>\n    </tr>\n    <tr>\n      <th>0</th>\n      <td>6 Pack Soft Drink</td>\n      <td>55</td>\n    </tr>\n    <tr>\n      <th>30</th>\n      <td>Chips and Tomatillo Red Chili Salsa</td>\n      <td>50</td>\n    </tr>\n    <tr>\n      <th>19</th>\n      <td>Chicken Crispy Tacos</td>\n      <td>50</td>\n    </tr>\n    <tr>\n      <th>29</th>\n      <td>Chips and Tomatillo Green Chili Salsa</td>\n      <td>45</td>\n    </tr>\n    <tr>\n      <th>16</th>\n      <td>Carnitas Soft Tacos</td>\n      <td>40</td>\n    </tr>\n    <tr>\n      <th>40</th>\n      <td>Steak Crispy Tacos</td>\n      <td>36</td>\n    </tr>\n    <tr>\n      <th>31</th>\n      <td>Chips and Tomatillo-Green Chili Salsa</td>\n      <td>33</td>\n    </tr>\n    <tr>\n      <th>42</th>\n      <td>Steak Salad Bowl</td>\n      <td>31</td>\n    </tr>\n    <tr>\n      <th>35</th>\n      <td>Nantucket Nectar</td>\n      <td>29</td>\n    </tr>\n    <tr>\n      <th>32</th>\n      <td>Chips and Tomatillo-Red Chili Salsa</td>\n      <td>25</td>\n    </tr>\n    <tr>\n      <th>5</th>\n      <td>Barbacoa Soft Tacos</td>\n      <td>25</td>\n    </tr>\n    <tr>\n      <th>27</th>\n      <td>Chips and Roasted Chili Corn Salsa</td>\n      <td>23</td>\n    </tr>\n    <tr>\n      <th>34</th>\n      <td>Izze</td>\n      <td>20</td>\n    </tr>\n    <tr>\n      <th>48</th>\n      <td>Veggie Salad Bowl</td>\n      <td>18</td>\n    </tr>\n    <tr>\n      <th>28</th>\n      <td>Chips and Roasted Chili-Corn Salsa</td>\n      <td>18</td>\n    </tr>\n    <tr>\n      <th>3</th>\n      <td>Barbacoa Crispy Tacos</td>\n      <td>12</td>\n    </tr>\n    <tr>\n      <th>4</th>\n      <td>Barbacoa Salad Bowl</td>\n      <td>10</td>\n    </tr>\n    <tr>\n      <th>20</th>\n      <td>Chicken Salad</td>\n      <td>9</td>\n    </tr>\n    <tr>\n      <th>13</th>\n      <td>Carnitas Crispy Tacos</td>\n      <td>8</td>\n    </tr>\n    <tr>\n      <th>49</th>\n      <td>Veggie Soft Tacos</td>\n      <td>8</td>\n    </tr>\n    <tr>\n      <th>8</th>\n      <td>Burrito</td>\n      <td>6</td>\n    </tr>\n    <tr>\n      <th>47</th>\n      <td>Veggie Salad</td>\n      <td>6</td>\n    </tr>\n    <tr>\n      <th>15</th>\n      <td>Carnitas Salad Bowl</td>\n      <td>6</td>\n    </tr>\n    <tr>\n      <th>7</th>\n      <td>Bowl</td>\n      <td>4</td>\n    </tr>\n    <tr>\n      <th>41</th>\n      <td>Steak Salad</td>\n      <td>4</td>\n    </tr>\n    <tr>\n      <th>36</th>\n      <td>Salad</td>\n      <td>2</td>\n    </tr>\n    <tr>\n      <th>33</th>\n      <td>Crispy Tacos</td>\n      <td>2</td>\n    </tr>\n    <tr>\n      <th>26</th>\n      <td>Chips and Mild Fresh Tomato Salsa</td>\n      <td>1</td>\n    </tr>\n    <tr>\n      <th>14</th>\n      <td>Carnitas Salad</td>\n      <td>1</td>\n    </tr>\n    <tr>\n      <th>46</th>\n      <td>Veggie Crispy Tacos</td>\n      <td>1</td>\n    </tr>\n  </tbody>\n</table>\n</div>"
     },
     "execution_count": 21,
     "metadata": {},
     "output_type": "execute_result"
    }
   ],
   "source": [
    "# 通常，pandas中的groupby（）方法在调用完毕之后，会将by之后的列修改为index\n",
    "# 该参数是控制groupby方法是否需要将列作为新的index。默认是True，\n",
    "# 为了达到上述目的，我们只需要将其设置为False即可\n",
    "c = chipo[['item_name','quantity']].groupby(['item_name'],as_index=False).sum()\n",
    "#降序 替换原数据\n",
    "c.sort_values(['quantity'],ascending=False,inplace=True)\n",
    "c"
   ]
  },
  {
   "cell_type": "code",
   "execution_count": 8,
   "metadata": {},
   "outputs": [],
   "source": []
  },
  {
   "cell_type": "markdown",
   "metadata": {},
   "source": [
    "### 在item_name这一列中，一共有多少种商品被下单？"
   ]
  },
  {
   "cell_type": "code",
   "execution_count": 9,
   "metadata": {},
   "outputs": [
    {
     "data": {
      "text/plain": "50"
     },
     "execution_count": 9,
     "metadata": {},
     "output_type": "execute_result"
    }
   ],
   "source": [
    "chipo['item_name'].nunique()"
   ]
  },
  {
   "cell_type": "markdown",
   "metadata": {},
   "source": [
    "### 在choice_description中，下单次数最多的商品是什么？"
   ]
  },
  {
   "cell_type": "code",
   "execution_count": 22,
   "metadata": {
    "scrolled": true
   },
   "outputs": [
    {
     "data": {
      "text/plain": "[Diet Coke]                                                                                                                                      134\n[Coke]                                                                                                                                           123\n[Sprite]                                                                                                                                          77\n[Fresh Tomato Salsa, [Rice, Black Beans, Cheese, Sour Cream, Lettuce]]                                                                            42\n[Fresh Tomato Salsa, [Rice, Black Beans, Cheese, Sour Cream, Guacamole, Lettuce]]                                                                 40\n                                                                                                                                                ... \n[Fresh Tomato Salsa (Mild), [Pinto Beans, Black Beans, Rice, Cheese, Sour Cream, Lettuce]]                                                         1\n[[Fresh Tomato Salsa (Mild), Roasted Chili Corn Salsa (Medium), Tomatillo-Red Chili Salsa (Hot)], [Pinto Beans, Cheese, Sour Cream, Lettuce]]      1\n[Fresh Tomato (Mild), [Guacamole, Rice, Black Beans]]                                                                                              1\n[[Tomatillo-Green Chili Salsa (Medium), Tomatillo-Red Chili Salsa (Hot)], [Black Beans, Rice, Cheese, Lettuce]]                                    1\n[Tomatillo Green Chili Salsa, [Rice, Fajita Vegetables, Black Beans, Guacamole]]                                                                   1\nName: choice_description, Length: 1043, dtype: int64"
     },
     "execution_count": 22,
     "metadata": {},
     "output_type": "execute_result"
    }
   ],
   "source": [
    "# value_counts() 函数可以对Series里面的每个值进行计数并且排序\n",
    "chipo['choice_description'].value_counts()"
   ]
  },
  {
   "cell_type": "markdown",
   "metadata": {},
   "source": [
    "#### 总下单数？"
   ]
  },
  {
   "cell_type": "code",
   "execution_count": 11,
   "metadata": {},
   "outputs": [
    {
     "data": {
      "text/plain": "4972"
     },
     "execution_count": 11,
     "metadata": {},
     "output_type": "execute_result"
    }
   ],
   "source": [
    "\n",
    "total_items_orders = chipo['quantity'].sum()\n",
    "total_items_orders"
   ]
  },
  {
   "cell_type": "markdown",
   "metadata": {},
   "source": [
    " ####  将item_price转换为浮点数?"
   ]
  },
  {
   "cell_type": "code",
   "execution_count": 12,
   "metadata": {},
   "outputs": [
    {
     "data": {
      "text/plain": "order_id               int64\nquantity               int64\nitem_name             object\nchoice_description    object\nitem_price            object\ndtype: object"
     },
     "execution_count": 12,
     "metadata": {},
     "output_type": "execute_result"
    }
   ],
   "source": [
    "chipo.dtypes"
   ]
  },
  {
   "cell_type": "code",
   "execution_count": 13,
   "metadata": {},
   "outputs": [],
   "source": [
    "# \n",
    "chipo['item_price'] =chipo['item_price'].str.strip('$').astype(float)"
   ]
  },
  {
   "cell_type": "code",
   "execution_count": 14,
   "metadata": {},
   "outputs": [],
   "source": [
    "#dollarizer = lambda x: float(x[1:-1])\n",
    "# chipo['item_price'] = chipo['item_price'].apply(dollarizer)"
   ]
  },
  {
   "cell_type": "code",
   "execution_count": 15,
   "metadata": {},
   "outputs": [
    {
     "data": {
      "text/plain": "   order_id  quantity                              item_name  \\\n0         1         1           Chips and Fresh Tomato Salsa   \n1         1         1                                   Izze   \n2         1         1                       Nantucket Nectar   \n3         1         1  Chips and Tomatillo-Green Chili Salsa   \n4         2         2                           Chicken Bowl   \n\n                                  choice_description  item_price  \n0                                                NaN        2.39  \n1                                       [Clementine]        3.39  \n2                                            [Apple]        3.39  \n3                                                NaN        2.39  \n4  [Tomatillo-Red Chili Salsa (Hot), [Black Beans...       16.98  ",
      "text/html": "<div>\n<style scoped>\n    .dataframe tbody tr th:only-of-type {\n        vertical-align: middle;\n    }\n\n    .dataframe tbody tr th {\n        vertical-align: top;\n    }\n\n    .dataframe thead th {\n        text-align: right;\n    }\n</style>\n<table border=\"1\" class=\"dataframe\">\n  <thead>\n    <tr style=\"text-align: right;\">\n      <th></th>\n      <th>order_id</th>\n      <th>quantity</th>\n      <th>item_name</th>\n      <th>choice_description</th>\n      <th>item_price</th>\n    </tr>\n  </thead>\n  <tbody>\n    <tr>\n      <th>0</th>\n      <td>1</td>\n      <td>1</td>\n      <td>Chips and Fresh Tomato Salsa</td>\n      <td>NaN</td>\n      <td>2.39</td>\n    </tr>\n    <tr>\n      <th>1</th>\n      <td>1</td>\n      <td>1</td>\n      <td>Izze</td>\n      <td>[Clementine]</td>\n      <td>3.39</td>\n    </tr>\n    <tr>\n      <th>2</th>\n      <td>1</td>\n      <td>1</td>\n      <td>Nantucket Nectar</td>\n      <td>[Apple]</td>\n      <td>3.39</td>\n    </tr>\n    <tr>\n      <th>3</th>\n      <td>1</td>\n      <td>1</td>\n      <td>Chips and Tomatillo-Green Chili Salsa</td>\n      <td>NaN</td>\n      <td>2.39</td>\n    </tr>\n    <tr>\n      <th>4</th>\n      <td>2</td>\n      <td>2</td>\n      <td>Chicken Bowl</td>\n      <td>[Tomatillo-Red Chili Salsa (Hot), [Black Beans...</td>\n      <td>16.98</td>\n    </tr>\n  </tbody>\n</table>\n</div>"
     },
     "execution_count": 15,
     "metadata": {},
     "output_type": "execute_result"
    }
   ],
   "source": [
    "chipo.head()"
   ]
  },
  {
   "cell_type": "markdown",
   "metadata": {},
   "source": [
    "## Series.apply()\n",
    "pandas 的 apply() 函数可以作用于 Series 或者整个 DataFrame，功能也是自动遍历整个 Series 或者 DataFrame, 对每一个元素运行指定的函数"
   ]
  },
  {
   "cell_type": "markdown",
   "metadata": {},
   "source": [
    "#### 在该数据集对应的时期内，收入(revenue)是多少?"
   ]
  },
  {
   "cell_type": "code",
   "execution_count": 16,
   "metadata": {},
   "outputs": [
    {
     "data": {
      "text/plain": "39237.02"
     },
     "execution_count": 16,
     "metadata": {},
     "output_type": "execute_result"
    }
   ],
   "source": [
    "#round为保留几位小数\n",
    "chipo['sub_total'] = round(chipo['item_price'] * chipo['quantity'],2)\n",
    "chipo['sub_total'].sum()"
   ]
  },
  {
   "cell_type": "markdown",
   "metadata": {},
   "source": [
    "#### 在该数据集对应的时期内，一共有多少订单？"
   ]
  },
  {
   "cell_type": "code",
   "execution_count": 17,
   "metadata": {},
   "outputs": [
    {
     "data": {
      "text/plain": "1834"
     },
     "execution_count": 17,
     "metadata": {},
     "output_type": "execute_result"
    }
   ],
   "source": [
    "chipo['order_id'].nunique()"
   ]
  },
  {
   "cell_type": "markdown",
   "metadata": {},
   "source": [
    "#### 每一单(order)对应的平均总价是多少？"
   ]
  },
  {
   "cell_type": "code",
   "execution_count": 25,
   "metadata": {},
   "outputs": [
    {
     "data": {
      "text/plain": "21.394231188658654"
     },
     "execution_count": 25,
     "metadata": {},
     "output_type": "execute_result"
    }
   ],
   "source": [
    "chipo[['order_id','sub_total']].groupby(by='order_id').sum()['sub_total'].mean()"
   ]
  },
  {
   "cell_type": "code",
   "execution_count": 19,
   "metadata": {},
   "outputs": [
    {
     "data": {
      "text/plain": "21.394231188658654"
     },
     "execution_count": 19,
     "metadata": {},
     "output_type": "execute_result"
    }
   ],
   "source": [
    "chipo[['order_id','sub_total']].groupby(by=['order_id']).sum()['sub_total'].mean()"
   ]
  },
  {
   "cell_type": "markdown",
   "metadata": {},
   "source": [
    "#### 一共有多少种不同的商品被售出？"
   ]
  },
  {
   "cell_type": "code",
   "execution_count": 20,
   "metadata": {},
   "outputs": [
    {
     "data": {
      "text/plain": "50"
     },
     "execution_count": 20,
     "metadata": {},
     "output_type": "execute_result"
    }
   ],
   "source": [
    "chipo['item_name'].nunique()"
   ]
  },
  {
   "cell_type": "code",
   "execution_count": 20,
   "metadata": {},
   "outputs": [],
   "source": []
  }
 ],
 "metadata": {
  "kernelspec": {
   "display_name": "Python 3",
   "language": "python",
   "name": "python3"
  },
  "language_info": {
   "codemirror_mode": {
    "name": "ipython",
    "version": 3
   },
   "file_extension": ".py",
   "mimetype": "text/x-python",
   "name": "python",
   "nbconvert_exporter": "python",
   "pygments_lexer": "ipython3",
   "version": "3.7.6"
  }
 },
 "nbformat": 4,
 "nbformat_minor": 4
}