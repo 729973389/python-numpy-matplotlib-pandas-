{
 "cells": [
  {
   "cell_type": "code",
   "execution_count": 94,
   "metadata": {},
   "outputs": [],
   "source": [
    "import pandas as pd\n",
    "\n",
    "import numpy as np"
   ]
  },
  {
   "cell_type": "markdown",
   "metadata": {},
   "source": [
    "在数据分析中，经常会遇到这样的情况：\n",
    "\n",
    "### 根据某一列（或多列）标签把数据划分为不同的组别，然后再对其进行数据分析。\n",
    "    \n",
    "### 比如，某网站对注册用户的性别或者年龄等进行分组，从而研究出网站用户的画像（特点）。在 Pandas 中，要完成数据的分组操作，需要使用 groupby() 函数，它和 SQL 的GROUP BY操作非常相似。"
   ]
  },
  {
   "cell_type": "markdown",
   "metadata": {},
   "source": [
    "在划分出来的组（group）上应用一些统计函数，从而达到数据分析的目的，比如对分组数据进行聚合、转换，或者过滤。这个过程主要包含以下三步：\n",
    "\n",
    "- 拆分（Spliting）：表示对数据进行分组；\n",
    "- 应用（Applying）：对分组数据应用聚合函数，进行相应计算；\n",
    "- 合并（Combining）：最后汇总计算结果。\n",
    "\n",
    "模拟生成的10个样本数据，代码和数据如下："
   ]
  },
  {
   "cell_type": "code",
   "execution_count": 95,
   "metadata": {},
   "outputs": [],
   "source": [
    "company=[\"A\",\"B\",\"C\"]"
   ]
  },
  {
   "cell_type": "code",
   "execution_count": 96,
   "metadata": {},
   "outputs": [
    {
     "data": {
      "text/plain": "array([0, 1, 2, 0, 2, 1, 2, 0, 2, 0])"
     },
     "execution_count": 96,
     "metadata": {},
     "output_type": "execute_result"
    }
   ],
   "source": [
    "np.random.randint(0,len(company),10)"
   ]
  },
  {
   "cell_type": "code",
   "execution_count": 97,
   "metadata": {},
   "outputs": [
    {
     "data": {
      "text/plain": "['B', 'A', 'A', 'B', 'A', 'C', 'C', 'B', 'C', 'C']"
     },
     "execution_count": 97,
     "metadata": {},
     "output_type": "execute_result"
    }
   ],
   "source": [
    "\n",
    "[company[x] for x in np.random.randint(0,len(company),10)]"
   ]
  },
  {
   "cell_type": "code",
   "execution_count": 98,
   "metadata": {},
   "outputs": [
    {
     "data": {
      "text/plain": "  company  salary  age\n0       C      30   43\n1       A       5   23\n2       A       7   31\n3       C      42   49\n4       C      48   15\n5       C       6   47\n6       B      44   23\n7       A      32   28\n8       C      44   20\n9       A      25   32",
      "text/html": "<div>\n<style scoped>\n    .dataframe tbody tr th:only-of-type {\n        vertical-align: middle;\n    }\n\n    .dataframe tbody tr th {\n        vertical-align: top;\n    }\n\n    .dataframe thead th {\n        text-align: right;\n    }\n</style>\n<table border=\"1\" class=\"dataframe\">\n  <thead>\n    <tr style=\"text-align: right;\">\n      <th></th>\n      <th>company</th>\n      <th>salary</th>\n      <th>age</th>\n    </tr>\n  </thead>\n  <tbody>\n    <tr>\n      <th>0</th>\n      <td>C</td>\n      <td>30</td>\n      <td>43</td>\n    </tr>\n    <tr>\n      <th>1</th>\n      <td>A</td>\n      <td>5</td>\n      <td>23</td>\n    </tr>\n    <tr>\n      <th>2</th>\n      <td>A</td>\n      <td>7</td>\n      <td>31</td>\n    </tr>\n    <tr>\n      <th>3</th>\n      <td>C</td>\n      <td>42</td>\n      <td>49</td>\n    </tr>\n    <tr>\n      <th>4</th>\n      <td>C</td>\n      <td>48</td>\n      <td>15</td>\n    </tr>\n    <tr>\n      <th>5</th>\n      <td>C</td>\n      <td>6</td>\n      <td>47</td>\n    </tr>\n    <tr>\n      <th>6</th>\n      <td>B</td>\n      <td>44</td>\n      <td>23</td>\n    </tr>\n    <tr>\n      <th>7</th>\n      <td>A</td>\n      <td>32</td>\n      <td>28</td>\n    </tr>\n    <tr>\n      <th>8</th>\n      <td>C</td>\n      <td>44</td>\n      <td>20</td>\n    </tr>\n    <tr>\n      <th>9</th>\n      <td>A</td>\n      <td>25</td>\n      <td>32</td>\n    </tr>\n  </tbody>\n</table>\n</div>"
     },
     "execution_count": 98,
     "metadata": {},
     "output_type": "execute_result"
    }
   ],
   "source": [
    "company=[\"A\",\"B\",\"C\"]\n",
    "data=pd.DataFrame({\n",
    "        \"company\":[company[x] for x in np.random.randint(0,len(company),10)],\n",
    "        \"salary\":np.random.randint(5,50,10),\n",
    "        \"age\":np.random.randint(15,50,10)\n",
    "    }\n",
    ")\n",
    "data"
   ]
  },
  {
   "cell_type": "markdown",
   "metadata": {},
   "source": [
    "## 一、Groupby的基本原理\n",
    "\n",
    "在pandas中，实现分组操作的代码很简单，仅需一行代码，在这里，将上面的数据集按照company字段进行划分："
   ]
  },
  {
   "cell_type": "code",
   "execution_count": 99,
   "metadata": {},
   "outputs": [
    {
     "data": {
      "text/plain": "<pandas.core.groupby.generic.DataFrameGroupBy object at 0x0000025761F0CBE0>"
     },
     "execution_count": 99,
     "metadata": {},
     "output_type": "execute_result"
    }
   ],
   "source": [
    "group = data.groupby(\"company\")\n",
    "group"
   ]
  },
  {
   "cell_type": "markdown",
   "metadata": {},
   "source": [
    "> 将上述代码输入ipython后，会得到一个DataFrameGroupBy对象"
   ]
  },
  {
   "cell_type": "markdown",
   "metadata": {},
   "source": [
    "那这个生成的DataFrameGroupBy是啥呢？\n",
    "\n",
    "对data进行了groupby后发生了什么？\n",
    "\n",
    "ipython所返回的结果是其内存地址，并不利于直观地理解，为了看看group内部究竟是什么，这里把group转换成list的形式来看一看："
   ]
  },
  {
   "cell_type": "code",
   "execution_count": 100,
   "metadata": {
    "scrolled": true
   },
   "outputs": [
    {
     "data": {
      "text/plain": "[('A',\n    company  salary  age\n  1       A       5   23\n  2       A       7   31\n  7       A      32   28\n  9       A      25   32),\n ('B',\n    company  salary  age\n  6       B      44   23),\n ('C',\n    company  salary  age\n  0       C      30   43\n  3       C      42   49\n  4       C      48   15\n  5       C       6   47\n  8       C      44   20)]"
     },
     "execution_count": 100,
     "metadata": {},
     "output_type": "execute_result"
    }
   ],
   "source": [
    "list(group)"
   ]
  },
  {
   "cell_type": "code",
   "execution_count": 101,
   "metadata": {},
   "outputs": [
    {
     "data": {
      "text/plain": "{'A': [1, 2, 7, 9], 'B': [6], 'C': [0, 3, 4, 5, 8]}"
     },
     "execution_count": 101,
     "metadata": {},
     "output_type": "execute_result"
    }
   ],
   "source": [
    "group.groups"
   ]
  },
  {
   "cell_type": "markdown",
   "metadata": {},
   "source": [
    "转换成列表的形式后，可以看到，列表由三个元组组成，每个元组中，\n",
    "\n",
    "第一个元素是组别（这里是按照company进行分组，所以最后分为了A,B,C），\n",
    "\n",
    "第二个元素的是对应组别下的DataFrame，整个过程可以图解如下："
   ]
  },
  {
   "cell_type": "markdown",
   "metadata": {},
   "source": [
    "<img src=\"images/20220424234526.png\" style=\"width:60%\"/>"
   ]
  },
  {
   "cell_type": "markdown",
   "metadata": {},
   "source": [
    "总结来说，groupby的过程就是将原有的DataFrame按照groupby的字段（这里是company），划分为若干个分组DataFrame，被分为多少个组就有多少个分组DataFrame。所以说，在groupby之后的一系列操作（如agg、apply等），均是基于子DataFrame的操作。\n",
    "\n",
    "理解了这点，也就基本摸清了Pandas中groupby操作的主要原理。下面来讲讲groupby之后的常见操作"
   ]
  },
  {
   "cell_type": "markdown",
   "metadata": {},
   "source": [
    "### 二、agg 聚合操作\n",
    "\n",
    "\n",
    "聚合(Aggregation)操作是groupby后非常常见的操作，会写SQL的朋友对此应该是非常熟悉了。聚合操作可以用来求和、均值、最大值、最小值等，下面的表格列出了Pandas中常见的聚合操作。"
   ]
  },
  {
   "cell_type": "markdown",
   "metadata": {},
   "source": [
    "<img src=\"images/20220424234734.png\" style=\"height:60%\" />"
   ]
  },
  {
   "cell_type": "markdown",
   "metadata": {},
   "source": [
    "针对样例数据集，<b>如果我想求不同公司员工的平均年龄和平均薪水</b>，可以按照下方的代码进行："
   ]
  },
  {
   "cell_type": "code",
   "execution_count": 102,
   "metadata": {},
   "outputs": [
    {
     "data": {
      "text/plain": "         salary   age\ncompany              \nA         17.25  28.5\nB         44.00  23.0\nC         34.00  34.8",
      "text/html": "<div>\n<style scoped>\n    .dataframe tbody tr th:only-of-type {\n        vertical-align: middle;\n    }\n\n    .dataframe tbody tr th {\n        vertical-align: top;\n    }\n\n    .dataframe thead th {\n        text-align: right;\n    }\n</style>\n<table border=\"1\" class=\"dataframe\">\n  <thead>\n    <tr style=\"text-align: right;\">\n      <th></th>\n      <th>salary</th>\n      <th>age</th>\n    </tr>\n    <tr>\n      <th>company</th>\n      <th></th>\n      <th></th>\n    </tr>\n  </thead>\n  <tbody>\n    <tr>\n      <th>A</th>\n      <td>17.25</td>\n      <td>28.5</td>\n    </tr>\n    <tr>\n      <th>B</th>\n      <td>44.00</td>\n      <td>23.0</td>\n    </tr>\n    <tr>\n      <th>C</th>\n      <td>34.00</td>\n      <td>34.8</td>\n    </tr>\n  </tbody>\n</table>\n</div>"
     },
     "execution_count": 102,
     "metadata": {},
     "output_type": "execute_result"
    }
   ],
   "source": [
    "data.groupby(\"company\").agg('mean')"
   ]
  },
  {
   "cell_type": "code",
   "execution_count": 103,
   "metadata": {},
   "outputs": [
    {
     "data": {
      "text/plain": "         salary   age\ncompany              \nA         17.25  28.5\nB         44.00  23.0\nC         34.00  34.8",
      "text/html": "<div>\n<style scoped>\n    .dataframe tbody tr th:only-of-type {\n        vertical-align: middle;\n    }\n\n    .dataframe tbody tr th {\n        vertical-align: top;\n    }\n\n    .dataframe thead th {\n        text-align: right;\n    }\n</style>\n<table border=\"1\" class=\"dataframe\">\n  <thead>\n    <tr style=\"text-align: right;\">\n      <th></th>\n      <th>salary</th>\n      <th>age</th>\n    </tr>\n    <tr>\n      <th>company</th>\n      <th></th>\n      <th></th>\n    </tr>\n  </thead>\n  <tbody>\n    <tr>\n      <th>A</th>\n      <td>17.25</td>\n      <td>28.5</td>\n    </tr>\n    <tr>\n      <th>B</th>\n      <td>44.00</td>\n      <td>23.0</td>\n    </tr>\n    <tr>\n      <th>C</th>\n      <td>34.00</td>\n      <td>34.8</td>\n    </tr>\n  </tbody>\n</table>\n</div>"
     },
     "execution_count": 103,
     "metadata": {},
     "output_type": "execute_result"
    }
   ],
   "source": [
    "data.groupby(\"company\").mean()"
   ]
  },
  {
   "cell_type": "markdown",
   "metadata": {},
   "source": [
    "如果想对针对不同的列求不同的值，比如要计算不同公司员工的平均年龄以及薪水的中位数，可以利用字典进行聚合操作的指定："
   ]
  },
  {
   "cell_type": "code",
   "execution_count": 104,
   "metadata": {},
   "outputs": [
    {
     "data": {
      "text/plain": "         salary   age\ncompany              \nA          16.0  28.5\nB          44.0  23.0\nC          42.0  34.8",
      "text/html": "<div>\n<style scoped>\n    .dataframe tbody tr th:only-of-type {\n        vertical-align: middle;\n    }\n\n    .dataframe tbody tr th {\n        vertical-align: top;\n    }\n\n    .dataframe thead th {\n        text-align: right;\n    }\n</style>\n<table border=\"1\" class=\"dataframe\">\n  <thead>\n    <tr style=\"text-align: right;\">\n      <th></th>\n      <th>salary</th>\n      <th>age</th>\n    </tr>\n    <tr>\n      <th>company</th>\n      <th></th>\n      <th></th>\n    </tr>\n  </thead>\n  <tbody>\n    <tr>\n      <th>A</th>\n      <td>16.0</td>\n      <td>28.5</td>\n    </tr>\n    <tr>\n      <th>B</th>\n      <td>44.0</td>\n      <td>23.0</td>\n    </tr>\n    <tr>\n      <th>C</th>\n      <td>42.0</td>\n      <td>34.8</td>\n    </tr>\n  </tbody>\n</table>\n</div>"
     },
     "execution_count": 104,
     "metadata": {},
     "output_type": "execute_result"
    }
   ],
   "source": [
    "data.groupby('company').agg({'salary':'median','age':'mean'})"
   ]
  },
  {
   "cell_type": "markdown",
   "metadata": {},
   "source": [
    "<img src=\"images/20220424235424.png\" style=\"width:60%\"/>"
   ]
  },
  {
   "cell_type": "markdown",
   "metadata": {},
   "source": [
    "###  三、transform 转换值\n",
    "\n",
    "transform是一种什么数据操作？\n",
    "\n",
    "和agg有什么区别呢？\n",
    "\n",
    "\n",
    "为了更好地理解transform和agg的不同，下面从实际的应用场景出发进行对比。\n",
    "\n",
    "在上面的agg中，我们学会了如何求不同公司员工的平均薪水，\n",
    "\n",
    "<b>如果现在需要在原数据集中新增一列avg_salary，代表员工所在的公司的平均薪水（相同公司的员工具有一样的平均薪水），该怎么实现呢？</b>\n",
    "\n",
    "如果按照正常的步骤来计算，需要先求得不同公司的平均薪水，然后按照员工和公司的对应关系填充到对应的位置，不用transform的话"
   ]
  },
  {
   "cell_type": "code",
   "execution_count": 105,
   "metadata": {},
   "outputs": [
    {
     "data": {
      "text/plain": "         salary   age\ncompany              \nA         17.25  28.5\nB         44.00  23.0\nC         34.00  34.8",
      "text/html": "<div>\n<style scoped>\n    .dataframe tbody tr th:only-of-type {\n        vertical-align: middle;\n    }\n\n    .dataframe tbody tr th {\n        vertical-align: top;\n    }\n\n    .dataframe thead th {\n        text-align: right;\n    }\n</style>\n<table border=\"1\" class=\"dataframe\">\n  <thead>\n    <tr style=\"text-align: right;\">\n      <th></th>\n      <th>salary</th>\n      <th>age</th>\n    </tr>\n    <tr>\n      <th>company</th>\n      <th></th>\n      <th></th>\n    </tr>\n  </thead>\n  <tbody>\n    <tr>\n      <th>A</th>\n      <td>17.25</td>\n      <td>28.5</td>\n    </tr>\n    <tr>\n      <th>B</th>\n      <td>44.00</td>\n      <td>23.0</td>\n    </tr>\n    <tr>\n      <th>C</th>\n      <td>34.00</td>\n      <td>34.8</td>\n    </tr>\n  </tbody>\n</table>\n</div>"
     },
     "execution_count": 105,
     "metadata": {},
     "output_type": "execute_result"
    }
   ],
   "source": [
    "data.groupby('company').mean()"
   ]
  },
  {
   "cell_type": "code",
   "execution_count": 106,
   "metadata": {},
   "outputs": [
    {
     "data": {
      "text/plain": "company\nA    17.25\nB    44.00\nC    34.00\nName: salary, dtype: float64"
     },
     "execution_count": 106,
     "metadata": {},
     "output_type": "execute_result"
    }
   ],
   "source": [
    "data.groupby('company').mean()['salary']"
   ]
  },
  {
   "cell_type": "code",
   "execution_count": 107,
   "metadata": {},
   "outputs": [
    {
     "data": {
      "text/plain": "company\nA    17.25\nB    44.00\nC    34.00\nName: salary, dtype: float64"
     },
     "execution_count": 107,
     "metadata": {},
     "output_type": "execute_result"
    }
   ],
   "source": [
    "data.groupby('company')['salary'].mean()"
   ]
  },
  {
   "cell_type": "code",
   "execution_count": 108,
   "metadata": {},
   "outputs": [
    {
     "data": {
      "text/plain": "         salary\ncompany        \nA         17.25\nB         44.00\nC         34.00",
      "text/html": "<div>\n<style scoped>\n    .dataframe tbody tr th:only-of-type {\n        vertical-align: middle;\n    }\n\n    .dataframe tbody tr th {\n        vertical-align: top;\n    }\n\n    .dataframe thead th {\n        text-align: right;\n    }\n</style>\n<table border=\"1\" class=\"dataframe\">\n  <thead>\n    <tr style=\"text-align: right;\">\n      <th></th>\n      <th>salary</th>\n    </tr>\n    <tr>\n      <th>company</th>\n      <th></th>\n    </tr>\n  </thead>\n  <tbody>\n    <tr>\n      <th>A</th>\n      <td>17.25</td>\n    </tr>\n    <tr>\n      <th>B</th>\n      <td>44.00</td>\n    </tr>\n    <tr>\n      <th>C</th>\n      <td>34.00</td>\n    </tr>\n  </tbody>\n</table>\n</div>"
     },
     "execution_count": 108,
     "metadata": {},
     "output_type": "execute_result"
    }
   ],
   "source": [
    "data[['salary','company']].groupby('company').mean()"
   ]
  },
  {
   "cell_type": "code",
   "execution_count": 109,
   "metadata": {},
   "outputs": [
    {
     "data": {
      "text/plain": "         salary\ncompany        \nA         17.25\nB         44.00\nC         34.00",
      "text/html": "<div>\n<style scoped>\n    .dataframe tbody tr th:only-of-type {\n        vertical-align: middle;\n    }\n\n    .dataframe tbody tr th {\n        vertical-align: top;\n    }\n\n    .dataframe thead th {\n        text-align: right;\n    }\n</style>\n<table border=\"1\" class=\"dataframe\">\n  <thead>\n    <tr style=\"text-align: right;\">\n      <th></th>\n      <th>salary</th>\n    </tr>\n    <tr>\n      <th>company</th>\n      <th></th>\n    </tr>\n  </thead>\n  <tbody>\n    <tr>\n      <th>A</th>\n      <td>17.25</td>\n    </tr>\n    <tr>\n      <th>B</th>\n      <td>44.00</td>\n    </tr>\n    <tr>\n      <th>C</th>\n      <td>34.00</td>\n    </tr>\n  </tbody>\n</table>\n</div>"
     },
     "execution_count": 109,
     "metadata": {},
     "output_type": "execute_result"
    }
   ],
   "source": [
    "data[['salary','company']].groupby('company').agg('mean')"
   ]
  },
  {
   "cell_type": "code",
   "execution_count": 110,
   "metadata": {},
   "outputs": [
    {
     "data": {
      "text/plain": "  company  salary\n0       A   17.25\n1       B   44.00\n2       C   34.00",
      "text/html": "<div>\n<style scoped>\n    .dataframe tbody tr th:only-of-type {\n        vertical-align: middle;\n    }\n\n    .dataframe tbody tr th {\n        vertical-align: top;\n    }\n\n    .dataframe thead th {\n        text-align: right;\n    }\n</style>\n<table border=\"1\" class=\"dataframe\">\n  <thead>\n    <tr style=\"text-align: right;\">\n      <th></th>\n      <th>company</th>\n      <th>salary</th>\n    </tr>\n  </thead>\n  <tbody>\n    <tr>\n      <th>0</th>\n      <td>A</td>\n      <td>17.25</td>\n    </tr>\n    <tr>\n      <th>1</th>\n      <td>B</td>\n      <td>44.00</td>\n    </tr>\n    <tr>\n      <th>2</th>\n      <td>C</td>\n      <td>34.00</td>\n    </tr>\n  </tbody>\n</table>\n</div>"
     },
     "execution_count": 110,
     "metadata": {},
     "output_type": "execute_result"
    }
   ],
   "source": [
    "# as_index=False 是否将分组列作为索引列,默认是True\n",
    "data[['salary','company']].groupby('company', as_index=False).mean()"
   ]
  },
  {
   "cell_type": "code",
   "execution_count": 111,
   "metadata": {
    "scrolled": true
   },
   "outputs": [
    {
     "data": {
      "text/plain": "{'A': 17.25, 'B': 44.0, 'C': 34.0}"
     },
     "execution_count": 111,
     "metadata": {},
     "output_type": "execute_result"
    }
   ],
   "source": [
    "# to_dict将表格中的数据转换成字典格式\n",
    "avg_salary_dict= data.groupby('company')['salary'].mean().to_dict()\n",
    "avg_salary_dict"
   ]
  },
  {
   "cell_type": "code",
   "execution_count": 112,
   "metadata": {},
   "outputs": [
    {
     "data": {
      "text/plain": "0    C\n1    A\n2    A\n3    C\n4    C\n5    C\n6    B\n7    A\n8    C\n9    A\nName: company, dtype: object"
     },
     "execution_count": 112,
     "metadata": {},
     "output_type": "execute_result"
    }
   ],
   "source": [
    "data['company']"
   ]
  },
  {
   "cell_type": "code",
   "execution_count": 113,
   "metadata": {
    "scrolled": true
   },
   "outputs": [
    {
     "data": {
      "text/plain": "  company  salary  age  avg_salary\n0       C      30   43       34.00\n1       A       5   23       17.25\n2       A       7   31       17.25\n3       C      42   49       34.00\n4       C      48   15       34.00\n5       C       6   47       34.00\n6       B      44   23       44.00\n7       A      32   28       17.25\n8       C      44   20       34.00\n9       A      25   32       17.25",
      "text/html": "<div>\n<style scoped>\n    .dataframe tbody tr th:only-of-type {\n        vertical-align: middle;\n    }\n\n    .dataframe tbody tr th {\n        vertical-align: top;\n    }\n\n    .dataframe thead th {\n        text-align: right;\n    }\n</style>\n<table border=\"1\" class=\"dataframe\">\n  <thead>\n    <tr style=\"text-align: right;\">\n      <th></th>\n      <th>company</th>\n      <th>salary</th>\n      <th>age</th>\n      <th>avg_salary</th>\n    </tr>\n  </thead>\n  <tbody>\n    <tr>\n      <th>0</th>\n      <td>C</td>\n      <td>30</td>\n      <td>43</td>\n      <td>34.00</td>\n    </tr>\n    <tr>\n      <th>1</th>\n      <td>A</td>\n      <td>5</td>\n      <td>23</td>\n      <td>17.25</td>\n    </tr>\n    <tr>\n      <th>2</th>\n      <td>A</td>\n      <td>7</td>\n      <td>31</td>\n      <td>17.25</td>\n    </tr>\n    <tr>\n      <th>3</th>\n      <td>C</td>\n      <td>42</td>\n      <td>49</td>\n      <td>34.00</td>\n    </tr>\n    <tr>\n      <th>4</th>\n      <td>C</td>\n      <td>48</td>\n      <td>15</td>\n      <td>34.00</td>\n    </tr>\n    <tr>\n      <th>5</th>\n      <td>C</td>\n      <td>6</td>\n      <td>47</td>\n      <td>34.00</td>\n    </tr>\n    <tr>\n      <th>6</th>\n      <td>B</td>\n      <td>44</td>\n      <td>23</td>\n      <td>44.00</td>\n    </tr>\n    <tr>\n      <th>7</th>\n      <td>A</td>\n      <td>32</td>\n      <td>28</td>\n      <td>17.25</td>\n    </tr>\n    <tr>\n      <th>8</th>\n      <td>C</td>\n      <td>44</td>\n      <td>20</td>\n      <td>34.00</td>\n    </tr>\n    <tr>\n      <th>9</th>\n      <td>A</td>\n      <td>25</td>\n      <td>32</td>\n      <td>17.25</td>\n    </tr>\n  </tbody>\n</table>\n</div>"
     },
     "execution_count": 113,
     "metadata": {},
     "output_type": "execute_result"
    }
   ],
   "source": [
    "# map()函数可以用于Series对象或DataFrame对象的一列，\n",
    "# 接收函数作为或字典对象作为参数，返回经过函数或字典映射处理后的值。\n",
    "data['avg_salary'] = data['company'].map(avg_salary_dict)\n",
    "data"
   ]
  },
  {
   "cell_type": "markdown",
   "metadata": {},
   "source": [
    "如果使用transform的话，仅需要一行代码："
   ]
  },
  {
   "cell_type": "code",
   "execution_count": 114,
   "metadata": {},
   "outputs": [
    {
     "data": {
      "text/plain": "  company  salary  age  avg_salary  avg_salary1\n0       C      30   43       34.00        34.00\n1       A       5   23       17.25        17.25\n2       A       7   31       17.25        17.25\n3       C      42   49       34.00        34.00\n4       C      48   15       34.00        34.00\n5       C       6   47       34.00        34.00\n6       B      44   23       44.00        44.00\n7       A      32   28       17.25        17.25\n8       C      44   20       34.00        34.00\n9       A      25   32       17.25        17.25",
      "text/html": "<div>\n<style scoped>\n    .dataframe tbody tr th:only-of-type {\n        vertical-align: middle;\n    }\n\n    .dataframe tbody tr th {\n        vertical-align: top;\n    }\n\n    .dataframe thead th {\n        text-align: right;\n    }\n</style>\n<table border=\"1\" class=\"dataframe\">\n  <thead>\n    <tr style=\"text-align: right;\">\n      <th></th>\n      <th>company</th>\n      <th>salary</th>\n      <th>age</th>\n      <th>avg_salary</th>\n      <th>avg_salary1</th>\n    </tr>\n  </thead>\n  <tbody>\n    <tr>\n      <th>0</th>\n      <td>C</td>\n      <td>30</td>\n      <td>43</td>\n      <td>34.00</td>\n      <td>34.00</td>\n    </tr>\n    <tr>\n      <th>1</th>\n      <td>A</td>\n      <td>5</td>\n      <td>23</td>\n      <td>17.25</td>\n      <td>17.25</td>\n    </tr>\n    <tr>\n      <th>2</th>\n      <td>A</td>\n      <td>7</td>\n      <td>31</td>\n      <td>17.25</td>\n      <td>17.25</td>\n    </tr>\n    <tr>\n      <th>3</th>\n      <td>C</td>\n      <td>42</td>\n      <td>49</td>\n      <td>34.00</td>\n      <td>34.00</td>\n    </tr>\n    <tr>\n      <th>4</th>\n      <td>C</td>\n      <td>48</td>\n      <td>15</td>\n      <td>34.00</td>\n      <td>34.00</td>\n    </tr>\n    <tr>\n      <th>5</th>\n      <td>C</td>\n      <td>6</td>\n      <td>47</td>\n      <td>34.00</td>\n      <td>34.00</td>\n    </tr>\n    <tr>\n      <th>6</th>\n      <td>B</td>\n      <td>44</td>\n      <td>23</td>\n      <td>44.00</td>\n      <td>44.00</td>\n    </tr>\n    <tr>\n      <th>7</th>\n      <td>A</td>\n      <td>32</td>\n      <td>28</td>\n      <td>17.25</td>\n      <td>17.25</td>\n    </tr>\n    <tr>\n      <th>8</th>\n      <td>C</td>\n      <td>44</td>\n      <td>20</td>\n      <td>34.00</td>\n      <td>34.00</td>\n    </tr>\n    <tr>\n      <th>9</th>\n      <td>A</td>\n      <td>25</td>\n      <td>32</td>\n      <td>17.25</td>\n      <td>17.25</td>\n    </tr>\n  </tbody>\n</table>\n</div>"
     },
     "execution_count": 114,
     "metadata": {},
     "output_type": "execute_result"
    }
   ],
   "source": [
    "data['avg_salary1'] = data.groupby('company')['salary'].transform('mean')\n",
    "data\n",
    "# 分组之后的数据3条  A--值  B--值  C--对应的值"
   ]
  },
  {
   "cell_type": "code",
   "execution_count": 115,
   "metadata": {},
   "outputs": [
    {
     "data": {
      "text/plain": "0    34.00\n1    17.25\n2    17.25\n3    34.00\n4    34.00\n5    34.00\n6    44.00\n7    17.25\n8    34.00\n9    17.25\nName: salary, dtype: float64"
     },
     "execution_count": 115,
     "metadata": {},
     "output_type": "execute_result"
    }
   ],
   "source": [
    "data.groupby('company')['salary'].transform('mean')"
   ]
  },
  {
   "cell_type": "markdown",
   "metadata": {},
   "source": [
    "还是以图解的方式来看看进行groupby后transform的实现过程（为了更直观展示，图中加入了company列，实际按照上面的代码只有salary列）："
   ]
  },
  {
   "cell_type": "markdown",
   "metadata": {},
   "source": [
    "<img src=\"images/20220425000807.png\" style=\"width:80%\"/>"
   ]
  },
  {
   "cell_type": "markdown",
   "metadata": {},
   "source": [
    "图中的大方框是transform和agg所不一样的地方，对agg而言，会计算得到A，B，C公司对应的均值并直接返回，\n",
    "\n",
    "但对transform而言，则会对每一条数据求得相应的结果，同一组内的样本会有相同的值，\n",
    "\n",
    "组内求完均值后会`按照原索引的顺序`返回结果，如果有不理解的可以拿这张图和agg那张对比一下。"
   ]
  },
  {
   "cell_type": "markdown",
   "metadata": {},
   "source": [
    "### 四、apply \n",
    "它相比agg和transform而言更加灵活，能够传入任意自定义的函数，实现复杂的数据操作\n",
    "\n",
    "对于groupby后的apply，以分组后的子DataFrame作为参数传入指定函数的，基本操作单位是DataFrame"
   ]
  },
  {
   "cell_type": "code",
   "execution_count": 116,
   "metadata": {},
   "outputs": [
    {
     "data": {
      "text/plain": "[('A',\n    company  salary  age  avg_salary  avg_salary1\n  1       A       5   23       17.25        17.25\n  2       A       7   31       17.25        17.25\n  7       A      32   28       17.25        17.25\n  9       A      25   32       17.25        17.25),\n ('B',\n    company  salary  age  avg_salary  avg_salary1\n  6       B      44   23        44.0         44.0),\n ('C',\n    company  salary  age  avg_salary  avg_salary1\n  0       C      30   43        34.0         34.0\n  3       C      42   49        34.0         34.0\n  4       C      48   15        34.0         34.0\n  5       C       6   47        34.0         34.0\n  8       C      44   20        34.0         34.0)]"
     },
     "execution_count": 116,
     "metadata": {},
     "output_type": "execute_result"
    }
   ],
   "source": [
    "list(data.groupby('company',as_index=False))"
   ]
  },
  {
   "cell_type": "markdown",
   "metadata": {},
   "source": [
    "<b>假设我现在需要获取各个公司年龄最大的员工的数据，该怎么实现呢？可以用以下代码实现：</b>"
   ]
  },
  {
   "cell_type": "code",
   "execution_count": 121,
   "metadata": {},
   "outputs": [
    {
     "name": "stdout",
     "output_type": "stream",
     "text": [
      "  company  salary  age  avg_salary  avg_salary1\n",
      "1       A       5   23       17.25        17.25\n",
      "7       A      32   28       17.25        17.25\n",
      "2       A       7   31       17.25        17.25\n",
      "9       A      25   32       17.25        17.25\n",
      "  company  salary  age  avg_salary  avg_salary1\n",
      "6       B      44   23        44.0         44.0\n",
      "  company  salary  age  avg_salary  avg_salary1\n",
      "4       C      48   15        34.0         34.0\n",
      "8       C      44   20        34.0         34.0\n",
      "0       C      30   43        34.0         34.0\n",
      "5       C       6   47        34.0         34.0\n",
      "3       C      42   49        34.0         34.0\n"
     ]
    },
    {
     "data": {
      "text/plain": "  company  salary  age  avg_salary  avg_salary1\n0       A      25   32       17.25        17.25\n1       B      44   23       44.00        44.00\n2       C      42   49       34.00        34.00",
      "text/html": "<div>\n<style scoped>\n    .dataframe tbody tr th:only-of-type {\n        vertical-align: middle;\n    }\n\n    .dataframe tbody tr th {\n        vertical-align: top;\n    }\n\n    .dataframe thead th {\n        text-align: right;\n    }\n</style>\n<table border=\"1\" class=\"dataframe\">\n  <thead>\n    <tr style=\"text-align: right;\">\n      <th></th>\n      <th>company</th>\n      <th>salary</th>\n      <th>age</th>\n      <th>avg_salary</th>\n      <th>avg_salary1</th>\n    </tr>\n  </thead>\n  <tbody>\n    <tr>\n      <th>0</th>\n      <td>A</td>\n      <td>25</td>\n      <td>32</td>\n      <td>17.25</td>\n      <td>17.25</td>\n    </tr>\n    <tr>\n      <th>1</th>\n      <td>B</td>\n      <td>44</td>\n      <td>23</td>\n      <td>44.00</td>\n      <td>44.00</td>\n    </tr>\n    <tr>\n      <th>2</th>\n      <td>C</td>\n      <td>42</td>\n      <td>49</td>\n      <td>34.00</td>\n      <td>34.00</td>\n    </tr>\n  </tbody>\n</table>\n</div>"
     },
     "execution_count": 121,
     "metadata": {},
     "output_type": "execute_result"
    }
   ],
   "source": [
    "def get_oldest_staff(x):\n",
    "    # 输入的数据按照age字段进行排序\n",
    "    df = x.sort_values(by = 'age',ascending=True)\n",
    "    print(df)\n",
    "    # 返回最后一条数据\n",
    "    return df.iloc[-1]\n",
    "\n",
    "oldest_staff = data.groupby('company',as_index=False).apply(get_oldest_staff)\n",
    "oldest_staff"
   ]
  },
  {
   "cell_type": "markdown",
   "metadata": {},
   "source": [
    "这样便得到了每个公司年龄最大的员工的数据，整个流程图解如下：\n",
    "<img src=\"images/20220425002232.png\" style=\"width:80%\"/>"
   ]
  },
  {
   "cell_type": "markdown",
   "metadata": {},
   "source": [
    "> 虽然说apply拥有更大的灵活性，但apply的运行效率会比agg和transform更慢。所以，groupby之后能用agg和transform解决的问题还是优先使用这两个方法，实在解决不了了才考虑使用apply进行操作"
   ]
  },
  {
   "cell_type": "code",
   "execution_count": 126,
   "metadata": {},
   "outputs": [
    {
     "data": {
      "text/plain": "  company   name  salary  age\n0       C  name0      34   46\n1       C  name1      42   28\n2       A  name2      39   27\n3       C  name3      36   21\n4       B  name4      25   20\n5       C  name5      20   45\n6       B  name6      14   28\n7       C  name7      49   18\n8       A  name8       9   22\n9       B  name9       8   23",
      "text/html": "<div>\n<style scoped>\n    .dataframe tbody tr th:only-of-type {\n        vertical-align: middle;\n    }\n\n    .dataframe tbody tr th {\n        vertical-align: top;\n    }\n\n    .dataframe thead th {\n        text-align: right;\n    }\n</style>\n<table border=\"1\" class=\"dataframe\">\n  <thead>\n    <tr style=\"text-align: right;\">\n      <th></th>\n      <th>company</th>\n      <th>name</th>\n      <th>salary</th>\n      <th>age</th>\n    </tr>\n  </thead>\n  <tbody>\n    <tr>\n      <th>0</th>\n      <td>C</td>\n      <td>name0</td>\n      <td>34</td>\n      <td>46</td>\n    </tr>\n    <tr>\n      <th>1</th>\n      <td>C</td>\n      <td>name1</td>\n      <td>42</td>\n      <td>28</td>\n    </tr>\n    <tr>\n      <th>2</th>\n      <td>A</td>\n      <td>name2</td>\n      <td>39</td>\n      <td>27</td>\n    </tr>\n    <tr>\n      <th>3</th>\n      <td>C</td>\n      <td>name3</td>\n      <td>36</td>\n      <td>21</td>\n    </tr>\n    <tr>\n      <th>4</th>\n      <td>B</td>\n      <td>name4</td>\n      <td>25</td>\n      <td>20</td>\n    </tr>\n    <tr>\n      <th>5</th>\n      <td>C</td>\n      <td>name5</td>\n      <td>20</td>\n      <td>45</td>\n    </tr>\n    <tr>\n      <th>6</th>\n      <td>B</td>\n      <td>name6</td>\n      <td>14</td>\n      <td>28</td>\n    </tr>\n    <tr>\n      <th>7</th>\n      <td>C</td>\n      <td>name7</td>\n      <td>49</td>\n      <td>18</td>\n    </tr>\n    <tr>\n      <th>8</th>\n      <td>A</td>\n      <td>name8</td>\n      <td>9</td>\n      <td>22</td>\n    </tr>\n    <tr>\n      <th>9</th>\n      <td>B</td>\n      <td>name9</td>\n      <td>8</td>\n      <td>23</td>\n    </tr>\n  </tbody>\n</table>\n</div>"
     },
     "execution_count": 126,
     "metadata": {},
     "output_type": "execute_result"
    }
   ],
   "source": [
    "company=[\"A\",\"B\",\"C\"]\n",
    "\n",
    "name =[f\"name{i}\" for i in range(10)]\n",
    "data2=pd.DataFrame({\n",
    "        \"company\":[company[x] for x in np.random.randint(0,len(company),10)],\n",
    "        \"name\":name,\n",
    "        \"salary\":np.random.randint(5,50,10),\n",
    "        \"age\":np.random.randint(15,50,10)\n",
    "    }\n",
    ")\n",
    "data2"
   ]
  },
  {
   "cell_type": "code",
   "execution_count": 119,
   "metadata": {},
   "outputs": [
    {
     "data": {
      "text/plain": "               salary   age\ncompany name               \nA       name0    28.0  45.0\n        name1    22.0  38.0\n        name3    19.0  37.0\n        name5    48.0  19.0\nB       name4    22.0  19.0\n        name8    27.0  24.0\n        name9     7.0  33.0\nC       name2    11.0  46.0\n        name6    43.0  26.0\n        name7     5.0  37.0",
      "text/html": "<div>\n<style scoped>\n    .dataframe tbody tr th:only-of-type {\n        vertical-align: middle;\n    }\n\n    .dataframe tbody tr th {\n        vertical-align: top;\n    }\n\n    .dataframe thead th {\n        text-align: right;\n    }\n</style>\n<table border=\"1\" class=\"dataframe\">\n  <thead>\n    <tr style=\"text-align: right;\">\n      <th></th>\n      <th></th>\n      <th>salary</th>\n      <th>age</th>\n    </tr>\n    <tr>\n      <th>company</th>\n      <th>name</th>\n      <th></th>\n      <th></th>\n    </tr>\n  </thead>\n  <tbody>\n    <tr>\n      <th rowspan=\"4\" valign=\"top\">A</th>\n      <th>name0</th>\n      <td>28.0</td>\n      <td>45.0</td>\n    </tr>\n    <tr>\n      <th>name1</th>\n      <td>22.0</td>\n      <td>38.0</td>\n    </tr>\n    <tr>\n      <th>name3</th>\n      <td>19.0</td>\n      <td>37.0</td>\n    </tr>\n    <tr>\n      <th>name5</th>\n      <td>48.0</td>\n      <td>19.0</td>\n    </tr>\n    <tr>\n      <th rowspan=\"3\" valign=\"top\">B</th>\n      <th>name4</th>\n      <td>22.0</td>\n      <td>19.0</td>\n    </tr>\n    <tr>\n      <th>name8</th>\n      <td>27.0</td>\n      <td>24.0</td>\n    </tr>\n    <tr>\n      <th>name9</th>\n      <td>7.0</td>\n      <td>33.0</td>\n    </tr>\n    <tr>\n      <th rowspan=\"3\" valign=\"top\">C</th>\n      <th>name2</th>\n      <td>11.0</td>\n      <td>46.0</td>\n    </tr>\n    <tr>\n      <th>name6</th>\n      <td>43.0</td>\n      <td>26.0</td>\n    </tr>\n    <tr>\n      <th>name7</th>\n      <td>5.0</td>\n      <td>37.0</td>\n    </tr>\n  </tbody>\n</table>\n</div>"
     },
     "execution_count": 119,
     "metadata": {},
     "output_type": "execute_result"
    }
   ],
   "source": [
    "data3 = data2.groupby([\"company\",\"name\"]).mean()\n",
    "data3"
   ]
  },
  {
   "cell_type": "code",
   "execution_count": 120,
   "metadata": {},
   "outputs": [
    {
     "data": {
      "text/plain": "salary    22.0\nage       38.0\nName: name1, dtype: float64"
     },
     "execution_count": 120,
     "metadata": {},
     "output_type": "execute_result"
    }
   ],
   "source": [
    "data3.loc[\"A\"].loc[\"name1\"]"
   ]
  },
  {
   "cell_type": "code",
   "execution_count": 120,
   "metadata": {},
   "outputs": [],
   "source": []
  }
 ],
 "metadata": {
  "kernelspec": {
   "display_name": "Python 3",
   "language": "python",
   "name": "python3"
  },
  "language_info": {
   "codemirror_mode": {
    "name": "ipython",
    "version": 3
   },
   "file_extension": ".py",
   "mimetype": "text/x-python",
   "name": "python",
   "nbconvert_exporter": "python",
   "pygments_lexer": "ipython3",
   "version": "3.7.6"
  }
 },
 "nbformat": 4,
 "nbformat_minor": 4
}