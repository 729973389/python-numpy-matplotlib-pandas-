{
 "cells": [
  {
   "cell_type": "code",
   "execution_count": 1,
   "outputs": [],
   "source": [],
   "metadata": {
    "collapsed": false,
    "pycharm": {
     "name": "#%%\n"
    }
   }
  },
  {
   "cell_type": "code",
   "execution_count": 2,
   "metadata": {},
   "outputs": [],
   "source": [
    "import numpy as np"
   ]
  },
  {
   "cell_type": "markdown",
   "metadata": {},
   "source": [
    "# 随机函数\n",
    "\n",
    "NumPy中也有自己的随机函数，包含在random模块中。它能产生特定分布的随机数，如正态分布等。接下来介绍一些常用的随机数。\n",
    "\n",
    "\n",
    "| 函数名                          | 功能                    | 参数使用(int a,b,c,d)       |\n",
    "| :------------------------------- | :----------------------- | :--------------------------- |\n",
    "| rand(int1,[int2,[int3,]])       | 生成(0,1)均匀分布随机数 | (a)，(a,b)，(a,b,c)         |\n",
    "| randn(int1,[int2,[int3,]])      | 生成标准正态分布随机数  | (a)，(a,b)，(a,b,c)         |\n",
    "| randint(low[,hight,size,dtype]) | 生成随机整数            | (a,b)，(a,b,c)，(a,b,(c,d)) |\n",
    "| sample(size)             | 生成[0,1)随机数         | (a)，((a,b))，((a,b,c))     |"
   ]
  },
  {
   "cell_type": "markdown",
   "metadata": {},
   "source": [
    "### numpy.random.rand(d0,d1,…,dn)\n",
    "\n",
    "- rand函数根据给定维度生成[0,1)之间的数据，包含0，不包含1\n",
    "- dn表示每个维度\n",
    "- 返回值为指定维度的array\n"
   ]
  },
  {
   "cell_type": "code",
   "execution_count": 3,
   "metadata": {},
   "outputs": [
    {
     "data": {
      "text/plain": "array([[0.13667312, 0.58009654],\n       [0.40684328, 0.05147746],\n       [0.72314199, 0.81987903],\n       [0.55251873, 0.93021883]])"
     },
     "execution_count": 3,
     "metadata": {},
     "output_type": "execute_result"
    }
   ],
   "source": [
    "# 创建4行2列的随机数据\n",
    "np.random.rand(4,2)"
   ]
  },
  {
   "cell_type": "code",
   "execution_count": 4,
   "metadata": {},
   "outputs": [
    {
     "data": {
      "text/plain": "array([[[0.71252218, 0.24091605, 0.00099954],\n        [0.18022495, 0.13423416, 0.69751699]],\n\n       [[0.90663778, 0.49973127, 0.3426611 ],\n        [0.01227594, 0.34582454, 0.66895897]]])"
     },
     "execution_count": 4,
     "metadata": {},
     "output_type": "execute_result"
    }
   ],
   "source": [
    "# 创建2块2行3列的随机数据\n",
    "np.random.rand(2,2,3)"
   ]
  },
  {
   "cell_type": "markdown",
   "metadata": {},
   "source": [
    "### numpy.random.randn(d0,d1,…,dn)\n",
    "\n",
    "- randn函数返回一个或一组样本，具有标准正态分布。\n",
    "- dn表示每个维度\n",
    "- 返回值为指定维度的array\n",
    "\n",
    "标准正态分布又称为u分布，是以0为均值、以1为标准差的正态分布，记为N（0，1）。"
   ]
  },
  {
   "cell_type": "code",
   "execution_count": 5,
   "metadata": {},
   "outputs": [
    {
     "name": "stdout",
     "output_type": "stream",
     "text": [
      "[ 0.32012312 -0.24489039  0.78203298 -0.81352888 -2.74303585 -0.1250828\n",
      "  0.68870702 -0.66063429  1.39510051 -0.44956879]\n"
     ]
    },
    {
     "data": {
      "text/plain": "(array([1., 0., 0., 0., 1., 2., 2., 1., 2., 1.]),\n array([-2.74303585, -2.32922222, -1.91540858, -1.50159495, -1.08778131,\n        -0.67396767, -0.26015404,  0.1536596 ,  0.56747324,  0.98128687,\n         1.39510051]),\n <BarContainer object of 10 artists>)"
     },
     "execution_count": 5,
     "metadata": {},
     "output_type": "execute_result"
    },
    {
     "data": {
      "text/plain": "<Figure size 432x288 with 1 Axes>",
      "image/png": "[encoded data removed]"
     },
     "metadata": {
      "needs_background": "light"
     },
     "output_type": "display_data"
    }
   ],
   "source": [
    "from matplotlib import pyplot as plt\n",
    "a = np.random.randn(10)\n",
    "print(a)\n",
    "# 直方图\n",
    "plt.hist(a)"
   ]
  },
  {
   "cell_type": "markdown",
   "metadata": {},
   "source": [
    "### numpy.random.normal()\n",
    "\n",
    "`numpy.random.normal(loc=0.0, scale=1.0, size=None)`\n",
    "返回一个由size指定形状的数组，数组中的值服从 μ=loc,σ=scale 的正态分布。"
   ]
  },
  {
   "cell_type": "markdown",
   "metadata": {},
   "source": [
    "### numpy.random.randint()\n",
    "\n",
    "`numpy.random.randint(low, high=None, size=None, dtype=’l’)`\n",
    "- 返回随机整数，范围区间为[low,high），包含low，不包含high\n",
    "- 参数：low为最小值，high为最大值，size为数组维度大小，dtype为数据类型，默认的数据类型是np.int\n",
    "- high没有填写时，默认生成随机数的范围是[0，low)"
   ]
  },
  {
   "cell_type": "code",
   "execution_count": 6,
   "metadata": {},
   "outputs": [
    {
     "data": {
      "text/plain": "array([8, 2, 8, 3, 6])"
     },
     "execution_count": 6,
     "metadata": {},
     "output_type": "execute_result"
    }
   ],
   "source": [
    "# 返回[0,1)之间的整数，所以只有0\n",
    "np.random.randint(10,size=5)"
   ]
  },
  {
   "cell_type": "code",
   "execution_count": 6,
   "outputs": [],
   "source": [],
   "metadata": {
    "collapsed": false,
    "pycharm": {
     "name": "#%%\n"
    }
   }
  },
  {
   "cell_type": "code",
   "execution_count": 7,
   "metadata": {},
   "outputs": [
    {
     "data": {
      "text/plain": "array([3, 6, 6, 7, 6])"
     },
     "execution_count": 7,
     "metadata": {},
     "output_type": "execute_result"
    }
   ],
   "source": [
    "#返回[2-10]之间的数\n",
    "np.random.randint(2,10,size=5)\n"
   ]
  },
  {
   "cell_type": "code",
   "execution_count": 8,
   "metadata": {},
   "outputs": [
    {
     "data": {
      "text/plain": "array([[5, 4, 4, 5, 7],\n       [7, 4, 6, 9, 4]])"
     },
     "execution_count": 8,
     "metadata": {},
     "output_type": "execute_result"
    }
   ],
   "source": [
    "#生成2维数组2行5列\n",
    "np.random.randint(2,10,size=(2,5))"
   ]
  },
  {
   "cell_type": "code",
   "execution_count": 9,
   "metadata": {},
   "outputs": [
    {
     "data": {
      "text/plain": "1"
     },
     "execution_count": 9,
     "metadata": {},
     "output_type": "execute_result"
    }
   ],
   "source": [
    "# 返回1个[1,5)时间的随机整数\n",
    "np.random.randint(1,5)"
   ]
  },
  {
   "cell_type": "code",
   "execution_count": 10,
   "metadata": {},
   "outputs": [
    {
     "data": {
      "text/plain": "array([[ 3,  3],\n       [-3,  2]])"
     },
     "execution_count": 10,
     "metadata": {},
     "output_type": "execute_result"
    }
   ],
   "source": [
    "# 返回 -5到5之间不包含5的 2行2列数据\n",
    "np.random.randint(-5,5,size=(2,2))"
   ]
  },
  {
   "cell_type": "code",
   "execution_count": 11,
   "outputs": [
    {
     "data": {
      "text/plain": "array([[[-3,  4,  2, -2],\n        [-2,  4, -5, -3],\n        [-1,  4,  2, -3]],\n\n       [[-2, -2,  0,  4],\n        [ 4, -1,  0,  2],\n        [ 0, -4, -1,  1]]])"
     },
     "execution_count": 11,
     "metadata": {},
     "output_type": "execute_result"
    }
   ],
   "source": [
    "#返回-5到5之间不包含5的2块3行4列的随机整数\n",
    "np.random.randint(-5,5,size=(2,3,4))"
   ],
   "metadata": {
    "collapsed": false,
    "pycharm": {
     "name": "#%%\n"
    }
   }
  },
  {
   "cell_type": "markdown",
   "metadata": {},
   "source": [
    "### numpy.random.sample\n",
    "\n",
    "`numpy.random.sample(size=None)`\n",
    "\n",
    "返回半开区间内的随机浮点数[0.0，1.0]。"
   ]
  },
  {
   "cell_type": "code",
   "execution_count": 12,
   "metadata": {},
   "outputs": [
    {
     "data": {
      "text/plain": "array([[[0.86577476, 0.00575747, 0.28847981],\n        [0.21825373, 0.79829647, 0.42738204]],\n\n       [[0.26419003, 0.28077063, 0.5806872 ],\n        [0.40755619, 0.86294789, 0.65877949]]])"
     },
     "execution_count": 12,
     "metadata": {},
     "output_type": "execute_result"
    }
   ],
   "source": [
    "np.random.sample((2,3))\n",
    "np.random.sample((2,2,3))"
   ]
  },
  {
   "cell_type": "markdown",
   "metadata": {},
   "source": []
  },
  {
   "cell_type": "markdown",
   "metadata": {},
   "source": [
    "### 随机种子np.random.seed()\n",
    "\n",
    "使用相同的seed()值，则每次生成的随机数都相同,使得随机数可以预测\n",
    "\n",
    "但是，只在调用的时候seed()一下并不能使生成的随机数相同，需要每次调用都seed()一下，表示种子相同，从而生成的随机数相同。"
   ]
  },
  {
   "cell_type": "code",
   "execution_count": 13,
   "metadata": {},
   "outputs": [
    {
     "name": "stdout",
     "output_type": "stream",
     "text": [
      "[[-0.41675785 -0.05626683 -2.1361961 ]\n",
      " [ 1.64027081 -1.79343559 -0.84174737]\n",
      " [ 0.50288142 -1.24528809 -1.05795222]]\n",
      "----------\n",
      "[[-0.90900761  0.55145404  2.29220801]\n",
      " [ 0.04153939 -1.11792545  0.53905832]\n",
      " [-0.5961597  -0.0191305   1.17500122]]\n"
     ]
    }
   ],
   "source": [
    "np.random.seed(2)\n",
    "\n",
    "L1 = np.random.randn(3, 3)\n",
    "L2 = np.random.randn(3, 3)\n",
    "print(L1)\n",
    "print(\"-\"*10)\n",
    "print(L2)"
   ]
  },
  {
   "cell_type": "code",
   "execution_count": 14,
   "metadata": {},
   "outputs": [
    {
     "name": "stdout",
     "output_type": "stream",
     "text": [
      "[[ 1.62434536 -0.61175641 -0.52817175]\n",
      " [-1.07296862  0.86540763 -2.3015387 ]\n",
      " [ 1.74481176 -0.7612069   0.3190391 ]]\n",
      "----------\n",
      "[[ 1.62434536 -0.61175641 -0.52817175]\n",
      " [-1.07296862  0.86540763 -2.3015387 ]\n",
      " [ 1.74481176 -0.7612069   0.3190391 ]]\n"
     ]
    }
   ],
   "source": [
    "np.random.seed(1)\n",
    " \n",
    "L1 = np.random.randn(3, 3)\n",
    "\n",
    "np.random.seed(1)\n",
    "L2 = np.random.randn(3, 3)\n",
    "print(L1)\n",
    "print(\"-\"*10)\n",
    "print(L2)"
   ]
  },
  {
   "cell_type": "markdown",
   "metadata": {},
   "source": [
    "### 正态分布 numpy.random.normal\n",
    "`numpy.random.normal(loc=0.0, scale=1.0, size=None)`\n",
    "\n",
    "作用：返回一个由size指定形状的数组，数组中的值服从 μ=loc,σ=scale 的正态分布。\n",
    "\n",
    "参数：\n",
    "- loc : float型或者float型的类数组对象，指定均值 μ\n",
    "- scale : float型或者float型的类数组对象，指定标准差 σ\n",
    "- size : int型或者int型的元组，指定了数组的形状。如果不提供size，且loc和scale为标量（不是类数组对象），则返回一个服从该分布的随机数。"
   ]
  },
  {
   "cell_type": "code",
   "execution_count": 15,
   "metadata": {},
   "outputs": [
    {
     "name": "stdout",
     "output_type": "stream",
     "text": [
      "[[-0.24937038  1.46210794]\n",
      " [-2.06014071 -0.3224172 ]\n",
      " [-0.38405435  1.13376944]]\n",
      "--------------------\n",
      "[1.7003262  4.48271538 2.36642475 ... 3.4012789  2.59889583 8.08895452]\n"
     ]
    },
    {
     "data": {
      "text/plain": "(array([  14.,  150.,  698., 1932., 2913., 2595., 1246.,  387.,   55.,\n          10.]),\n array([-5.9693203 , -3.66433355, -1.35934681,  0.94563993,  3.25062667,\n         5.55561342,  7.86060016, 10.1655869 , 12.47057365, 14.77556039,\n        17.08054713]),\n <BarContainer object of 10 artists>)"
     },
     "execution_count": 15,
     "metadata": {},
     "output_type": "execute_result"
    },
    {
     "data": {
      "text/plain": "<Figure size 432x288 with 1 Axes>",
      "image/png": "[encoded data removed]"
     },
     "metadata": {
      "needs_background": "light"
     },
     "output_type": "display_data"
    }
   ],
   "source": [
    "# 标准正态分布，3行2列\n",
    "a = np.random.normal(0, 1, (3, 2))\n",
    "print(a)\n",
    "print('-'*20)\n",
    "# 均值为1，标准差为3\n",
    "import matplotlib.pyplot as plt\n",
    "b = np.random.normal(5, 3, (10000,))\n",
    "print(b)\n",
    "plt.hist(b)"
   ]
  },
  {
   "cell_type": "markdown",
   "metadata": {},
   "source": [
    "\n",
    "# 数组的其他函数"
   ]
  },
  {
   "cell_type": "markdown",
   "metadata": {},
   "source": [
    "主要有以下方法:"
   ]
  },
  {
   "cell_type": "markdown",
   "metadata": {},
   "source": [
    "| 函数名称 | 描述说明                                                     |\n",
    "| :-------- | :------------------------------------------------------------ |\n",
    "| resize   | 返回指定形状的新数组。                                       |\n",
    "| append   | 将元素值添加到数组的末尾。                                   |\n",
    "| insert   | 沿规定的轴将元素值插入到指定的元素前。                       |\n",
    "| delete   | 删掉某个轴上的子数组，并返回删除后的新数组。                 |\n",
    "| argwhere | 返回数组内符合条件的元素的索引值。                           |\n",
    "| unique   | 用于删除数组中重复的元素，并按元素值由大到小返回一个新数组。 |\n",
    "| sort()   | 对输入数组执行排序，并返回一个数组副本                       |\n",
    "| argsort  | 沿着指定的轴，对输入数组的元素值进行排序，并返回排序后的元素索引数组 |"
   ]
  },
  {
   "cell_type": "markdown",
   "metadata": {},
   "source": [
    "#### numpy.resize()\n",
    "\n",
    "`numpy.resize(arr, shape)`\n",
    "\n",
    "numpy.resize() 返回指定形状的新数组。\n",
    "\n",
    "numpy.resize(arr,shape) 和ndarray.resize(shape, refcheck=False)区别:\n",
    "- numpy.resize(arr,shape),有返回值,返回复制内容.如果维度不够,会使用原数组数据补齐\n",
    "- ndarray.resize(shape, refcheck=False),修改原数组,不会返回数据,如果维度不够,会使用0补齐"
   ]
  },
  {
   "cell_type": "code",
   "execution_count": 16,
   "metadata": {},
   "outputs": [
    {
     "name": "stdout",
     "output_type": "stream",
     "text": [
      "a数组: [[1 2 3]\n",
      " [4 5 6]]\n",
      "a数组形状: (2, 3)\n"
     ]
    }
   ],
   "source": [
    "a = np.array([[1,2,3],[4,5,6]])\n",
    "print('a数组:',a)\n",
    "#a数组的形状\n",
    "print('a数组形状:',a.shape)\n"
   ]
  },
  {
   "cell_type": "code",
   "execution_count": 17,
   "metadata": {},
   "outputs": [
    {
     "data": {
      "text/plain": "array([[1, 2, 3],\n       [4, 5, 6],\n       [1, 2, 3]])"
     },
     "execution_count": 17,
     "metadata": {},
     "output_type": "execute_result"
    }
   ],
   "source": [
    "b = np.resize(a,(3,3))\n",
    "b"
   ]
  },
  {
   "cell_type": "code",
   "execution_count": 18,
   "metadata": {},
   "outputs": [
    {
     "data": {
      "text/plain": "array([[1, 2, 3],\n       [4, 5, 6]])"
     },
     "execution_count": 18,
     "metadata": {},
     "output_type": "execute_result"
    }
   ],
   "source": [
    "a"
   ]
  },
  {
   "cell_type": "code",
   "execution_count": 19,
   "metadata": {},
   "outputs": [
    {
     "data": {
      "text/plain": "array([[1, 2, 3],\n       [4, 5, 6],\n       [0, 0, 0]])"
     },
     "execution_count": 19,
     "metadata": {},
     "output_type": "execute_result"
    }
   ],
   "source": [
    "a.resize((3,3),refcheck=False)\n",
    "a"
   ]
  },
  {
   "cell_type": "markdown",
   "metadata": {},
   "source": [
    "### numpy.append()\n",
    "在数组的末尾添加值，默认返回一个一维数组。\n",
    "\n",
    "`numpy.append(arr, values, axis=None)`\n",
    "\n",
    "参数说明：\n",
    "\n",
    "- arr：输入的数组；\n",
    "- values：向 arr 数组中添加的值，需要和 arr 数组的形状保持一致；\n",
    "- axis：默认为 None，返回的是一维数组；当 axis =0 时，追加的值会被添加到行，而列数保持不变，若 axis=1 则与其恰好相反。\n",
    "\n"
   ]
  },
  {
   "cell_type": "code",
   "execution_count": 20,
   "metadata": {},
   "outputs": [
    {
     "name": "stdout",
     "output_type": "stream",
     "text": [
      "[1 2 3 4 5 6 7 8 9]\n"
     ]
    }
   ],
   "source": [
    "a = np.array([[1,2,3],[4,5,6]])\n",
    "#向数组a添加元素\n",
    "print (np.append(a, [7,8,9]))\n"
   ]
  },
  {
   "cell_type": "code",
   "execution_count": 21,
   "metadata": {},
   "outputs": [
    {
     "name": "stdout",
     "output_type": "stream",
     "text": [
      "[[1 2 3]\n",
      " [4 5 6]\n",
      " [7 8 9]]\n"
     ]
    }
   ],
   "source": [
    "#沿轴 0 添加元素\n",
    "print (np.append(a, [[7,8,9]],axis = 0))\n"
   ]
  },
  {
   "cell_type": "code",
   "execution_count": 22,
   "metadata": {},
   "outputs": [
    {
     "name": "stdout",
     "output_type": "stream",
     "text": [
      "[[1 2 3 5 5 5]\n",
      " [4 5 6 7 8 9]]\n"
     ]
    }
   ],
   "source": [
    "#沿轴 1 添加元素\n",
    "print (np.append(a, [[5,5,5],[7,8,9]],axis = 1))"
   ]
  },
  {
   "cell_type": "markdown",
   "metadata": {},
   "source": [
    "#### numpy.insert()\n",
    "表示沿指定的轴，在给定索引值的前一个位置插入相应的值，如果没有提供轴，则输入数组被展开为一维数组。\n",
    "\n",
    "`numpy.insert(arr, obj, values, axis)`\n",
    "\n",
    "参数说明：\n",
    "\n",
    "- arr：要输入的数组\n",
    "- obj：表示索引值，在该索引值之前插入 values 值；\n",
    "- values：要插入的值；\n",
    "- axis：指定的轴，如果未提供，则输入数组会被展开为一维数组。\n"
   ]
  },
  {
   "cell_type": "code",
   "execution_count": 23,
   "metadata": {},
   "outputs": [
    {
     "name": "stdout",
     "output_type": "stream",
     "text": [
      "[ 1  2  3 11 12  4  5  6]\n"
     ]
    }
   ],
   "source": [
    "a = np.array([[1,2],[3,4],[5,6]])\n",
    "#不提供axis的情况，会将数组展开\n",
    "print (np.insert(a,3,[11,12]))\n"
   ]
  },
  {
   "cell_type": "code",
   "execution_count": 24,
   "metadata": {},
   "outputs": [
    {
     "name": "stdout",
     "output_type": "stream",
     "text": [
      "[[ 1  2]\n",
      " [11 11]\n",
      " [ 3  4]\n",
      " [ 5  6]]\n"
     ]
    }
   ],
   "source": [
    "#沿轴 0 垂直方向\n",
    "print (np.insert(a,1,[11],axis = 0))\n"
   ]
  },
  {
   "cell_type": "code",
   "execution_count": 25,
   "metadata": {},
   "outputs": [
    {
     "name": "stdout",
     "output_type": "stream",
     "text": [
      "[[ 1 11  2]\n",
      " [ 3 11  4]\n",
      " [ 5 11  6]]\n"
     ]
    }
   ],
   "source": [
    "#沿轴 1 水平方向\n",
    "print (np.insert(a,1,11,axis = 1))"
   ]
  },
  {
   "cell_type": "markdown",
   "metadata": {},
   "source": [
    "#### numpy.delete()\n",
    "该方法表示从输入数组中删除指定的子数组，并返回一个新数组。它与 insert() 函数相似，若不提供 axis 参数，则输入数组被展开为一维数组。\n",
    "`numpy.delete(arr, obj, axis)`\n",
    "参数说明：\n",
    "\n",
    "- arr：要输入的数组；\n",
    "- obj：整数或者整数数组，表示要被删除数组元素或者子数组；\n",
    "- axis：沿着哪条轴删除子数组。\n"
   ]
  },
  {
   "cell_type": "code",
   "execution_count": 26,
   "metadata": {},
   "outputs": [
    {
     "name": "stdout",
     "output_type": "stream",
     "text": [
      "[[ 0  1  2  3]\n",
      " [ 4  5  6  7]\n",
      " [ 8  9 10 11]]\n",
      "[ 0  1  2  3  4  6  7  8  9 10 11]\n"
     ]
    }
   ],
   "source": [
    "a = np.arange(12).reshape(3,4)\n",
    "#a数组\n",
    "print(a)\n",
    "#不提供axis参数情况\n",
    "print(np.delete(a,5))\n"
   ]
  },
  {
   "cell_type": "code",
   "execution_count": 27,
   "metadata": {},
   "outputs": [
    {
     "name": "stdout",
     "output_type": "stream",
     "text": [
      "[[ 0  1  2  3]\n",
      " [ 4  5  6  7]\n",
      " [ 8  9 10 11]]\n",
      "[[0 1 2 3]]\n"
     ]
    }
   ],
   "source": [
    "#删除第二列\n",
    "#print(np.delete(a,1,axis = 1))\n",
    "print(a)\n",
    "\n",
    "#a = np.array([1,2,3,4,5,6,7,8,9,10])\n",
    "#删除多行\n",
    "print(np.delete(a,[1,2],axis = 0))\n",
    "\n",
    "# 注意不能使用切片的形式\n",
    "#print(np.delete(a,[1:4]))"
   ]
  },
  {
   "cell_type": "code",
   "execution_count": 28,
   "metadata": {},
   "outputs": [
    {
     "data": {
      "text/plain": "slice(1, 4, None)"
     },
     "execution_count": 28,
     "metadata": {},
     "output_type": "execute_result"
    }
   ],
   "source": [
    "np.s_[1:4]"
   ]
  },
  {
   "cell_type": "code",
   "execution_count": 29,
   "metadata": {},
   "outputs": [
    {
     "data": {
      "text/plain": "array([1, 2, 3])"
     },
     "execution_count": 29,
     "metadata": {},
     "output_type": "execute_result"
    }
   ],
   "source": [
    "np.r_[1:4]"
   ]
  },
  {
   "cell_type": "code",
   "execution_count": 30,
   "metadata": {},
   "outputs": [
    {
     "data": {
      "text/plain": "array([[1],\n       [2],\n       [3]])"
     },
     "execution_count": 30,
     "metadata": {},
     "output_type": "execute_result"
    }
   ],
   "source": [
    "np.c_[1:4]"
   ]
  },
  {
   "cell_type": "markdown",
   "metadata": {},
   "source": [
    "### numpy.argwhere()\n",
    "\n",
    "该函数返回数组中非 0 元素的索引，若是多维数组则返回行、列索引组成的索引坐标。"
   ]
  },
  {
   "cell_type": "code",
   "execution_count": 31,
   "metadata": {},
   "outputs": [
    {
     "data": {
      "text/plain": "array([[0, 1, 2],\n       [3, 4, 5]])"
     },
     "execution_count": 31,
     "metadata": {},
     "output_type": "execute_result"
    }
   ],
   "source": [
    "x = np.arange(6).reshape(2,3)\n",
    "x"
   ]
  },
  {
   "cell_type": "code",
   "execution_count": 32,
   "metadata": {},
   "outputs": [
    {
     "data": {
      "text/plain": "array([3, 4, 5])"
     },
     "execution_count": 32,
     "metadata": {},
     "output_type": "execute_result"
    }
   ],
   "source": [
    "x[x>2]"
   ]
  },
  {
   "cell_type": "code",
   "execution_count": 32,
   "metadata": {},
   "outputs": [],
   "source": []
  },
  {
   "cell_type": "code",
   "execution_count": 33,
   "metadata": {},
   "outputs": [
    {
     "name": "stdout",
     "output_type": "stream",
     "text": [
      "[[0 1 2]\n",
      " [3 4 5]]\n",
      "----------\n",
      "[[0 2]\n",
      " [1 0]\n",
      " [1 1]\n",
      " [1 2]] (4, 2)\n"
     ]
    }
   ],
   "source": [
    "print(x)\n",
    "#返回所有大于1的元素索引\n",
    "y=np.argwhere(x>1)\n",
    "print(\"-\"*10)\n",
    "print(y,y.shape)"
   ]
  },
  {
   "cell_type": "markdown",
   "metadata": {},
   "source": [
    "### numpy.unique()\n",
    "\n",
    "用于删除数组中重复的元素，其语法格式如下：\n",
    "`numpy.unique(arr, return_index, return_inverse, return_counts)`\n",
    "\n",
    "参数说明：\n",
    "\n",
    "- arr：输入数组，若是多维数组则以一维数组形式展开；\n",
    "- return_index：如果为 True，则返回新数组元素在原数组中的位置（索引）；\n",
    "- return_inverse：如果为 True，则返回原数组元素在新数组中的位置（索引）；\n",
    "- return_counts：如果为 True，则返回去重后的数组元素在原数组中出现的次数。\n"
   ]
  },
  {
   "cell_type": "code",
   "execution_count": 33,
   "metadata": {},
   "outputs": [],
   "source": []
  },
  {
   "cell_type": "code",
   "execution_count": 34,
   "metadata": {},
   "outputs": [
    {
     "name": "stdout",
     "output_type": "stream",
     "text": [
      "[5 2 6 2 7 5 6 8 2 9]\n",
      "[2 5 6 7 8 9]\n"
     ]
    }
   ],
   "source": [
    "a = np.array([5,2,6,2,7,5,6,8,2,9])\n",
    "print (a)\n",
    "# 对a数组的去重\n",
    "uq = np.unique(a)\n",
    "print(uq)"
   ]
  },
  {
   "cell_type": "code",
   "execution_count": 35,
   "metadata": {},
   "outputs": [
    {
     "name": "stdout",
     "output_type": "stream",
     "text": [
      "a: [5 2 6 2 7 5 6 8 2 9]\n",
      "[2 5 6 7 8 9]\n",
      "--------------------\n",
      "[1 0 2 4 7 9]\n"
     ]
    }
   ],
   "source": [
    "# 数组去重后的索引数组\n",
    "print(\"a:\",a)\n",
    "u,indices = np.unique(a, return_index = True)\n",
    "# 打印去重后数组的索引\n",
    "print(u)\n",
    "\n",
    "print('-'*20)\n",
    "\n",
    "print(indices)"
   ]
  },
  {
   "cell_type": "code",
   "execution_count": 36,
   "metadata": {},
   "outputs": [
    {
     "name": "stdout",
     "output_type": "stream",
     "text": [
      "[2 5 6 7 8 9]\n",
      "--------------------\n",
      "[1 0 2 0 3 1 2 4 0 5]\n",
      "5\n"
     ]
    }
   ],
   "source": [
    "# 去重数组的下标：\n",
    "ui,index = np.unique(a,return_inverse = True)\n",
    "print (ui)\n",
    "print('-'*20)\n",
    "# 打印下标\n",
    "print (index)\n",
    "print(np.max(index))"
   ]
  },
  {
   "cell_type": "code",
   "execution_count": 37,
   "metadata": {},
   "outputs": [
    {
     "name": "stdout",
     "output_type": "stream",
     "text": [
      "a: [5 2 6 2 7 5 6 8 2 9]\n",
      "[2 5 6 7 8 9]\n",
      "[3 2 2 1 1 1]\n"
     ]
    }
   ],
   "source": [
    "print(\"a:\",a)\n",
    "# 返回去重元素的重复数量\n",
    "uc,indices = np.unique(a,return_counts = True)\n",
    "print (uc)\n",
    "# 元素出现次数：\n",
    "print (indices)\n"
   ]
  },
  {
   "cell_type": "code",
   "execution_count": 38,
   "metadata": {},
   "outputs": [],
   "source": [
    "# 取出出现次数最多或最小的值 和索引 ?\n",
    "\n"
   ]
  },
  {
   "cell_type": "markdown",
   "metadata": {},
   "source": [
    "#### numpy.sort()\n",
    "\n",
    "对输入数组执行排序，并返回一个数组副本。\n",
    "`numpy.sort(a, axis, kind, order)`\n",
    "\n",
    "参数说明：\n",
    "\n",
    "- a：要排序的数组；\n",
    "- axis：沿着指定轴进行排序，如果没有指定 axis，默认在最后一个轴上排序，若 axis=0 表示按列排序，axis=1 表示按行排序；\n",
    "- kind：默认为 quicksort（快速排序）；\n",
    "- order：若数组设置了字段，则 order 表示要排序的字段。\n"
   ]
  },
  {
   "cell_type": "code",
   "execution_count": 39,
   "metadata": {},
   "outputs": [
    {
     "name": "stdout",
     "output_type": "stream",
     "text": [
      "a数组是： [[3 7 5]\n",
      " [6 1 4]]\n",
      "排序后的内容: [[3 5 7]\n",
      " [1 4 6]]\n"
     ]
    },
    {
     "data": {
      "text/plain": "array([[3, 7, 5],\n       [6, 1, 4]])"
     },
     "execution_count": 39,
     "metadata": {},
     "output_type": "execute_result"
    }
   ],
   "source": [
    "a = np.array([[3,7,5],[6,1,4]]) \n",
    "print('a数组是：', a)\n",
    "\n",
    "#调用sort()函数\n",
    "print('排序后的内容:',np.sort(a))\n",
    "a"
   ]
  },
  {
   "cell_type": "code",
   "execution_count": 40,
   "metadata": {},
   "outputs": [
    {
     "name": "stdout",
     "output_type": "stream",
     "text": [
      "[[3 1 4]\n",
      " [6 7 5]]\n"
     ]
    }
   ],
   "source": [
    "#以行为参照,列上面的数据排序：\n",
    "print(np.sort(a, axis = 0))"
   ]
  },
  {
   "cell_type": "code",
   "execution_count": 41,
   "metadata": {},
   "outputs": [
    {
     "name": "stdout",
     "output_type": "stream",
     "text": [
      "[[3 5 7]\n",
      " [1 4 6]]\n"
     ]
    }
   ],
   "source": [
    "#以列为参照,行上面的数据排序：\n",
    "print(np.sort(a, axis = 1))"
   ]
  },
  {
   "cell_type": "code",
   "execution_count": 42,
   "metadata": {},
   "outputs": [
    {
     "name": "stdout",
     "output_type": "stream",
     "text": [
      "[(b'raju', 21) (b'anil', 25) (b'ravi', 17) (b'amar', 27)]\n",
      "--------------------\n",
      "[(b'amar', 27) (b'anil', 25) (b'raju', 21) (b'ravi', 17)]\n"
     ]
    }
   ],
   "source": [
    "#设置在sort函数中排序字段\n",
    "dt = np.dtype([('name',  'S10'),('age',  int)])\n",
    "a = np.array([(\"raju\",21),(\"anil\",25),(\"ravi\",  17),  (\"amar\",27)], dtype = dt) \n",
    "#再次打印a数组\n",
    "print(a)\n",
    "print('--'*10)\n",
    "#按name字段排序\n",
    "print(np.sort(a, order = 'name'))"
   ]
  },
  {
   "cell_type": "markdown",
   "metadata": {},
   "source": [
    "#### numpy.argsort()\n",
    "\n",
    "argsort() 沿着指定的轴，对输入数组的元素值进行排序，并返回排序后的元素索引数组。示例如下： "
   ]
  },
  {
   "cell_type": "code",
   "execution_count": 43,
   "metadata": {},
   "outputs": [
    {
     "name": "stdout",
     "output_type": "stream",
     "text": [
      "原数组: [90 29 89 12]\n",
      "打印排序元素索引值: [3 1 2 0]\n",
      "打印排序数组\n",
      "12 29 89 90 "
     ]
    },
    {
     "data": {
      "text/plain": "array([12, 29, 89, 90])"
     },
     "execution_count": 43,
     "metadata": {},
     "output_type": "execute_result"
    }
   ],
   "source": [
    "a = np.array([90, 29, 89, 12]) \n",
    "print(\"原数组:\",a) \n",
    "sort_ind = np.argsort(a) \n",
    "print(\"打印排序元素索引值:\",sort_ind) \n",
    "#使用索引数组对原数组排序\n",
    "sort_a = a[sort_ind] \n",
    "print(\"打印排序数组\") \n",
    "for i in sort_ind: \n",
    "    print(a[i],end = \" \")  \n",
    "a[sort_ind]"
   ]
  },
  {
   "cell_type": "markdown",
   "metadata": {},
   "source": [
    "# 练习题:"
   ]
  },
  {
   "cell_type": "code",
   "execution_count": 44,
   "metadata": {},
   "outputs": [
    {
     "data": {
      "text/plain": "array([0., 0., 0., 0., 0., 0., 0., 0., 0., 0.])"
     },
     "execution_count": 44,
     "metadata": {},
     "output_type": "execute_result"
    }
   ],
   "source": [
    "# 1. 创建长度为10的零向量\n",
    "ar1=np.zeros(10)\n",
    "ar1"
   ]
  },
  {
   "cell_type": "code",
   "execution_count": 45,
   "metadata": {},
   "outputs": [
    {
     "data": {
      "text/plain": "800"
     },
     "execution_count": 45,
     "metadata": {},
     "output_type": "execute_result"
    }
   ],
   "source": [
    "# 2.获取数组np.zeros((10, 10))所占内存大小\n",
    "ar2=np.zeros((10,10))\n",
    "ar2.size*ar2.itemsize"
   ]
  },
  {
   "cell_type": "code",
   "execution_count": 46,
   "metadata": {},
   "outputs": [
    {
     "name": "stdout",
     "output_type": "stream",
     "text": [
      "[0. 0. 0. 0. 1. 0. 0. 0. 0. 0.]\n"
     ]
    }
   ],
   "source": [
    "# 3.创建一个长度为10的零向量，并把第五个值赋值为1\n",
    "ar3=np.zeros(10)\n",
    "ar3[4]=1\n",
    "print(ar3)"
   ]
  },
  {
   "cell_type": "code",
   "execution_count": 47,
   "metadata": {},
   "outputs": [
    {
     "data": {
      "text/plain": "array([[10, 11, 12, 13, 14, 15, 16, 17, 18, 19],\n       [20, 21, 22, 23, 24, 25, 26, 27, 28, 29],\n       [30, 31, 32, 33, 34, 35, 36, 37, 38, 39],\n       [40, 41, 42, 43, 44, 45, 46, 47, 48, 49]])"
     },
     "execution_count": 47,
     "metadata": {},
     "output_type": "execute_result"
    }
   ],
   "source": [
    "# 4.创建一个值域为10到49的向量\n",
    "ar4=np.arange(10,50)\n",
    "ar4.reshape(4,10)"
   ]
  },
  {
   "cell_type": "code",
   "execution_count": 48,
   "metadata": {},
   "outputs": [
    {
     "name": "stdout",
     "output_type": "stream",
     "text": [
      "[49 48 47 46 45 44 43 42 41 40 39 38 37 36 35 34 33 32 31 30 29 28 27 26\n",
      " 25 24 23 22 21 20 19 18 17 16 15 14 13 12 11 10  9  8  7  6  5  4  3  2\n",
      "  1  0]\n"
     ]
    }
   ],
   "source": [
    "# 5.将一个向量进行反转（第一个元素变为最后一个元素）\n",
    "ar5 = np.arange(50)\n",
    "ar5 = ar5[::-1]\n",
    "print (ar5)"
   ]
  },
  {
   "cell_type": "code",
   "execution_count": 49,
   "metadata": {},
   "outputs": [
    {
     "data": {
      "text/plain": "array([[0, 1, 2],\n       [3, 4, 5],\n       [6, 7, 8]])"
     },
     "execution_count": 49,
     "metadata": {},
     "output_type": "execute_result"
    }
   ],
   "source": [
    "# 6.创建一个3x3的矩阵，值域为0到8\n",
    "ar6=np.arange(0,9).reshape(3,3)\n",
    "ar6"
   ]
  },
  {
   "cell_type": "code",
   "execution_count": 50,
   "metadata": {
    "scrolled": true
   },
   "outputs": [
    {
     "data": {
      "text/plain": "(array([0, 1, 4], dtype=int64),)"
     },
     "execution_count": 50,
     "metadata": {},
     "output_type": "execute_result"
    }
   ],
   "source": [
    "# 7.从数组[1, 2, 0, 0, 4, 0]中找出非0元素的位置索引\n",
    "ar7=np.array([1,2,0,0,4,0])\n",
    "index7=np.nonzero(ar7)\n",
    "index7"
   ]
  },
  {
   "cell_type": "code",
   "execution_count": 51,
   "metadata": {},
   "outputs": [
    {
     "data": {
      "text/plain": "array([[[0.98282269, 0.39468145, 0.78779065],\n        [0.20429702, 0.84826764, 0.70518207],\n        [0.91912184, 0.16911044, 0.9298483 ]],\n\n       [[0.15082309, 0.13559281, 0.99547044],\n        [0.84285696, 0.68034379, 0.84349594],\n        [0.04168069, 0.4040265 , 0.58145649]],\n\n       [[0.67000856, 0.62195371, 0.87149863],\n        [0.55246797, 0.83445522, 0.384325  ],\n        [0.89047088, 0.17119255, 0.30903487]]])"
     },
     "execution_count": 51,
     "metadata": {},
     "output_type": "execute_result"
    }
   ],
   "source": [
    "# 8.创建一个3x3x3的随机数组\n",
    "ar8=np.random.random((3,3,3))\n",
    "ar8"
   ]
  },
  {
   "cell_type": "code",
   "execution_count": 52,
   "metadata": {},
   "outputs": [
    {
     "name": "stdout",
     "output_type": "stream",
     "text": [
      "[[0.14895414 0.71205955 0.92752802 0.26470328 0.50120809 0.36035153\n",
      "  0.22948374 0.72889259 0.23787871 0.56172711]\n",
      " [0.18288783 0.3315978  0.20030411 0.34000126 0.29003359 0.8600525\n",
      "  0.12409147 0.74351314 0.39915435 0.98346355]\n",
      " [0.95177574 0.245251   0.5454833  0.43075289 0.13276465 0.90284827\n",
      "  0.24887058 0.83498869 0.07089073 0.35301879]\n",
      " [0.87310177 0.35124617 0.98906433 0.31582966 0.30678718 0.87581239\n",
      "  0.57959415 0.29594889 0.18597422 0.82258306]\n",
      " [0.85683342 0.72858247 0.32100066 0.63184802 0.57293268 0.48092054\n",
      "  0.02648081 0.52096404 0.230016   0.46577807]\n",
      " [0.04420021 0.43366102 0.96485798 0.66532449 0.80428941 0.29048718\n",
      "  0.16600407 0.31348098 0.07227491 0.97869801]\n",
      " [0.20181253 0.52731434 0.60649085 0.31100285 0.10845607 0.41974848\n",
      "  0.9243958  0.60154154 0.41983562 0.15753489]\n",
      " [0.78350692 0.07627976 0.98495755 0.23208923 0.14148276 0.30973297\n",
      "  0.94141572 0.82088262 0.67716089 0.87889945]\n",
      " [0.84118528 0.62093738 0.38018794 0.65823204 0.75998512 0.6187371\n",
      "  0.01133137 0.03481482 0.11442869 0.74939915]\n",
      " [0.73087364 0.85698946 0.94324916 0.38179458 0.61700002 0.32764756\n",
      "  0.40007236 0.45801052 0.76701058 0.59603646]]\n",
      "0.9890643294896093 0.01133137303214915\n"
     ]
    }
   ],
   "source": [
    "# 9.创建一个10x10的随机数组，并找出该数组中的最大值与最小值\n",
    "ar9=np.random.random((10,10))\n",
    "max1=np.max(ar9)\n",
    "min1=np.min(ar9)\n",
    "print(ar9)\n",
    "print(max1,min1)"
   ]
  },
  {
   "cell_type": "code",
   "execution_count": 53,
   "metadata": {},
   "outputs": [
    {
     "name": "stdout",
     "output_type": "stream",
     "text": [
      "[[41 42 13 59 95 15]\n",
      " [11 89 90  9 58 12]\n",
      " [77 76 38 32 20 35]\n",
      " [18 52 17 62  4 63]\n",
      " [26 50 78 39 50 89]]\n",
      "45.333333333333336\n"
     ]
    }
   ],
   "source": [
    "# 10.创建一个长度为30的随机向量，并求它的平均值\n",
    "ar10=np.random.randint(100,size=(5,6))\n",
    "print(ar10)\n",
    "print(float(ar10.mean()))"
   ]
  },
  {
   "cell_type": "code",
   "execution_count": 54,
   "metadata": {},
   "outputs": [
    {
     "name": "stdout",
     "output_type": "stream",
     "text": [
      "[[1. 1. 1. 1. 1. 1. 1. 1. 1. 1.]\n",
      " [1. 0. 0. 0. 0. 0. 0. 0. 0. 1.]\n",
      " [1. 0. 0. 0. 0. 0. 0. 0. 0. 1.]\n",
      " [1. 0. 0. 0. 0. 0. 0. 0. 0. 1.]\n",
      " [1. 0. 0. 0. 0. 0. 0. 0. 0. 1.]\n",
      " [1. 0. 0. 0. 0. 0. 0. 0. 0. 1.]\n",
      " [1. 0. 0. 0. 0. 0. 0. 0. 0. 1.]\n",
      " [1. 0. 0. 0. 0. 0. 0. 0. 0. 1.]\n",
      " [1. 0. 0. 0. 0. 0. 0. 0. 0. 1.]\n",
      " [1. 1. 1. 1. 1. 1. 1. 1. 1. 1.]]\n",
      "[[1. 1. 1. 1. 1. 1. 1. 1. 1. 1.]\n",
      " [1. 0. 0. 0. 0. 0. 0. 0. 0. 1.]\n",
      " [1. 0. 0. 0. 0. 0. 0. 0. 0. 1.]\n",
      " [1. 0. 0. 0. 0. 0. 0. 0. 0. 1.]\n",
      " [1. 0. 0. 0. 0. 0. 0. 0. 0. 1.]\n",
      " [1. 0. 0. 0. 0. 0. 0. 0. 0. 1.]\n",
      " [1. 0. 0. 0. 0. 0. 0. 0. 0. 1.]\n",
      " [1. 0. 0. 0. 0. 0. 0. 0. 0. 1.]\n",
      " [1. 0. 0. 0. 0. 0. 0. 0. 0. 1.]\n",
      " [1. 1. 1. 1. 1. 1. 1. 1. 1. 1.]]\n"
     ]
    }
   ],
   "source": [
    "# 11.创建一个10*10的2维数组，该数组边界值为1，内部的值为0\n",
    "ar11=np.zeros(100).reshape(10,10)\n",
    "ar11[0,...]=ar11[9,...]=ar11[...,0]=ar11[...,9]=1\n",
    "print(ar11)\n",
    "ar11_1=np.ones(100).reshape(10,10)\n",
    "ar11_1[1:-1,1:-1]=0#表示1到最后一行（不包括最后一行）\n",
    "print(ar11_1)"
   ]
  },
  {
   "cell_type": "code",
   "execution_count": 55,
   "metadata": {},
   "outputs": [
    {
     "name": "stdout",
     "output_type": "stream",
     "text": [
      "[[52 48 70 20  4]\n",
      " [ 1  0 23 65 91]\n",
      " [19 46 60 63 32]\n",
      " [22 21 86 93 88]\n",
      " [68 34 94 18 51]]\n"
     ]
    },
    {
     "data": {
      "text/plain": "array([[0.55319149, 0.5106383 , 0.74468085, 0.21276596, 0.04255319],\n       [0.0106383 , 0.        , 0.24468085, 0.69148936, 0.96808511],\n       [0.20212766, 0.4893617 , 0.63829787, 0.67021277, 0.34042553],\n       [0.23404255, 0.22340426, 0.91489362, 0.9893617 , 0.93617021],\n       [0.72340426, 0.36170213, 1.        , 0.19148936, 0.54255319]])"
     },
     "execution_count": 55,
     "metadata": {},
     "output_type": "execute_result"
    }
   ],
   "source": [
    "# 12.对5x5的随机矩阵进行归一化 提示:归一化 (x - min) / (max - min))\n",
    "ar12=np.random.randint(100,size=(5,5))\n",
    "print(ar12)\n",
    "a_max=ar12.max()\n",
    "a_min=ar12.min()\n",
    "ar12=(ar12-a_min)/(a_max-a_min)\n",
    "ar12"
   ]
  },
  {
   "cell_type": "code",
   "execution_count": 56,
   "metadata": {},
   "outputs": [
    {
     "name": "stdout",
     "output_type": "stream",
     "text": [
      "[[3. 3.]\n",
      " [3. 3.]\n",
      " [3. 3.]\n",
      " [3. 3.]\n",
      " [3. 3.]]\n",
      "[[3. 3.]\n",
      " [3. 3.]\n",
      " [3. 3.]\n",
      " [3. 3.]\n",
      " [3. 3.]]\n"
     ]
    }
   ],
   "source": [
    "# 13一个5x3的数组和一个3x2的数组是否可以相乘\n",
    "# ar13_1=np.random.randint(100,size=(5,3))\n",
    "# ar13_2=np.random.randint(100,size=(3,2))\n",
    "# print(ar13_1*ar13_2)\n",
    "z1 = np.dot(np.ones((5,3)),np.ones((3,2))) # 第一种方法用np.dot()\n",
    "z2 = np.ones((5,3))@np.ones((3,2)) # 第二种方法：用@\n",
    "print (z1)\n",
    "print (z2)"
   ]
  },
  {
   "cell_type": "code",
   "execution_count": 57,
   "metadata": {},
   "outputs": [
    {
     "name": "stdout",
     "output_type": "stream",
     "text": [
      "[[24 39 42 48 57 61 62 87 90 95]]\n"
     ]
    }
   ],
   "source": [
    "# 14. 创建一个大小为10的随机向量，并把它排序\n",
    "ar14=np.random.randint(100,size=(1,10))\n",
    "print(np.sort(ar14))\n"
   ]
  },
  {
   "cell_type": "code",
   "execution_count": 58,
   "metadata": {},
   "outputs": [],
   "source": [
    "# 15. 创建一个numpy数组元素值全为True（真）的数组"
   ]
  },
  {
   "cell_type": "code",
   "execution_count": 59,
   "metadata": {},
   "outputs": [
    {
     "data": {
      "text/plain": "array([[ True,  True],\n       [ True,  True]])"
     },
     "execution_count": 59,
     "metadata": {},
     "output_type": "execute_result"
    }
   ],
   "source": [
    "ar15=np.ones((2, 2), dtype=bool)\n",
    "ar15"
   ]
  },
  {
   "cell_type": "markdown",
   "metadata": {},
   "source": [
    "# 鸢尾属植物数据集"
   ]
  },
  {
   "cell_type": "markdown",
   "metadata": {},
   "source": [
    "本次练习使用 鸢尾属植物数据集 .\\iris.data ，在这个数据集中，包括了三类不同的鸢尾属植物：\n",
    "分别为山鸢尾（Iris-setosa）、变色鸢尾（Iris-versicolor）和维吉尼亚鸢尾（Iris-virginica）。每类收集了50个样本，因此这个数据集一共包含了150个样本。\n",
    "- sepallength：萼片长度\n",
    "- sepalwidth：萼片宽度\n",
    "- petallength：花瓣长度\n",
    "- petalwidth：花瓣宽度\n",
    "以上四个特征的单位都是厘米（cm）。\n",
    "\n",
    "`https://archive.ics.uci.edu/ml/machine-learning-databases/iris/iris.data`\n",
    "    "
   ]
  },
  {
   "cell_type": "markdown",
   "metadata": {},
   "source": [
    "# 鸢尾花识别问题\n",
    "\n",
    "\n",
    "萼片在花朵开放前起保护花的作用。\n",
    "花开放之前就脱落的花萼称早落萼，如白屈菜、虞美人；果实成熟后，花萼仍然存在，并且随果实一起增大，称宿萼，如柿、辣椒等。萼片大而鲜艳呈花冠状，称瓣状萼，如乌头、铁线莲；有的萼筒一边向外凸起，形成一管状或囊状突起，称距，如凤仙花。\n",
    "一朵花中所有萼片(sepal)的总称是花萼，包被在花的最外层。萼片多为绿色而相对较厚的叶状"
   ]
  },
  {
   "cell_type": "code",
   "execution_count": 60,
   "metadata": {
    "scrolled": false
   },
   "outputs": [
    {
     "name": "stdout",
     "output_type": "stream",
     "text": [
      "[['5.1' '3.5' '1.4' '0.2' 'Iris-setosa']\n",
      " ['4.9' '3.0' '1.4' '0.2' 'Iris-setosa']\n",
      " ['4.7' '3.2' '1.3' '0.2' 'Iris-setosa']\n",
      " ['4.6' '3.1' '1.5' '0.2' 'Iris-setosa']\n",
      " ['5.0' '3.6' '1.4' '0.2' 'Iris-setosa']\n",
      " ['5.4' '3.9' '1.7' '0.4' 'Iris-setosa']\n",
      " ['4.6' '3.4' '1.4' '0.3' 'Iris-setosa']\n",
      " ['5.0' '3.4' '1.5' '0.2' 'Iris-setosa']\n",
      " ['4.4' '2.9' '1.4' '0.2' 'Iris-setosa']\n",
      " ['4.9' '3.1' '1.5' '0.1' 'Iris-setosa']\n",
      " ['5.4' '3.7' '1.5' '0.2' 'Iris-setosa']\n",
      " ['4.8' '3.4' '1.6' '0.2' 'Iris-setosa']\n",
      " ['4.8' '3.0' '1.4' '0.1' 'Iris-setosa']\n",
      " ['4.3' '3.0' '1.1' '0.1' 'Iris-setosa']\n",
      " ['5.8' '4.0' '1.2' '0.2' 'Iris-setosa']\n",
      " ['5.7' '4.4' '1.5' '0.4' 'Iris-setosa']\n",
      " ['5.4' '3.9' '1.3' '0.4' 'Iris-setosa']\n",
      " ['5.1' '3.5' '1.4' '0.3' 'Iris-setosa']\n",
      " ['5.7' '3.8' '1.7' '0.3' 'Iris-setosa']\n",
      " ['5.1' '3.8' '1.5' '0.3' 'Iris-setosa']\n",
      " ['5.4' '3.4' '1.7' '0.2' 'Iris-setosa']\n",
      " ['5.1' '3.7' '1.5' '0.4' 'Iris-setosa']\n",
      " ['4.6' '3.6' '1.0' '0.2' 'Iris-setosa']\n",
      " ['5.1' '3.3' '1.7' '0.5' 'Iris-setosa']\n",
      " ['4.8' '3.4' '1.9' '0.2' 'Iris-setosa']\n",
      " ['5.0' '3.0' '1.6' '0.2' 'Iris-setosa']\n",
      " ['5.0' '3.4' '1.6' '0.4' 'Iris-setosa']\n",
      " ['5.2' '3.5' '1.5' '0.2' 'Iris-setosa']\n",
      " ['5.2' '3.4' '1.4' '0.2' 'Iris-setosa']\n",
      " ['4.7' '3.2' '1.6' '0.2' 'Iris-setosa']\n",
      " ['4.8' '3.1' '1.6' '0.2' 'Iris-setosa']\n",
      " ['5.4' '3.4' '1.5' '0.4' 'Iris-setosa']\n",
      " ['5.2' '4.1' '1.5' '0.1' 'Iris-setosa']\n",
      " ['5.5' '4.2' '1.4' '0.2' 'Iris-setosa']\n",
      " ['4.9' '3.1' '1.5' '0.1' 'Iris-setosa']\n",
      " ['5.0' '3.2' '1.2' '0.2' 'Iris-setosa']\n",
      " ['5.5' '3.5' '1.3' '0.2' 'Iris-setosa']\n",
      " ['4.9' '3.1' '1.5' '0.1' 'Iris-setosa']\n",
      " ['4.4' '3.0' '1.3' '0.2' 'Iris-setosa']\n",
      " ['5.1' '3.4' '1.5' '0.2' 'Iris-setosa']\n",
      " ['5.0' '3.5' '1.3' '0.3' 'Iris-setosa']\n",
      " ['4.5' '2.3' '1.3' '0.3' 'Iris-setosa']\n",
      " ['4.4' '3.2' '1.3' '0.2' 'Iris-setosa']\n",
      " ['5.0' '3.5' '1.6' '0.6' 'Iris-setosa']\n",
      " ['5.1' '3.8' '1.9' '0.4' 'Iris-setosa']\n",
      " ['4.8' '3.0' '1.4' '0.3' 'Iris-setosa']\n",
      " ['5.1' '3.8' '1.6' '0.2' 'Iris-setosa']\n",
      " ['4.6' '3.2' '1.4' '0.2' 'Iris-setosa']\n",
      " ['5.3' '3.7' '1.5' '0.2' 'Iris-setosa']\n",
      " ['5.0' '3.3' '1.4' '0.2' 'Iris-setosa']\n",
      " ['7.0' '3.2' '4.7' '1.4' 'Iris-versicolor']\n",
      " ['6.4' '3.2' '4.5' '1.5' 'Iris-versicolor']\n",
      " ['6.9' '3.1' '4.9' '1.5' 'Iris-versicolor']\n",
      " ['5.5' '2.3' '4.0' '1.3' 'Iris-versicolor']\n",
      " ['6.5' '2.8' '4.6' '1.5' 'Iris-versicolor']\n",
      " ['5.7' '2.8' '4.5' '1.3' 'Iris-versicolor']\n",
      " ['6.3' '3.3' '4.7' '1.6' 'Iris-versicolor']\n",
      " ['4.9' '2.4' '3.3' '1.0' 'Iris-versicolor']\n",
      " ['6.6' '2.9' '4.6' '1.3' 'Iris-versicolor']\n",
      " ['5.2' '2.7' '3.9' '1.4' 'Iris-versicolor']\n",
      " ['5.0' '2.0' '3.5' '1.0' 'Iris-versicolor']\n",
      " ['5.9' '3.0' '4.2' '1.5' 'Iris-versicolor']\n",
      " ['6.0' '2.2' '4.0' '1.0' 'Iris-versicolor']\n",
      " ['6.1' '2.9' '4.7' '1.4' 'Iris-versicolor']\n",
      " ['5.6' '2.9' '3.6' '1.3' 'Iris-versicolor']\n",
      " ['6.7' '3.1' '4.4' '1.4' 'Iris-versicolor']\n",
      " ['5.6' '3.0' '4.5' '1.5' 'Iris-versicolor']\n",
      " ['5.8' '2.7' '4.1' '1.0' 'Iris-versicolor']\n",
      " ['6.2' '2.2' '4.5' '1.5' 'Iris-versicolor']\n",
      " ['5.6' '2.5' '3.9' '1.1' 'Iris-versicolor']\n",
      " ['5.9' '3.2' '4.8' '1.8' 'Iris-versicolor']\n",
      " ['6.1' '2.8' '4.0' '1.3' 'Iris-versicolor']\n",
      " ['6.3' '2.5' '4.9' '1.5' 'Iris-versicolor']\n",
      " ['6.1' '2.8' '4.7' '1.2' 'Iris-versicolor']\n",
      " ['6.4' '2.9' '4.3' '1.3' 'Iris-versicolor']\n",
      " ['6.6' '3.0' '4.4' '1.4' 'Iris-versicolor']\n",
      " ['6.8' '2.8' '4.8' '1.4' 'Iris-versicolor']\n",
      " ['6.7' '3.0' '5.0' '1.7' 'Iris-versicolor']\n",
      " ['6.0' '2.9' '4.5' '1.5' 'Iris-versicolor']\n",
      " ['5.7' '2.6' '3.5' '1.0' 'Iris-versicolor']\n",
      " ['5.5' '2.4' '3.8' '1.1' 'Iris-versicolor']\n",
      " ['5.5' '2.4' '3.7' '1.0' 'Iris-versicolor']\n",
      " ['5.8' '2.7' '3.9' '1.2' 'Iris-versicolor']\n",
      " ['6.0' '2.7' '5.1' '1.6' 'Iris-versicolor']\n",
      " ['5.4' '3.0' '4.5' '1.5' 'Iris-versicolor']\n",
      " ['6.0' '3.4' '4.5' '1.6' 'Iris-versicolor']\n",
      " ['6.7' '3.1' '4.7' '1.5' 'Iris-versicolor']\n",
      " ['6.3' '2.3' '4.4' '1.3' 'Iris-versicolor']\n",
      " ['5.6' '3.0' '4.1' '1.3' 'Iris-versicolor']\n",
      " ['5.5' '2.5' '4.0' '1.3' 'Iris-versicolor']\n",
      " ['5.5' '2.6' '4.4' '1.2' 'Iris-versicolor']\n",
      " ['6.1' '3.0' '4.6' '1.4' 'Iris-versicolor']\n",
      " ['5.8' '2.6' '4.0' '1.2' 'Iris-versicolor']\n",
      " ['5.0' '2.3' '3.3' '1.0' 'Iris-versicolor']\n",
      " ['5.6' '2.7' '4.2' '1.3' 'Iris-versicolor']\n",
      " ['5.7' '3.0' '4.2' '1.2' 'Iris-versicolor']\n",
      " ['5.7' '2.9' '4.2' '1.3' 'Iris-versicolor']\n",
      " ['6.2' '2.9' '4.3' '1.3' 'Iris-versicolor']\n",
      " ['5.1' '2.5' '3.0' '1.1' 'Iris-versicolor']\n",
      " ['5.7' '2.8' '4.1' '1.3' 'Iris-versicolor']\n",
      " ['6.3' '3.3' '6.0' '2.5' 'Iris-virginica']\n",
      " ['5.8' '2.7' '5.1' '1.9' 'Iris-virginica']\n",
      " ['7.1' '3.0' '5.9' '2.1' 'Iris-virginica']\n",
      " ['6.3' '2.9' '5.6' '1.8' 'Iris-virginica']\n",
      " ['6.5' '3.0' '5.8' '2.2' 'Iris-virginica']\n",
      " ['7.6' '3.0' '6.6' '2.1' 'Iris-virginica']\n",
      " ['4.9' '2.5' '4.5' '1.7' 'Iris-virginica']\n",
      " ['7.3' '2.9' '6.3' '1.8' 'Iris-virginica']\n",
      " ['6.7' '2.5' '5.8' '1.8' 'Iris-virginica']\n",
      " ['7.2' '3.6' '6.1' '2.5' 'Iris-virginica']\n",
      " ['6.5' '3.2' '5.1' '2.0' 'Iris-virginica']\n",
      " ['6.4' '2.7' '5.3' '1.9' 'Iris-virginica']\n",
      " ['6.8' '3.0' '5.5' '2.1' 'Iris-virginica']\n",
      " ['5.7' '2.5' '5.0' '2.0' 'Iris-virginica']\n",
      " ['5.8' '2.8' '5.1' '2.4' 'Iris-virginica']\n",
      " ['6.4' '3.2' '5.3' '2.3' 'Iris-virginica']\n",
      " ['6.5' '3.0' '5.5' '1.8' 'Iris-virginica']\n",
      " ['7.7' '3.8' '6.7' '2.2' 'Iris-virginica']\n",
      " ['7.7' '2.6' '6.9' '2.3' 'Iris-virginica']\n",
      " ['6.0' '2.2' '5.0' '1.5' 'Iris-virginica']\n",
      " ['6.9' '3.2' '5.7' '2.3' 'Iris-virginica']\n",
      " ['5.6' '2.8' '4.9' '2.0' 'Iris-virginica']\n",
      " ['7.7' '2.8' '6.7' '2.0' 'Iris-virginica']\n",
      " ['6.3' '2.7' '4.9' '1.8' 'Iris-virginica']\n",
      " ['6.7' '3.3' '5.7' '2.1' 'Iris-virginica']\n",
      " ['7.2' '3.2' '6.0' '1.8' 'Iris-virginica']\n",
      " ['6.2' '2.8' '4.8' '1.8' 'Iris-virginica']\n",
      " ['6.1' '3.0' '4.9' '1.8' 'Iris-virginica']\n",
      " ['6.4' '2.8' '5.6' '2.1' 'Iris-virginica']\n",
      " ['7.2' '3.0' '5.8' '1.6' 'Iris-virginica']\n",
      " ['7.4' '2.8' '6.1' '1.9' 'Iris-virginica']\n",
      " ['7.9' '3.8' '6.4' '2.0' 'Iris-virginica']\n",
      " ['6.4' '2.8' '5.6' '2.2' 'Iris-virginica']\n",
      " ['6.3' '2.8' '5.1' '1.5' 'Iris-virginica']\n",
      " ['6.1' '2.6' '5.6' '1.4' 'Iris-virginica']\n",
      " ['7.7' '3.0' '6.1' '2.3' 'Iris-virginica']\n",
      " ['6.3' '3.4' '5.6' '2.4' 'Iris-virginica']\n",
      " ['6.4' '3.1' '5.5' '1.8' 'Iris-virginica']\n",
      " ['6.0' '3.0' '4.8' '1.8' 'Iris-virginica']\n",
      " ['6.9' '3.1' '5.4' '2.1' 'Iris-virginica']\n",
      " ['6.7' '3.1' '5.6' '2.4' 'Iris-virginica']\n",
      " ['6.9' '3.1' '5.1' '2.3' 'Iris-virginica']\n",
      " ['5.8' '2.7' '5.1' '1.9' 'Iris-virginica']\n",
      " ['6.8' '3.2' '5.9' '2.3' 'Iris-virginica']\n",
      " ['6.7' '3.3' '5.7' '2.5' 'Iris-virginica']\n",
      " ['6.7' '3.0' '5.2' '2.3' 'Iris-virginica']\n",
      " ['6.3' '2.5' '5.0' '1.9' 'Iris-virginica']\n",
      " ['6.5' '3.0' '5.2' '2.0' 'Iris-virginica']\n",
      " ['6.2' '3.4' '5.4' '2.3' 'Iris-virginica']\n",
      " ['5.9' '3.0' '5.1' '1.8' 'Iris-virginica']]\n"
     ]
    }
   ],
   "source": [
    "# 1. 导入鸢尾属植物数据集，保持文本不变。\n",
    "import numpy as np\n",
    "# url = 'https://archive.ics.uci.edu/ml/machine-learning-databases/iris/iris.data'\n",
    "url='./课件/iris.data'\n",
    "iris_data = np.loadtxt(url, dtype=object, delimiter=',')\n",
    "print(iris_data)"
   ]
  },
  {
   "cell_type": "code",
   "execution_count": 61,
   "metadata": {},
   "outputs": [
    {
     "name": "stdout",
     "output_type": "stream",
     "text": [
      "(array([ 0,  1,  2,  3,  4,  5,  6,  7,  8,  9, 10, 11, 12, 13, 14, 15, 16,\n",
      "       17, 18, 19, 20, 21, 22, 23, 24, 25, 26, 27, 28, 29, 30, 31, 32, 33,\n",
      "       34, 35, 36, 37, 38, 39, 40, 41, 42, 43, 44, 45, 46, 47, 48, 49],\n",
      "      dtype=int64),)\n",
      "(array([50, 51, 52, 53, 54, 55, 56, 57, 58, 59, 60, 61, 62, 63, 64, 65, 66,\n",
      "       67, 68, 69, 70, 71, 72, 73, 74, 75, 76, 77, 78, 79, 80, 81, 82, 83,\n",
      "       84, 85, 86, 87, 88, 89, 90, 91, 92, 93, 94, 95, 96, 97, 98, 99],\n",
      "      dtype=int64),)\n",
      "(array([100, 101, 102, 103, 104, 105, 106, 107, 108, 109, 110, 111, 112,\n",
      "       113, 114, 115, 116, 117, 118, 119, 120, 121, 122, 123, 124, 125,\n",
      "       126, 127, 128, 129, 130, 131, 132, 133, 134, 135, 136, 137, 138,\n",
      "       139, 140, 141, 142, 143, 144, 145, 146, 147, 148, 149], dtype=int64),)\n"
     ]
    }
   ],
   "source": [
    "# 提取出3个类别,所在的行索引\n",
    "setosa_index = np.where(iris_data[...,4] == 'Iris-setosa')\n",
    "print(setosa_index)\n",
    "versicolor_index = np.where(iris_data[...,4] == 'Iris-versicolor')\n",
    "print(versicolor_index)\n",
    "virginica_index = np.where(iris_data[...,4] == 'Iris-virginica')\n",
    "print(virginica_index)"
   ]
  },
  {
   "cell_type": "code",
   "execution_count": 62,
   "metadata": {},
   "outputs": [],
   "source": [
    "# 分别按类别分组,保存各自的信息\n",
    "setos_arr = iris_data[setosa_index,:-1]\n",
    "\n",
    "versicolor_arr = iris_data[versicolor_index,:-1]\n",
    "\n",
    "virginica_arr = iris_data[virginica_index,:-1]\n"
   ]
  },
  {
   "cell_type": "code",
   "execution_count": 74,
   "metadata": {},
   "outputs": [
    {
     "name": "stdout",
     "output_type": "stream",
     "text": [
      "['5.1' '4.9' '4.7' '4.6' '5.0' '5.4' '4.6' '5.0' '4.4' '4.9' '5.4' '4.8'\n",
      " '4.8' '4.3' '5.8' '5.7' '5.4' '5.1' '5.7' '5.1' '5.4' '5.1' '4.6' '5.1'\n",
      " '4.8' '5.0' '5.0' '5.2' '5.2' '4.7' '4.8' '5.4' '5.2' '5.5' '4.9' '5.0'\n",
      " '5.5' '4.9' '4.4' '5.1' '5.0' '4.5' '4.4' '5.0' '5.1' '4.8' '5.1' '4.6'\n",
      " '5.3' '5.0' '7.0' '6.4' '6.9' '5.5' '6.5' '5.7' '6.3' '4.9' '6.6' '5.2'\n",
      " '5.0' '5.9' '6.0' '6.1' '5.6' '6.7' '5.6' '5.8' '6.2' '5.6' '5.9' '6.1'\n",
      " '6.3' '6.1' '6.4' '6.6' '6.8' '6.7' '6.0' '5.7' '5.5' '5.5' '5.8' '6.0'\n",
      " '5.4' '6.0' '6.7' '6.3' '5.6' '5.5' '5.5' '6.1' '5.8' '5.0' '5.6' '5.7'\n",
      " '5.7' '6.2' '5.1' '5.7' '6.3' '5.8' '7.1' '6.3' '6.5' '7.6' '4.9' '7.3'\n",
      " '6.7' '7.2' '6.5' '6.4' '6.8' '5.7' '5.8' '6.4' '6.5' '7.7' '7.7' '6.0'\n",
      " '6.9' '5.6' '7.7' '6.3' '6.7' '7.2' '6.2' '6.1' '6.4' '7.2' '7.4' '7.9'\n",
      " '6.4' '6.3' '6.1' '7.7' '6.3' '6.4' '6.0' '6.9' '6.7' '6.9' '5.8' '6.8'\n",
      " '6.7' '6.7' '6.3' '6.5' '6.2' '5.9']\n"
     ]
    }
   ],
   "source": [
    "# 求出鸢尾属植物萼片长度的平均值、中位数和标准差（第1列，sepallength）\n",
    "# setos_arr1=np.array(setos_arr[...,0])\n",
    "# setos_arr1.T\n",
    "# # print(setos_arr1)\n",
    "# versicolor_arr1=np.array(versicolor_arr[...,0])\n",
    "# versicolor_arr1.T\n",
    "# virginica_arr1=np.array(virginica_arr[...,0])\n",
    "# virginica_arr1.T\n",
    "# gg=np.array(setos_arr1)\n",
    "# np.append(gg,versicolor_arr1,axis=1)\n",
    "# np.append(gg,virginica_arr1,axis=1)\n"
   ]
  },
  {
   "cell_type": "code",
   "execution_count": 79,
   "outputs": [
    {
     "name": "stdout",
     "output_type": "stream",
     "text": [
      "平均值为：5.843333333333334\n",
      "中值为：5.8\n",
      "标准差为：0.8253012917851409\n"
     ]
    }
   ],
   "source": [
    "sepallength = np.loadtxt(url, dtype=float, delimiter=',',usecols=0)\n",
    "print(\"平均值为：\"+str(sepallength.mean()))\n",
    "print(\"中值为：\"+str(np.median(sepallength)))\n",
    "print(\"标准差为：\"+str(np.std(sepallength)))"
   ],
   "metadata": {
    "collapsed": false,
    "pycharm": {
     "name": "#%%\n"
    }
   }
  },
  {
   "cell_type": "code",
   "execution_count": null,
   "outputs": [],
   "source": [],
   "metadata": {
    "collapsed": false,
    "pycharm": {
     "name": "#%%\n"
    }
   }
  }
 ],
 "metadata": {
  "kernelspec": {
   "display_name": "Python 3",
   "language": "python",
   "name": "python3"
  },
  "language_info": {
   "codemirror_mode": {
    "name": "ipython",
    "version": 3
   },
   "file_extension": ".py",
   "mimetype": "text/x-python",
   "name": "python",
   "nbconvert_exporter": "python",
   "pygments_lexer": "ipython3",
   "version": "3.7.6"
  }
 },
 "nbformat": 4,
 "nbformat_minor": 4
}