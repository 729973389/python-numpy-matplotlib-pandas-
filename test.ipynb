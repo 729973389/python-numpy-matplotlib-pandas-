{
 "cells": [
  {
   "cell_type": "code",
   "execution_count": 2,
   "metadata": {
    "collapsed": true
   },
   "outputs": [
    {
     "name": "stdout",
     "output_type": "stream",
     "text": [
      "// The Test Table\n",
      "digraph {\n",
      "\tA [label=\"Dot A\"]\n",
      "\tB [label=\"Dot B\"]\n",
      "\tC [label=\"Dot C\" color=red]\n",
      "\tA -> B\n",
      "\tA -> C\n",
      "\tA -> B\n",
      "\tB -> C [label=test]\n",
      "}\n",
      "\n"
     ]
    },
    {
     "data": {
      "text/plain": "'test-table.gv.pdf'"
     },
     "execution_count": 2,
     "metadata": {},
     "output_type": "execute_result"
    }
   ],
   "source": [
    "from graphviz import Digraph\n",
    "\n",
    "dot = Digraph(comment='The Test Table')\n",
    "# 添加圆点A,A的标签是Dot A\n",
    "dot.node('A', 'Dot A')\n",
    "# 添加圆点 B, B的标签是Dot B\n",
    "dot.node('B', 'Dot B')\n",
    "# dot.view()\n",
    "# 添加圆点 C, C的标签是Dot C\n",
    "dot.node(name='C', label= 'Dot C',color='red')\n",
    "# dot.view()\n",
    "\n",
    "# 创建一堆边，即连接AB的两条边，连接AC的一条边。\n",
    "dot.edges(['AB', 'AC', 'AB'])\n",
    "# dot.view()\n",
    "# 在创建两圆点之间创建一条边\n",
    "dot.edge('B', 'C', 'test')\n",
    "# dot.view()\n",
    "\n",
    "# 获取DOT source源码的字符串形式\n",
    "print(dot.source)\n",
    "dot.view()\n",
    "dot.render('test-table.gv', view=True)"
   ]
  },
  {
   "cell_type": "code",
   "execution_count": null,
   "outputs": [],
   "source": [],
   "metadata": {
    "collapsed": false,
    "pycharm": {
     "name": "#%%\n"
    }
   }
  }
 ],
 "metadata": {
  "kernelspec": {
   "display_name": "Python 3",
   "language": "python",
   "name": "python3"
  },
  "language_info": {
   "codemirror_mode": {
    "name": "ipython",
    "version": 2
   },
   "file_extension": ".py",
   "mimetype": "text/x-python",
   "name": "python",
   "nbconvert_exporter": "python",
   "pygments_lexer": "ipython2",
   "version": "2.7.6"
  }
 },
 "nbformat": 4,
 "nbformat_minor": 0
}